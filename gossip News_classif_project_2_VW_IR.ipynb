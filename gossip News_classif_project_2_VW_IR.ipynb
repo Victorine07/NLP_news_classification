{
 "cells": [
  {
   "cell_type": "markdown",
   "metadata": {},
   "source": [
    "PROJECT 2: Data Mining: fake news detection within online social media\n",
    "\n",
    "\n",
    "### \n",
    "\n",
    "for the slides presentation: https://www.youtube.com/watch?v=cEQXTsZrf8g\n"
   ]
  },
  {
   "cell_type": "code",
   "execution_count": 87,
   "metadata": {},
   "outputs": [],
   "source": [
    "import numpy as np\n",
    "import pandas as pd\n",
    "import seaborn as sns\n",
    "import matplotlib.pyplot as plt\n",
    "%matplotlib inline\n",
    "\n",
    "import string\n",
    "import nltk\n",
    "from stop_words import get_stop_words\n",
    "from nltk.corpus import stopwords\n",
    "from nltk.stem.porter import PorterStemmer\n",
    "from nltk import word_tokenize\n",
    "\n",
    "from nltk.tokenize import WhitespaceTokenizer \n",
    "from sklearn.feature_extraction.text import CountVectorizer\n",
    "from sklearn.feature_extraction.text import TfidfTransformer\n",
    "from sklearn.naive_bayes import MultinomialNB\n",
    "from sklearn.pipeline import Pipeline\n",
    "\n",
    "from sklearn.ensemble import RandomForestClassifier\n",
    "from sklearn.linear_model import PassiveAggressiveClassifier\n",
    "from sklearn.metrics import plot_confusion_matrix\n",
    "from sklearn.model_selection import train_test_split,GridSearchCV, cross_val_score, StratifiedKFold\n",
    "from sklearn.metrics import classification_report,confusion_matrix,accuracy_score"
   ]
  },
  {
   "cell_type": "code",
   "execution_count": 3,
   "metadata": {},
   "outputs": [],
   "source": [
    "# dataset \n",
    "# we will be using the  buzz feed news  on twitter as dataset\n",
    "\n",
    "# What we plan on doing is to predict if a news is fake or real based on the words in the title and the text content (body)/ \n",
    "# then, what we want to do is give more weight to the words in the title and redo the process, \n",
    "# using random forest algorithms\n",
    "\n",
    "\n"
   ]
  },
  {
   "cell_type": "code",
   "execution_count": 88,
   "metadata": {},
   "outputs": [
    {
     "name": "stdout",
     "output_type": "stream",
     "text": [
      "(116, 5)\n",
      "(114, 5)\n"
     ]
    }
   ],
   "source": [
    "# loading dataset: we have real and fake one\n",
    "df_real=pd.read_csv('gossip_full_real.csv')\n",
    "print(df_real.shape)\n",
    "df_fake=pd.read_csv('gossip_full_fake.csv')\n",
    "print(df_fake.shape)"
   ]
  },
  {
   "cell_type": "code",
   "execution_count": 89,
   "metadata": {},
   "outputs": [
    {
     "name": "stdout",
     "output_type": "stream",
     "text": [
      "(230, 5)\n"
     ]
    },
    {
     "data": {
      "text/html": [
       "<div>\n",
       "<style scoped>\n",
       "    .dataframe tbody tr th:only-of-type {\n",
       "        vertical-align: middle;\n",
       "    }\n",
       "\n",
       "    .dataframe tbody tr th {\n",
       "        vertical-align: top;\n",
       "    }\n",
       "\n",
       "    .dataframe thead th {\n",
       "        text-align: right;\n",
       "    }\n",
       "</style>\n",
       "<table border=\"1\" class=\"dataframe\">\n",
       "  <thead>\n",
       "    <tr style=\"text-align: right;\">\n",
       "      <th></th>\n",
       "      <th>news_url</th>\n",
       "      <th>title</th>\n",
       "      <th>text</th>\n",
       "      <th>source</th>\n",
       "      <th>type</th>\n",
       "    </tr>\n",
       "  </thead>\n",
       "  <tbody>\n",
       "    <tr>\n",
       "      <th>0</th>\n",
       "      <td>www.dailymail.co.uk/tvshowbiz/article-5874213/...</td>\n",
       "      <td>Did Miley Cyrus and Liam Hemsworth secretly ge...</td>\n",
       "      <td>Home U.K. News Sports U.S. Showbiz Australia F...</td>\n",
       "      <td>www.dailymail.co.uk</td>\n",
       "      <td>fake</td>\n",
       "    </tr>\n",
       "    <tr>\n",
       "      <th>1</th>\n",
       "      <td>hollywoodlife.com/2018/05/05/paris-jackson-car...</td>\n",
       "      <td>Paris Jackson &amp; Cara Delevingne Enjoy Night Ou...</td>\n",
       "      <td>NaN</td>\n",
       "      <td>hollywoodlife.com</td>\n",
       "      <td>fake</td>\n",
       "    </tr>\n",
       "    <tr>\n",
       "      <th>2</th>\n",
       "      <td>variety.com/2017/biz/news/tax-march-donald-tru...</td>\n",
       "      <td>Celebrities Join Tax March in Protest of Donal...</td>\n",
       "      <td>× Plus Icon Click to expand the Mega Menu Plus...</td>\n",
       "      <td>variety.com</td>\n",
       "      <td>fake</td>\n",
       "    </tr>\n",
       "    <tr>\n",
       "      <th>3</th>\n",
       "      <td>www.dailymail.co.uk/femail/article-3499192/Do-...</td>\n",
       "      <td>Cindy Crawford's daughter Kaia Gerber wears a ...</td>\n",
       "      <td>Home U.K. News Sports U.S. Showbiz Australia F...</td>\n",
       "      <td>www.dailymail.co.uk</td>\n",
       "      <td>fake</td>\n",
       "    </tr>\n",
       "  </tbody>\n",
       "</table>\n",
       "</div>"
      ],
      "text/plain": [
       "                                            news_url  \\\n",
       "0  www.dailymail.co.uk/tvshowbiz/article-5874213/...   \n",
       "1  hollywoodlife.com/2018/05/05/paris-jackson-car...   \n",
       "2  variety.com/2017/biz/news/tax-march-donald-tru...   \n",
       "3  www.dailymail.co.uk/femail/article-3499192/Do-...   \n",
       "\n",
       "                                               title  \\\n",
       "0  Did Miley Cyrus and Liam Hemsworth secretly ge...   \n",
       "1  Paris Jackson & Cara Delevingne Enjoy Night Ou...   \n",
       "2  Celebrities Join Tax March in Protest of Donal...   \n",
       "3  Cindy Crawford's daughter Kaia Gerber wears a ...   \n",
       "\n",
       "                                                text               source  \\\n",
       "0  Home U.K. News Sports U.S. Showbiz Australia F...  www.dailymail.co.uk   \n",
       "1                                                NaN    hollywoodlife.com   \n",
       "2  × Plus Icon Click to expand the Mega Menu Plus...          variety.com   \n",
       "3  Home U.K. News Sports U.S. Showbiz Australia F...  www.dailymail.co.uk   \n",
       "\n",
       "   type  \n",
       "0  fake  \n",
       "1  fake  \n",
       "2  fake  \n",
       "3  fake  "
      ]
     },
     "execution_count": 89,
     "metadata": {},
     "output_type": "execute_result"
    }
   ],
   "source": [
    "# concatenating the two dataframes\n",
    "data = pd.concat([df_fake,df_real], axis =0)\n",
    "print(data.shape)\n",
    "data.head(4)"
   ]
  },
  {
   "cell_type": "code",
   "execution_count": 90,
   "metadata": {},
   "outputs": [
    {
     "data": {
      "text/html": [
       "<div>\n",
       "<style scoped>\n",
       "    .dataframe tbody tr th:only-of-type {\n",
       "        vertical-align: middle;\n",
       "    }\n",
       "\n",
       "    .dataframe tbody tr th {\n",
       "        vertical-align: top;\n",
       "    }\n",
       "\n",
       "    .dataframe thead th {\n",
       "        text-align: right;\n",
       "    }\n",
       "</style>\n",
       "<table border=\"1\" class=\"dataframe\">\n",
       "  <thead>\n",
       "    <tr style=\"text-align: right;\">\n",
       "      <th></th>\n",
       "      <th>news_url</th>\n",
       "      <th>title</th>\n",
       "      <th>text</th>\n",
       "      <th>source</th>\n",
       "      <th>type</th>\n",
       "    </tr>\n",
       "  </thead>\n",
       "  <tbody>\n",
       "    <tr>\n",
       "      <th>count</th>\n",
       "      <td>230</td>\n",
       "      <td>230</td>\n",
       "      <td>193</td>\n",
       "      <td>230</td>\n",
       "      <td>230</td>\n",
       "    </tr>\n",
       "    <tr>\n",
       "      <th>unique</th>\n",
       "      <td>229</td>\n",
       "      <td>229</td>\n",
       "      <td>188</td>\n",
       "      <td>132</td>\n",
       "      <td>2</td>\n",
       "    </tr>\n",
       "    <tr>\n",
       "      <th>top</th>\n",
       "      <td>www.lifeandstylemag.com/posts/katie-holmes-jam...</td>\n",
       "      <td>Jamie Foxx Is \"Upset\" That Katie Holmes and Jo...</td>\n",
       "      <td>Continue to Hollywoodlife () SKIP AD Hollywood...</td>\n",
       "      <td>people.com</td>\n",
       "      <td>real</td>\n",
       "    </tr>\n",
       "    <tr>\n",
       "      <th>freq</th>\n",
       "      <td>2</td>\n",
       "      <td>2</td>\n",
       "      <td>3</td>\n",
       "      <td>14</td>\n",
       "      <td>116</td>\n",
       "    </tr>\n",
       "  </tbody>\n",
       "</table>\n",
       "</div>"
      ],
      "text/plain": [
       "                                                 news_url  \\\n",
       "count                                                 230   \n",
       "unique                                                229   \n",
       "top     www.lifeandstylemag.com/posts/katie-holmes-jam...   \n",
       "freq                                                    2   \n",
       "\n",
       "                                                    title  \\\n",
       "count                                                 230   \n",
       "unique                                                229   \n",
       "top     Jamie Foxx Is \"Upset\" That Katie Holmes and Jo...   \n",
       "freq                                                    2   \n",
       "\n",
       "                                                     text      source  type  \n",
       "count                                                 193         230   230  \n",
       "unique                                                188         132     2  \n",
       "top     Continue to Hollywoodlife () SKIP AD Hollywood...  people.com  real  \n",
       "freq                                                    3          14   116  "
      ]
     },
     "execution_count": 90,
     "metadata": {},
     "output_type": "execute_result"
    }
   ],
   "source": [
    "# data summary \n",
    "data.describe()"
   ]
  },
  {
   "cell_type": "code",
   "execution_count": 91,
   "metadata": {},
   "outputs": [
    {
     "name": "stdout",
     "output_type": "stream",
     "text": [
      "<class 'pandas.core.frame.DataFrame'>\n",
      "Int64Index: 230 entries, 0 to 115\n",
      "Data columns (total 5 columns):\n",
      " #   Column    Non-Null Count  Dtype \n",
      "---  ------    --------------  ----- \n",
      " 0   news_url  230 non-null    object\n",
      " 1   title     230 non-null    object\n",
      " 2   text      193 non-null    object\n",
      " 3   source    230 non-null    object\n",
      " 4   type      230 non-null    object\n",
      "dtypes: object(5)\n",
      "memory usage: 10.8+ KB\n"
     ]
    }
   ],
   "source": [
    "# we can already see that among the titles, there are 5 duplicates\n",
    "data.info()"
   ]
  },
  {
   "cell_type": "code",
   "execution_count": 92,
   "metadata": {},
   "outputs": [
    {
     "name": "stdout",
     "output_type": "stream",
     "text": [
      "news_url     0\n",
      "title        0\n",
      "text        37\n",
      "source       0\n",
      "type         0\n",
      "dtype: int64\n"
     ]
    }
   ],
   "source": [
    "# cleaning the data and extracting features:\n",
    "\n",
    "# checking missing and null values\n",
    "print(data.isna().sum())\n",
    "\n"
   ]
  },
  {
   "cell_type": "code",
   "execution_count": 93,
   "metadata": {},
   "outputs": [],
   "source": [
    "# droping the columns without text\n",
    "data.dropna( inplace=True )\n",
    "data.reset_index(drop=True, inplace=True)\n"
   ]
  },
  {
   "cell_type": "code",
   "execution_count": 98,
   "metadata": {},
   "outputs": [],
   "source": [
    "#real_order"
   ]
  },
  {
   "cell_type": "code",
   "execution_count": 97,
   "metadata": {},
   "outputs": [
    {
     "data": {
      "image/png": "[encoded data removed]",
      "text/plain": [
       "<Figure size 432x288 with 1 Axes>"
      ]
     },
     "metadata": {
      "needs_background": "light"
     },
     "output_type": "display_data"
    },
    {
     "data": {
      "image/png": "[encoded data removed]",
      "text/plain": [
       "<Figure size 432x288 with 1 Axes>"
      ]
     },
     "metadata": {
      "needs_background": "light"
     },
     "output_type": "display_data"
    }
   ],
   "source": [
    "# now, let\"s look at the source and see the difference between the real and fake sources\n",
    "real_order=data[data['type']=='real']['source'].value_counts().sort_values(ascending=False).index\n",
    "fake_order=data[data['type']=='fake']['source'].value_counts().sort_values(ascending=False).index\n",
    "\n",
    "# subplot for the real sources\n",
    "plt.subplot(1, 2, 1) \n",
    "#plt.figure(figsize=(10,6))\n",
    "sns.countplot(y='source', data=data[data['type']=='real'],order=real_order[0:20],palette='rocket')\n",
    "plt.xlabel('Count',fontsize=12)\n",
    "plt.ylabel('Source',fontsize=12)\n",
    "plt.title('Sources of Real News',fontsize=15)\n",
    "plt.show()\n",
    "\n",
    "# subplot for the fake sources\n",
    "plt.subplot(1, 2, 2) \n",
    "#plt.figure(figsize=(10,6))\n",
    "sns.countplot(y='source', data=data[data['type']=='fake'],order=fake_order[0:20],palette='rocket')\n",
    "plt.xlabel('Count',fontsize=12)\n",
    "plt.ylabel('Source',fontsize=12)\n",
    "plt.title('Sources of Fake News',fontsize=15)\n",
    "\n",
    "plt.show()\n"
   ]
  },
  {
   "cell_type": "code",
   "execution_count": 12,
   "metadata": {},
   "outputs": [],
   "source": [
    "#data[data['type']=='fake']['source'].unique()"
   ]
  },
  {
   "cell_type": "code",
   "execution_count": 99,
   "metadata": {},
   "outputs": [
    {
     "name": "stdout",
     "output_type": "stream",
     "text": [
      "['www.dailymail.co.uk', 'variety.com', 'en.wikipedia.org', 'www.usmagazine.com', 'www.hollywoodreporter.com', 'www.express.co.uk', 'www.thewrap.com', 'onairwithryan.iheart.com', 'www.usatoday.com', 'time.com', 'www.harpersbazaar.com', 'people.com', 'www.cnn.com', 'www.aol.com', 'www.esquire.com', 'www.etonline.com', 'www.independent.ie']\n"
     ]
    }
   ],
   "source": [
    "# let's check the sources that publish both fake and real news\n",
    "both_sources =[]\n",
    "for i in data[data['type']=='fake']['source'].unique():\n",
    "    if i in data[data['type']=='real']['source'].unique():\n",
    "        both_sources.append(i)\n",
    "\n",
    "print(both_sources)"
   ]
  },
  {
   "cell_type": "code",
   "execution_count": 100,
   "metadata": {},
   "outputs": [],
   "source": [
    "# let's plot the common sources with their ratio of real and fake news:\n",
    "data['common']= data['source'].apply(lambda x: x if x in both_sources else 0 )"
   ]
  },
  {
   "cell_type": "code",
   "execution_count": 101,
   "metadata": {},
   "outputs": [
    {
     "data": {
      "image/png": "[encoded data removed]",
      "text/plain": [
       "<Figure size 576x432 with 1 Axes>"
      ]
     },
     "metadata": {
      "needs_background": "light"
     },
     "output_type": "display_data"
    }
   ],
   "source": [
    "plt.figure(figsize=(8,6))\n",
    "sns.countplot(y='common',data=data[data['common']!=0],hue='type',palette='autumn')\n",
    "plt.xlabel('Count',fontsize=12)\n",
    "plt.ylabel('Source',fontsize=12)\n",
    "plt.legend(loc='best', title='News Type',fontsize=10)\n",
    "plt.title('Common Sources of Real and Fake News',fontsize=20)\n",
    "plt.show()"
   ]
  },
  {
   "cell_type": "code",
   "execution_count": 19,
   "metadata": {},
   "outputs": [],
   "source": [
    "# preprocessing of the title and text of news articles....\n",
    "# For this, we are going to :\n",
    " # convert text to lower case\n",
    " # remove numbern punctuation, extra spaces, special characters from the text corpus\n",
    " # removing stop words\n",
    " # stemming words to root\n"
   ]
  },
  {
   "cell_type": "code",
   "execution_count": 20,
   "metadata": {},
   "outputs": [
    {
     "name": "stderr",
     "output_type": "stream",
     "text": [
      "[nltk_data] Downloading package stopwords to\n",
      "[nltk_data]     /Users/vickyyounang/nltk_data...\n",
      "[nltk_data]   Package stopwords is already up-to-date!\n"
     ]
    },
    {
     "data": {
      "text/plain": [
       "True"
      ]
     },
     "execution_count": 20,
     "metadata": {},
     "output_type": "execute_result"
    }
   ],
   "source": [
    "nltk.download('stopwords')"
   ]
  },
  {
   "cell_type": "code",
   "execution_count": 21,
   "metadata": {},
   "outputs": [
    {
     "name": "stderr",
     "output_type": "stream",
     "text": [
      "[nltk_data] Downloading package punkt to\n",
      "[nltk_data]     /Users/vickyyounang/nltk_data...\n",
      "[nltk_data]   Package punkt is already up-to-date!\n"
     ]
    },
    {
     "data": {
      "text/plain": [
       "True"
      ]
     },
     "execution_count": 21,
     "metadata": {},
     "output_type": "execute_result"
    }
   ],
   "source": [
    "nltk.download('punkt')"
   ]
  },
  {
   "cell_type": "code",
   "execution_count": 22,
   "metadata": {},
   "outputs": [
    {
     "name": "stderr",
     "output_type": "stream",
     "text": [
      "[nltk_data] Downloading package stopwords to\n",
      "[nltk_data]     /Users/vickyyounang/nltk_data...\n",
      "[nltk_data]   Package stopwords is already up-to-date!\n"
     ]
    },
    {
     "data": {
      "text/plain": [
       "True"
      ]
     },
     "execution_count": 22,
     "metadata": {},
     "output_type": "execute_result"
    }
   ],
   "source": [
    "nltk.download('stopwords')"
   ]
  },
  {
   "cell_type": "code",
   "execution_count": 102,
   "metadata": {},
   "outputs": [
    {
     "data": {
      "text/plain": [
       "'!\"#$%&\\'()*+,-./:;<=>?@[\\\\]^_`{|}~'"
      ]
     },
     "execution_count": 102,
     "metadata": {},
     "output_type": "execute_result"
    }
   ],
   "source": [
    "import string\n",
    "string.punctuation"
   ]
  },
  {
   "cell_type": "code",
   "execution_count": 103,
   "metadata": {},
   "outputs": [],
   "source": [
    "# preprocessing function:\n",
    "\n",
    "ps = PorterStemmer()\n",
    "wt = WhitespaceTokenizer()\n",
    "\n",
    "def preprocess_text(text):\n",
    "    \n",
    "    #text = ''\n",
    "    #removing the stopwords\n",
    "    \n",
    "    #wordlist = word_tokenize(x)\n",
    "    \n",
    "    wordlist = word_tokenize(text)\n",
    "    #print(wordlist)\n",
    "    \n",
    "    # lower\n",
    "    text = [ word.lower() for word in wordlist]\n",
    "    \n",
    "    stop_words = list(get_stop_words('en'))         #About 900 stopwords\n",
    "    nltk_words = list(stopwords.words('english')) #About 150 stopwords$\n",
    "    stop_words.extend(nltk_words)\n",
    "    filtered_words = [word for word in text if word not in stop_words]\n",
    "    #print(filtered_words)\n",
    "    \n",
    "    \n",
    "    # removing special char \n",
    "    text = [word for word in filtered_words if (word.isalnum()==True) or (word==' ') ] \n",
    "    #print(text)\n",
    "    \n",
    "    #removing special characters and punctuation\n",
    "    #text = text.translate(str.maketrans('', '', string.punctuation))\n",
    "    #text = [word for word in text if word not in string.punctuation]\n",
    "    #text = [word.translate(str.maketrans('', '', string.punctuation)) for word in text]\n",
    "    text = [word for word in text if word not in string.punctuation]\n",
    "    #text2 = [word.translate(str.maketrans('', '', string.punctuation)) for word in text]\n",
    "    #wordlist = word_tokenize(text)\n",
    "    \n",
    "    #REMOVING NUMBERS\n",
    "    text = str(' ').join([i for i in text if not i.isdigit()])\n",
    "    \n",
    "    \n",
    "    \n",
    "    \n",
    "    #for sentence in intext:\n",
    "    #    text = text+' '+sentence\n",
    "    \n",
    "    #print(text)\n",
    "    # stemming the input words:\n",
    "    #psstem = [ps.stem(a) for a in text]\n",
    "    psstem = ps.stem(text)\n",
    "    #text = ' '.join(psstem)\n",
    "     \n",
    "    # removing spaces and getting only words:\n",
    "    text = wt.tokenize(psstem)\n",
    "    #print(text)\n",
    "     \n",
    "    \n",
    "    \n",
    "    \n",
    "    \n",
    "    \n",
    "    #print(text)\n",
    "    # lower case\n",
    "    out = ''\n",
    "    for word in text:\n",
    "        out = out+word.lower()+' '\n",
    "    #text = [ word.lower() for word in text]\n",
    "    #text = text.lower() \n",
    "    \n",
    "    # print (out)\n",
    "    \n",
    "    return out\n",
    "\n"
   ]
  },
  {
   "cell_type": "code",
   "execution_count": 104,
   "metadata": {},
   "outputs": [],
   "source": [
    "test = ['Proof The Mainstream Media Is Manipulating The Election By Taking Bill Clinton Out Of Context']"
   ]
  },
  {
   "cell_type": "code",
   "execution_count": 105,
   "metadata": {},
   "outputs": [],
   "source": [
    "a=[]\n",
    "\n",
    "for line in test:\n",
    "    a.append(preprocess_text(line))\n",
    "\n",
    "#a"
   ]
  },
  {
   "cell_type": "code",
   "execution_count": 106,
   "metadata": {},
   "outputs": [],
   "source": [
    "# getting the count per words given the dataset:\n",
    "def count_words(dataset):\n",
    "    \n",
    "    # preprocessing the dataset\n",
    "    dat_tit =[]\n",
    "    for line in dataset:\n",
    "        dat_tit.append(preprocess_text(line))\n",
    "    \n",
    "    # vectorising the output by wounts\n",
    "    countvect = CountVectorizer( ).fit( dat_tit)\n",
    "    df_title = countvect.transform(dat_tit)\n",
    "    print(pd.DataFrame(df_title.todense()).shape)\n",
    "    \n",
    "    # getting the sum for each word\n",
    "    new1=[]\n",
    "    for x in range(0,pd.DataFrame(df_title.todense()).shape[1]):\n",
    "        new1.append(countvect.get_feature_names()[x])\n",
    "\n",
    "    # tdf matrix\n",
    "    matrix=pd.DataFrame(df_title.todense(),columns=new1)\n",
    "\n",
    "    # sum for representation\n",
    "    sm1=[]\n",
    "    for x in new1:\n",
    "        sm1.append(matrix[x].sum())\n",
    "\n",
    "    trans=matrix.transpose()\n",
    "    trans['sum']=sm1\n",
    "    top=trans.sort_values(by='sum', ascending=False)\n",
    "    \n",
    "    return top\n",
    "    \n",
    "    \n",
    "    \n",
    "    "
   ]
  },
  {
   "cell_type": "code",
   "execution_count": 107,
   "metadata": {},
   "outputs": [
    {
     "name": "stdout",
     "output_type": "stream",
     "text": [
      "(92,)\n",
      "(92, 500)\n"
     ]
    },
    {
     "name": "stderr",
     "output_type": "stream",
     "text": [
      "/Users/vickyyounang/opt/anaconda3/lib/python3.7/site-packages/sklearn/utils/deprecation.py:87: FutureWarning: Function get_feature_names is deprecated; get_feature_names is deprecated in 1.0 and will be removed in 1.2. Please use get_feature_names_out instead.\n",
      "  warnings.warn(msg, category=FutureWarning)\n"
     ]
    }
   ],
   "source": [
    "# analysze title of fake and real news\n",
    "# here, the goal is to bring out the firsr top 25 topics of the different articles in their titles\n",
    "\n",
    "# fake\n",
    "df_fake=data[data['type']=='fake']\n",
    "\n",
    "print(df_fake['title'].shape)\n",
    "#type(df_fake['title'])\n",
    "\n",
    "top_fake_20=count_words(df_fake['title']).head(20)"
   ]
  },
  {
   "cell_type": "code",
   "execution_count": 108,
   "metadata": {},
   "outputs": [
    {
     "name": "stdout",
     "output_type": "stream",
     "text": [
      "(101,)\n",
      "(101, 623)\n"
     ]
    }
   ],
   "source": [
    "# for the real dataqet\n",
    "\n",
    "df_real=data[data['type']=='real']\n",
    "\n",
    "print(df_real['title'].shape)\n",
    "#type(df_fake['title'])\n",
    "\n",
    "top_real_20=count_words(df_real['title']).head(20)"
   ]
  },
  {
   "cell_type": "code",
   "execution_count": 44,
   "metadata": {},
   "outputs": [],
   "source": [
    "#top_real_20"
   ]
  },
  {
   "cell_type": "code",
   "execution_count": 109,
   "metadata": {},
   "outputs": [],
   "source": [
    "# merging the fake and real top 20\n",
    "\n",
    "#let's drop the useless columns, those not the sum\n",
    "top_fake_20.drop(list(range(0,df_fake['title'].shape[0])),axis=1,inplace=True)\n",
    "top_real_20.drop(list(range(0,df_real['title'].shape[0])),axis=1,inplace=True)\n",
    "\n",
    "# adding a category column\n",
    "top_real_20['type']='real'\n",
    "top_fake_20['type']='fake'\n"
   ]
  },
  {
   "cell_type": "code",
   "execution_count": 110,
   "metadata": {},
   "outputs": [],
   "source": [
    "# concat\n",
    "conc1_top_20=pd.concat([top_real_20,top_fake_20])"
   ]
  },
  {
   "cell_type": "code",
   "execution_count": 248,
   "metadata": {},
   "outputs": [
    {
     "data": {
      "image/png": "[encoded data removed]",
      "text/plain": [
       "<Figure size 864x720 with 1 Axes>"
      ]
     },
     "metadata": {
      "needs_background": "light"
     },
     "output_type": "display_data"
    }
   ],
   "source": [
    "# let's plot them\n",
    "plt.figure(figsize=(12,10))\n",
    "sns.barplot(y=conc1_top_20.index,x='sum',data=conc1_top_20,hue='type',palette='rocket')\n",
    "plt.xticks(rotation=90)\n",
    "plt.xlabel('Term Frequency of Words',fontsize=12)\n",
    "plt.ylabel('Top Words in Titles',fontsize=12)\n",
    "plt.legend(title='News Type',fontsize=12)\n",
    "plt.title('Frequency of Words in the Title of News by type',fontsize=20)\n",
    "plt.show()"
   ]
  },
  {
   "cell_type": "code",
   "execution_count": 112,
   "metadata": {},
   "outputs": [
    {
     "name": "stdout",
     "output_type": "stream",
     "text": [
      "real\n",
      "(101,)\n",
      "(101, 12531)\n",
      "fake\n",
      "(92,)\n",
      "(92, 13962)\n"
     ]
    }
   ],
   "source": [
    "# let's do the same process for the body of real and fake top 30\n",
    "\n",
    "# for the real dataqet\n",
    "print(\"real\")\n",
    "print(df_real['text'].shape)\n",
    "#type(df_fake['title'])\n",
    "\n",
    "top_Breal_30=count_words(df_real['text']).head(20)\n",
    "\n",
    "# for the fake dataqet\n",
    "print (\"fake\")\n",
    "print(df_fake['text'].shape)\n",
    "#type(df_fake['title'])\n",
    "\n",
    "top_Bfake_30=count_words(df_fake['text']).head(20)"
   ]
  },
  {
   "cell_type": "code",
   "execution_count": 218,
   "metadata": {},
   "outputs": [],
   "source": [
    "# merging the fake and real top 20\n",
    "\n",
    "#let's drop the useless columns, those not the sum\n",
    "top_Bfake_30.drop(list(range(0,df_fake['title'].shape[0])),axis=1,inplace=True)\n",
    "top_Breal_30.drop(list(range(0,df_real['title'].shape[0])),axis=1,inplace=True)\n",
    "\n",
    "# adding a category column\n",
    "top_Breal_30['type']='real'\n",
    "top_Bfake_30['type']='fake'\n",
    "# concat\n",
    "conc1_top_20_b=pd.concat([top_Breal_30,top_Bfake_30])"
   ]
  },
  {
   "cell_type": "code",
   "execution_count": 116,
   "metadata": {},
   "outputs": [
    {
     "data": {
      "image/png": "[encoded data removed]",
      "text/plain": [
       "<Figure size 864x720 with 1 Axes>"
      ]
     },
     "metadata": {
      "needs_background": "light"
     },
     "output_type": "display_data"
    }
   ],
   "source": [
    "# let's plot them\n",
    "plt.figure(figsize=(12,10))\n",
    "sns.barplot(y=conc1_top_20_b.index,x='sum',data=conc1_top_20_b,hue='type',palette='rocket')\n",
    "plt.xticks(rotation=90)\n",
    "plt.xlabel('Term Frequency of Words',fontsize=12)\n",
    "plt.ylabel('Top Words in Body',fontsize=12)\n",
    "plt.legend(title='News Type',fontsize=12)\n",
    "plt.title('Frequency of Words in the Body of News by type',fontsize=20)\n",
    "plt.show()"
   ]
  },
  {
   "cell_type": "code",
   "execution_count": 117,
   "metadata": {},
   "outputs": [],
   "source": [
    "# let's analyse the length of the title and body text\n",
    "data['title_length']=data['title'].apply(lambda x: len(x))\n",
    "data['body_length']=data['text'].apply(lambda x: len(x))"
   ]
  },
  {
   "cell_type": "code",
   "execution_count": 118,
   "metadata": {},
   "outputs": [
    {
     "data": {
      "image/png": "[encoded data removed]",
      "text/plain": [
       "<Figure size 720x432 with 1 Axes>"
      ]
     },
     "metadata": {
      "needs_background": "light"
     },
     "output_type": "display_data"
    }
   ],
   "source": [
    "# plotting title length\n",
    "plt.figure(figsize=(10,6))\n",
    "sns.kdeplot(data[data['type']=='real']['title_length'])\n",
    "sns.kdeplot(data[data['type']=='fake']['title_length'])\n",
    "plt.xlabel('Title Length',fontsize=12)\n",
    "plt.ylabel('Density',fontsize=12)\n",
    "plt.legend(title='News Type',fontsize=10,labels=['Real','Fake'])\n",
    "plt.title('Distribuiton of Title Length for Real and Fake News',fontsize=15)\n",
    "plt.show()"
   ]
  },
  {
   "cell_type": "code",
   "execution_count": 119,
   "metadata": {},
   "outputs": [
    {
     "data": {
      "image/png": "[encoded data removed]",
      "text/plain": [
       "<Figure size 720x432 with 1 Axes>"
      ]
     },
     "metadata": {
      "needs_background": "light"
     },
     "output_type": "display_data"
    }
   ],
   "source": [
    "# plotting title length\n",
    "plt.figure(figsize=(10,6))\n",
    "sns.kdeplot(data[data['type']=='real']['body_length'])\n",
    "sns.kdeplot(data[data['type']=='fake']['body_length'])\n",
    "plt.xlabel('Body Length',fontsize=12)\n",
    "plt.ylabel('Density',fontsize=12)\n",
    "plt.legend(title='News Type',fontsize=10,labels=['Real','Fake'])\n",
    "plt.title('Distribuiton of Body Length for Real and Fake News',fontsize=15)\n",
    "plt.show()"
   ]
  },
  {
   "cell_type": "markdown",
   "metadata": {},
   "source": [
    "### Classification\n",
    "#### Random Forest with the tdf of the body only"
   ]
  },
  {
   "cell_type": "code",
   "execution_count": 120,
   "metadata": {},
   "outputs": [],
   "source": [
    "yb= data['type']"
   ]
  },
  {
   "cell_type": "code",
   "execution_count": 121,
   "metadata": {},
   "outputs": [],
   "source": [
    "Xb= [preprocess_text(line)for line in data['text']]\n"
   ]
  },
  {
   "cell_type": "code",
   "execution_count": 122,
   "metadata": {},
   "outputs": [],
   "source": [
    "Xb_train, Xb_test, yb_train, yb_test = train_test_split(Xb, yb, test_size=0.3, random_state=0)"
   ]
  },
  {
   "cell_type": "code",
   "execution_count": 123,
   "metadata": {},
   "outputs": [
    {
     "name": "stdout",
     "output_type": "stream",
     "text": [
      "135 135 58 58\n"
     ]
    }
   ],
   "source": [
    "print(len(Xb_train),len(yb_train), len(Xb_test), len(yb_test) )"
   ]
  },
  {
   "cell_type": "code",
   "execution_count": 124,
   "metadata": {},
   "outputs": [],
   "source": [
    "def pipeL_rf():\n",
    "    pp=Pipeline([\n",
    "        ('bow',CountVectorizer()),\n",
    "        ('tfidf',TfidfTransformer()),\n",
    "        ('classifier',RandomForestClassifier())\n",
    "        ])\n",
    "    return pp\n"
   ]
  },
  {
   "cell_type": "code",
   "execution_count": 129,
   "metadata": {},
   "outputs": [
    {
     "data": {
      "text/plain": [
       "Pipeline(steps=[('bow', CountVectorizer()), ('tfidf', TfidfTransformer()),\n",
       "                ('classifier', RandomForestClassifier())])"
      ]
     },
     "execution_count": 129,
     "metadata": {},
     "output_type": "execute_result"
    }
   ],
   "source": [
    "pp=pipeL_rf()\n",
    "pp.fit(Xb_train,yb_train)"
   ]
  },
  {
   "cell_type": "code",
   "execution_count": 130,
   "metadata": {},
   "outputs": [],
   "source": [
    "# predicting the articles in the test set\n",
    "predictions1=pp.predict(Xb_test)"
   ]
  },
  {
   "cell_type": "code",
   "execution_count": 131,
   "metadata": {},
   "outputs": [
    {
     "name": "stdout",
     "output_type": "stream",
     "text": [
      "[[18  9]\n",
      " [11 20]]\n",
      "\n",
      "\n",
      "              precision    recall  f1-score   support\n",
      "\n",
      "        fake       0.62      0.67      0.64        27\n",
      "        real       0.69      0.65      0.67        31\n",
      "\n",
      "    accuracy                           0.66        58\n",
      "   macro avg       0.66      0.66      0.65        58\n",
      "weighted avg       0.66      0.66      0.66        58\n",
      "\n"
     ]
    }
   ],
   "source": [
    "print(confusion_matrix(yb_test, predictions1))\n",
    "print('\\n')\n",
    "print(classification_report(yb_test, predictions1))"
   ]
  },
  {
   "cell_type": "code",
   "execution_count": 132,
   "metadata": {},
   "outputs": [
    {
     "name": "stderr",
     "output_type": "stream",
     "text": [
      "/Users/vickyyounang/opt/anaconda3/lib/python3.7/site-packages/sklearn/utils/deprecation.py:87: FutureWarning: Function plot_confusion_matrix is deprecated; Function `plot_confusion_matrix` is deprecated in 1.0 and will be removed in 1.2. Use one of the class methods: ConfusionMatrixDisplay.from_predictions or ConfusionMatrixDisplay.from_estimator.\n",
      "  warnings.warn(msg, category=FutureWarning)\n"
     ]
    },
    {
     "data": {
      "image/png": "[encoded data removed]",
      "text/plain": [
       "<Figure size 432x288 with 2 Axes>"
      ]
     },
     "metadata": {
      "needs_background": "light"
     },
     "output_type": "display_data"
    }
   ],
   "source": [
    "plot_confusion_matrix(pp, Xb_test, yb_test)  \n",
    "plt.show()"
   ]
  },
  {
   "cell_type": "code",
   "execution_count": 134,
   "metadata": {},
   "outputs": [
    {
     "name": "stdout",
     "output_type": "stream",
     "text": [
      "              precision    recall  f1-score   support\n",
      "\n",
      "        fake       0.71      0.89      0.79        27\n",
      "        real       0.88      0.68      0.76        31\n",
      "\n",
      "    accuracy                           0.78        58\n",
      "   macro avg       0.79      0.78      0.78        58\n",
      "weighted avg       0.80      0.78      0.77        58\n",
      "\n"
     ]
    },
    {
     "name": "stderr",
     "output_type": "stream",
     "text": [
      "/Users/vickyyounang/opt/anaconda3/lib/python3.7/site-packages/sklearn/utils/deprecation.py:87: FutureWarning: Function plot_confusion_matrix is deprecated; Function `plot_confusion_matrix` is deprecated in 1.0 and will be removed in 1.2. Use one of the class methods: ConfusionMatrixDisplay.from_predictions or ConfusionMatrixDisplay.from_estimator.\n",
      "  warnings.warn(msg, category=FutureWarning)\n"
     ]
    },
    {
     "data": {
      "image/png": "[encoded data removed]",
      "text/plain": [
       "<Figure size 432x288 with 2 Axes>"
      ]
     },
     "metadata": {
      "needs_background": "light"
     },
     "output_type": "display_data"
    }
   ],
   "source": [
    "# let's see without text preprocessing\n",
    "Xb1= data['text']\n",
    "Xb1_train, Xb1_test, yb1_train, yb1_test = train_test_split(Xb1, yb, test_size=0.3, random_state=0)\n",
    "# new pipeline instance\n",
    "pp=pipeL_rf()\n",
    "pp.fit(Xb1_train,yb1_train)\n",
    "# predicting the articles in the test set\n",
    "predictions2=pp.predict(Xb1_test)\n",
    "print(classification_report(yb1_test, predictions2))\n",
    "plot_confusion_matrix(pp, Xb1_test, yb1_test)  \n",
    "plt.show()"
   ]
  },
  {
   "cell_type": "code",
   "execution_count": null,
   "metadata": {},
   "outputs": [],
   "source": [
    "# training the model without preprocessing is giving less accuracy than with pre processing, so we will keep the pre precess\n",
    "# let's try the prediction based on title only\n",
    "\n"
   ]
  },
  {
   "cell_type": "code",
   "execution_count": 135,
   "metadata": {},
   "outputs": [],
   "source": [
    "\n",
    "yt=data['type']\n",
    "Xt= [preprocess_text(line)for line in data['title']]\n",
    "Xt_train, Xt_test, yt_train, yt_test = train_test_split(Xt, yt, test_size=0.3, random_state=0)\n",
    "\n"
   ]
  },
  {
   "cell_type": "code",
   "execution_count": 138,
   "metadata": {},
   "outputs": [
    {
     "name": "stdout",
     "output_type": "stream",
     "text": [
      "              precision    recall  f1-score   support\n",
      "\n",
      "        fake       0.88      0.26      0.40        27\n",
      "        real       0.60      0.97      0.74        31\n",
      "\n",
      "    accuracy                           0.64        58\n",
      "   macro avg       0.74      0.61      0.57        58\n",
      "weighted avg       0.73      0.64      0.58        58\n",
      "\n"
     ]
    },
    {
     "name": "stderr",
     "output_type": "stream",
     "text": [
      "/Users/vickyyounang/opt/anaconda3/lib/python3.7/site-packages/sklearn/utils/deprecation.py:87: FutureWarning: Function plot_confusion_matrix is deprecated; Function `plot_confusion_matrix` is deprecated in 1.0 and will be removed in 1.2. Use one of the class methods: ConfusionMatrixDisplay.from_predictions or ConfusionMatrixDisplay.from_estimator.\n",
      "  warnings.warn(msg, category=FutureWarning)\n"
     ]
    },
    {
     "data": {
      "image/png": "[encoded data removed]",
      "text/plain": [
       "<Figure size 432x288 with 2 Axes>"
      ]
     },
     "metadata": {
      "needs_background": "light"
     },
     "output_type": "display_data"
    }
   ],
   "source": [
    "pp=pipeL_rf()\n",
    "pp.fit(Xt_train,yt_train)\n",
    "predictionstt=pp.predict(Xt_test)\n",
    "print(classification_report(yt_test, predictionstt))\n",
    "plot_confusion_matrix(pp, Xt_test, yt_test)  \n",
    "plt.show()"
   ]
  },
  {
   "cell_type": "code",
   "execution_count": null,
   "metadata": {
    "scrolled": true
   },
   "outputs": [],
   "source": []
  },
  {
   "cell_type": "code",
   "execution_count": 262,
   "metadata": {},
   "outputs": [
    {
     "name": "stdout",
     "output_type": "stream",
     "text": [
      "              precision    recall  f1-score   support\n",
      "\n",
      "        fake       0.60      0.44      0.51        27\n",
      "        real       0.61      0.74      0.67        31\n",
      "\n",
      "    accuracy                           0.60        58\n",
      "   macro avg       0.60      0.59      0.59        58\n",
      "weighted avg       0.60      0.60      0.59        58\n",
      "\n"
     ]
    },
    {
     "name": "stderr",
     "output_type": "stream",
     "text": [
      "/Users/vickyyounang/opt/anaconda3/lib/python3.7/site-packages/sklearn/utils/deprecation.py:87: FutureWarning: Function plot_confusion_matrix is deprecated; Function `plot_confusion_matrix` is deprecated in 1.0 and will be removed in 1.2. Use one of the class methods: ConfusionMatrixDisplay.from_predictions or ConfusionMatrixDisplay.from_estimator.\n",
      "  warnings.warn(msg, category=FutureWarning)\n"
     ]
    },
    {
     "data": {
      "image/png": "[encoded data removed]",
      "text/plain": [
       "<Figure size 432x288 with 2 Axes>"
      ]
     },
     "metadata": {
      "needs_background": "light"
     },
     "output_type": "display_data"
    }
   ],
   "source": [
    "# let's see without text preprocessing\n",
    "Xt1= data['title']\n",
    "yt1= data['type']\n",
    "Xt1_train, Xt1_test, yt1_train, yt1_test = train_test_split(Xt1, yt1, test_size=0.3, random_state=0)\n",
    "pp=pipeL_rf()\n",
    "pp.fit(Xt1_train,yt1_train)\n",
    "# predicting the articles in the test set\n",
    "predictions2=pp.predict(Xt1_test)\n",
    "print(classification_report(yt1_test, predictions2))\n",
    "plot_confusion_matrix(pp, Xt1_test, yt1_test)  \n",
    "plt.show()"
   ]
  },
  {
   "cell_type": "code",
   "execution_count": 147,
   "metadata": {},
   "outputs": [],
   "source": [
    "# this is not too good, especially for the fake news that are more classified as real. this can be seen in the recall of fake as well\n",
    "\n",
    "# ppbt=Pipeline([\n",
    "#    ('bow',CountVectorizer()),\n",
    "#    ('tfidf',TfidfTransformer()),\n",
    "#    ('classifier',RandomForestClassifier())\n",
    "#    ])"
   ]
  },
  {
   "cell_type": "code",
   "execution_count": 143,
   "metadata": {},
   "outputs": [],
   "source": [
    "# prediction using both title and body\n",
    "\n",
    "data['title_text']=data['title']+': ' +data['text']\n"
   ]
  },
  {
   "cell_type": "code",
   "execution_count": 144,
   "metadata": {},
   "outputs": [],
   "source": [
    "\n",
    "ybt=data['type']\n",
    "Xbt= [preprocess_text(line)for line in data['title_text']]\n",
    "Xbt_train, Xbt_test, ybt_train, ybt_test = train_test_split(Xbt, ybt, test_size=0.3, random_state=0)"
   ]
  },
  {
   "cell_type": "code",
   "execution_count": 263,
   "metadata": {},
   "outputs": [
    {
     "name": "stdout",
     "output_type": "stream",
     "text": [
      "              precision    recall  f1-score   support\n",
      "\n",
      "        fake       0.61      0.74      0.67        27\n",
      "        real       0.72      0.58      0.64        31\n",
      "\n",
      "    accuracy                           0.66        58\n",
      "   macro avg       0.66      0.66      0.65        58\n",
      "weighted avg       0.67      0.66      0.65        58\n",
      "\n"
     ]
    },
    {
     "name": "stderr",
     "output_type": "stream",
     "text": [
      "/Users/vickyyounang/opt/anaconda3/lib/python3.7/site-packages/sklearn/utils/deprecation.py:87: FutureWarning: Function plot_confusion_matrix is deprecated; Function `plot_confusion_matrix` is deprecated in 1.0 and will be removed in 1.2. Use one of the class methods: ConfusionMatrixDisplay.from_predictions or ConfusionMatrixDisplay.from_estimator.\n",
      "  warnings.warn(msg, category=FutureWarning)\n"
     ]
    },
    {
     "data": {
      "image/png": "[encoded data removed]",
      "text/plain": [
       "<Figure size 432x288 with 2 Axes>"
      ]
     },
     "metadata": {
      "needs_background": "light"
     },
     "output_type": "display_data"
    }
   ],
   "source": [
    "\n",
    "ppbt=pipeL_rf()\n",
    "ppbt.fit(Xbt_train,ybt_train)\n",
    "predictionstt=ppbt.predict(Xbt_test)\n",
    "\n",
    "print(classification_report(ybt_test, predictionstt))\n",
    "plot_confusion_matrix(ppbt, Xbt_test, ybt_test)  \n",
    "plt.show()"
   ]
  },
  {
   "cell_type": "code",
   "execution_count": 152,
   "metadata": {},
   "outputs": [
    {
     "name": "stdout",
     "output_type": "stream",
     "text": [
      "              precision    recall  f1-score   support\n",
      "\n",
      "        fake       0.65      0.81      0.72        27\n",
      "        real       0.79      0.61      0.69        31\n",
      "\n",
      "    accuracy                           0.71        58\n",
      "   macro avg       0.72      0.71      0.71        58\n",
      "weighted avg       0.72      0.71      0.71        58\n",
      "\n"
     ]
    },
    {
     "name": "stderr",
     "output_type": "stream",
     "text": [
      "/Users/vickyyounang/opt/anaconda3/lib/python3.7/site-packages/sklearn/utils/deprecation.py:87: FutureWarning: Function plot_confusion_matrix is deprecated; Function `plot_confusion_matrix` is deprecated in 1.0 and will be removed in 1.2. Use one of the class methods: ConfusionMatrixDisplay.from_predictions or ConfusionMatrixDisplay.from_estimator.\n",
      "  warnings.warn(msg, category=FutureWarning)\n"
     ]
    },
    {
     "data": {
      "image/png": "[encoded data removed]",
      "text/plain": [
       "<Figure size 432x288 with 2 Axes>"
      ]
     },
     "metadata": {
      "needs_background": "light"
     },
     "output_type": "display_data"
    }
   ],
   "source": [
    "# let's see without text preprocessing\n",
    "Xbt1= data['title_text']\n",
    "ybt1= data['type']\n",
    "Xbt1_train, Xbt1_test, ybt1_train, ybt1_test = train_test_split(Xbt1, ybt1, test_size=0.3, random_state=0)\n",
    "ppbt=pipeL_rf()\n",
    "ppbt.fit(Xbt1_train,ybt1_train)\n",
    "# predicting the articles in the test set\n",
    "predictions2=ppbt.predict(Xbt1_test)\n",
    "print(classification_report(ybt1_test, predictions2))\n",
    "plot_confusion_matrix(ppbt, Xbt1_test, ybt1_test)  \n",
    "plt.show()"
   ]
  },
  {
   "cell_type": "code",
   "execution_count": null,
   "metadata": {},
   "outputs": [],
   "source": []
  },
  {
   "cell_type": "code",
   "execution_count": null,
   "metadata": {},
   "outputs": [],
   "source": []
  },
  {
   "cell_type": "code",
   "execution_count": 153,
   "metadata": {},
   "outputs": [],
   "source": [
    "# let's try to predict with a weight of 2 more on the body words\n",
    "\n",
    "data['title_text2']=': ' +data['title']+data['text']+': ' +data['text']"
   ]
  },
  {
   "cell_type": "code",
   "execution_count": 158,
   "metadata": {},
   "outputs": [],
   "source": [
    "ybt2= data['type']\n",
    "Xbt2= [preprocess_text(line)for line in data['title_text2']]\n"
   ]
  },
  {
   "cell_type": "code",
   "execution_count": 178,
   "metadata": {},
   "outputs": [
    {
     "name": "stdout",
     "output_type": "stream",
     "text": [
      "              precision    recall  f1-score   support\n",
      "\n",
      "        fake       0.69      0.74      0.71        27\n",
      "        real       0.76      0.71      0.73        31\n",
      "\n",
      "    accuracy                           0.72        58\n",
      "   macro avg       0.72      0.73      0.72        58\n",
      "weighted avg       0.73      0.72      0.72        58\n",
      "\n"
     ]
    },
    {
     "name": "stderr",
     "output_type": "stream",
     "text": [
      "/Users/vickyyounang/opt/anaconda3/lib/python3.7/site-packages/sklearn/utils/deprecation.py:87: FutureWarning: Function plot_confusion_matrix is deprecated; Function `plot_confusion_matrix` is deprecated in 1.0 and will be removed in 1.2. Use one of the class methods: ConfusionMatrixDisplay.from_predictions or ConfusionMatrixDisplay.from_estimator.\n",
      "  warnings.warn(msg, category=FutureWarning)\n"
     ]
    },
    {
     "data": {
      "image/png": "[encoded data removed]",
      "text/plain": [
       "<Figure size 432x288 with 2 Axes>"
      ]
     },
     "metadata": {
      "needs_background": "light"
     },
     "output_type": "display_data"
    }
   ],
   "source": [
    "Xbt2_train, Xbt2_test, ybt2_train, ybt2_test = train_test_split(Xbt2, ybt2, test_size=0.3, random_state=0)\n",
    "ppbt=pipeL_rf()\n",
    "ppbt.fit(Xbt2_train,ybt2_train)\n",
    "predictionstt=ppbt.predict(Xbt2_test)\n",
    "\n",
    "print(classification_report(ybt2_test, predictionstt))\n",
    "plot_confusion_matrix(ppbt, Xbt2_test, ybt2_test)  \n",
    "plt.show()"
   ]
  },
  {
   "cell_type": "markdown",
   "metadata": {},
   "source": [
    "the best up here was 76"
   ]
  },
  {
   "cell_type": "code",
   "execution_count": 271,
   "metadata": {},
   "outputs": [
    {
     "name": "stdout",
     "output_type": "stream",
     "text": [
      "              precision    recall  f1-score   support\n",
      "\n",
      "        fake       0.71      0.81      0.76        27\n",
      "        real       0.81      0.71      0.76        31\n",
      "\n",
      "    accuracy                           0.76        58\n",
      "   macro avg       0.76      0.76      0.76        58\n",
      "weighted avg       0.77      0.76      0.76        58\n",
      "\n"
     ]
    },
    {
     "name": "stderr",
     "output_type": "stream",
     "text": [
      "/Users/vickyyounang/opt/anaconda3/lib/python3.7/site-packages/sklearn/utils/deprecation.py:87: FutureWarning: Function plot_confusion_matrix is deprecated; Function `plot_confusion_matrix` is deprecated in 1.0 and will be removed in 1.2. Use one of the class methods: ConfusionMatrixDisplay.from_predictions or ConfusionMatrixDisplay.from_estimator.\n",
      "  warnings.warn(msg, category=FutureWarning)\n"
     ]
    },
    {
     "data": {
      "image/png": "[encoded data removed]",
      "text/plain": [
       "<Figure size 432x288 with 2 Axes>"
      ]
     },
     "metadata": {
      "needs_background": "light"
     },
     "output_type": "display_data"
    }
   ],
   "source": [
    "# let's see without text preprocessing\n",
    "Xbt21= data['title_text2']\n",
    "ybt21= data['type']\n",
    "Xbt21_train, Xbt21_test, ybt21_train, ybt21_test = train_test_split(Xbt21, ybt21, test_size=0.3, random_state=0)\n",
    "ppbt=pipeL_rf()\n",
    "ppbt.fit(Xbt21_train,ybt21_train)\n",
    "# predicting the articles in the test set\n",
    "predictions2=ppbt.predict(Xbt21_test)\n",
    "print(classification_report(ybt21_test, predictions2))\n",
    "plot_confusion_matrix(ppbt, Xbt21_test, ybt21_test)  \n",
    "plt.show()\n"
   ]
  },
  {
   "cell_type": "code",
   "execution_count": null,
   "metadata": {},
   "outputs": [],
   "source": []
  },
  {
   "cell_type": "markdown",
   "metadata": {},
   "source": [
    "#### XG boosting classifier\n"
   ]
  },
  {
   "cell_type": "code",
   "execution_count": 180,
   "metadata": {},
   "outputs": [],
   "source": [
    "import os\n",
    "os.environ['KMP_DUPLICATE_LIB_OK']='True'\n",
    "from xgboost import XGBClassifier\n",
    "import xgboost\n"
   ]
  },
  {
   "cell_type": "code",
   "execution_count": 83,
   "metadata": {},
   "outputs": [
    {
     "name": "stdout",
     "output_type": "stream",
     "text": [
      "0.80\n"
     ]
    }
   ],
   "source": [
    "print(xgboost.__version__)"
   ]
  },
  {
   "cell_type": "code",
   "execution_count": 84,
   "metadata": {},
   "outputs": [],
   "source": [
    "# couldn't run the version 1.5; kernel would continuously crash"
   ]
  },
  {
   "cell_type": "code",
   "execution_count": 181,
   "metadata": {},
   "outputs": [],
   "source": [
    "def pp_xgb(rs=0,ss=0.7):\n",
    "    xgb = XGBClassifier(random_state=rs, seed=2, colsample_bytree=0.6, subsample=ss)\n",
    "    ppxg=Pipeline([\n",
    "        ('bow',CountVectorizer()),\n",
    "        ('tfidf',TfidfTransformer()),\n",
    "        ('classifier', xgb )\n",
    "        ])\n",
    "    return ppxg"
   ]
  },
  {
   "cell_type": "code",
   "execution_count": 182,
   "metadata": {},
   "outputs": [],
   "source": [
    "#pipeline = Pipeline([\n",
    "#  (\"vectorizer\", TfidfVectorizer()),\n",
    "#  (\"classifier\", XGBClassifier())\n",
    "#])\n",
    "\n",
    "ppxg=pp_xgb()"
   ]
  },
  {
   "cell_type": "code",
   "execution_count": 183,
   "metadata": {},
   "outputs": [
    {
     "data": {
      "text/plain": [
       "Pipeline(steps=[('bow', CountVectorizer()), ('tfidf', TfidfTransformer()),\n",
       "                ('classifier',\n",
       "                 XGBClassifier(colsample_bytree=0.6, seed=2, subsample=0.7))])"
      ]
     },
     "execution_count": 183,
     "metadata": {},
     "output_type": "execute_result"
    }
   ],
   "source": [
    "ppxg.fit(Xt_train,yt_train)"
   ]
  },
  {
   "cell_type": "code",
   "execution_count": 184,
   "metadata": {},
   "outputs": [],
   "source": [
    "# title preprocessed\n",
    "predictionsxg=ppxg.predict(Xt_test)"
   ]
  },
  {
   "cell_type": "code",
   "execution_count": 185,
   "metadata": {
    "scrolled": true
   },
   "outputs": [
    {
     "name": "stdout",
     "output_type": "stream",
     "text": [
      "              precision    recall  f1-score   support\n",
      "\n",
      "        fake       0.86      0.22      0.35        27\n",
      "        real       0.59      0.97      0.73        31\n",
      "\n",
      "    accuracy                           0.62        58\n",
      "   macro avg       0.72      0.59      0.54        58\n",
      "weighted avg       0.71      0.62      0.56        58\n",
      "\n"
     ]
    },
    {
     "name": "stderr",
     "output_type": "stream",
     "text": [
      "/Users/vickyyounang/opt/anaconda3/lib/python3.7/site-packages/sklearn/utils/deprecation.py:87: FutureWarning: Function plot_confusion_matrix is deprecated; Function `plot_confusion_matrix` is deprecated in 1.0 and will be removed in 1.2. Use one of the class methods: ConfusionMatrixDisplay.from_predictions or ConfusionMatrixDisplay.from_estimator.\n",
      "  warnings.warn(msg, category=FutureWarning)\n"
     ]
    },
    {
     "data": {
      "image/png": "[encoded data removed]",
      "text/plain": [
       "<Figure size 432x288 with 2 Axes>"
      ]
     },
     "metadata": {
      "needs_background": "light"
     },
     "output_type": "display_data"
    }
   ],
   "source": [
    "print(classification_report(yt_test, predictionsxg))\n",
    "plot_confusion_matrix(ppxg, Xt_test, yt_test)  \n",
    "plt.show()"
   ]
  },
  {
   "cell_type": "code",
   "execution_count": 273,
   "metadata": {},
   "outputs": [
    {
     "name": "stdout",
     "output_type": "stream",
     "text": [
      "              precision    recall  f1-score   support\n",
      "\n",
      "        fake       0.49      0.67      0.56        27\n",
      "        real       0.57      0.39      0.46        31\n",
      "\n",
      "    accuracy                           0.52        58\n",
      "   macro avg       0.53      0.53      0.51        58\n",
      "weighted avg       0.53      0.52      0.51        58\n",
      "\n"
     ]
    },
    {
     "name": "stderr",
     "output_type": "stream",
     "text": [
      "/Users/vickyyounang/opt/anaconda3/lib/python3.7/site-packages/sklearn/utils/deprecation.py:87: FutureWarning: Function plot_confusion_matrix is deprecated; Function `plot_confusion_matrix` is deprecated in 1.0 and will be removed in 1.2. Use one of the class methods: ConfusionMatrixDisplay.from_predictions or ConfusionMatrixDisplay.from_estimator.\n",
      "  warnings.warn(msg, category=FutureWarning)\n"
     ]
    },
    {
     "data": {
      "image/png": "[encoded data removed]",
      "text/plain": [
       "<Figure size 432x288 with 2 Axes>"
      ]
     },
     "metadata": {
      "needs_background": "light"
     },
     "output_type": "display_data"
    }
   ],
   "source": [
    "# title without preprocessing\n",
    "ppxg=pp_xgb()\n",
    "ppxg.fit(Xt1_train,yt1_train)\n",
    "\n",
    "predictionsxg=ppxg.predict(Xt1_test)\n",
    "\n",
    "print(classification_report(yt1_test, predictionsxg))\n",
    "plot_confusion_matrix(ppxg, Xt1_test, yt1_test)  \n",
    "plt.show()\n"
   ]
  },
  {
   "cell_type": "code",
   "execution_count": 274,
   "metadata": {},
   "outputs": [
    {
     "name": "stdout",
     "output_type": "stream",
     "text": [
      "body dataset PREPROCESSD \n",
      "              precision    recall  f1-score   support\n",
      "\n",
      "        fake       0.53      0.67      0.59        27\n",
      "        real       0.62      0.48      0.55        31\n",
      "\n",
      "    accuracy                           0.57        58\n",
      "   macro avg       0.58      0.58      0.57        58\n",
      "weighted avg       0.58      0.57      0.57        58\n",
      "\n"
     ]
    }
   ],
   "source": [
    "# body dataset PREPROCESSD \n",
    "ppxg=pp_xgb()\n",
    "ppxg.fit(Xb_train,yb_train)\n",
    "\n",
    "predictionsxg=ppxg.predict(Xb_test)\n",
    "\n",
    "print(\"body dataset PREPROCESSD \")\n",
    "print(classification_report(yb_test, predictionsxg))\n",
    "#plot_confusion_matrix(ppxg, Xb_test, yb_test)  \n",
    "#plt.show()"
   ]
  },
  {
   "cell_type": "code",
   "execution_count": 275,
   "metadata": {},
   "outputs": [
    {
     "name": "stdout",
     "output_type": "stream",
     "text": [
      "body dataset not PREPROCESSD\n",
      "              precision    recall  f1-score   support\n",
      "\n",
      "        fake       0.61      0.74      0.67        27\n",
      "        real       0.72      0.58      0.64        31\n",
      "\n",
      "    accuracy                           0.66        58\n",
      "   macro avg       0.66      0.66      0.65        58\n",
      "weighted avg       0.67      0.66      0.65        58\n",
      "\n"
     ]
    }
   ],
   "source": [
    "# body dataset Non preprocessed\n",
    "ppxg=pp_xgb()\n",
    "ppxg.fit(Xb1_train,yb1_train)\n",
    "\n",
    "predictionsxg=ppxg.predict(Xb1_test)\n",
    "\n",
    "print(\"body dataset not PREPROCESSD\")\n",
    "print(classification_report(yb1_test, predictionsxg))\n",
    "#plot_confusion_matrix(ppxg, Xb1_test, yb1_test)  \n",
    "#plt.show()"
   ]
  },
  {
   "cell_type": "code",
   "execution_count": null,
   "metadata": {},
   "outputs": [],
   "source": []
  },
  {
   "cell_type": "code",
   "execution_count": 196,
   "metadata": {},
   "outputs": [
    {
     "name": "stdout",
     "output_type": "stream",
     "text": [
      "body and title  dataset PREPROCESSD \n",
      "              precision    recall  f1-score   support\n",
      "\n",
      "        fake       0.60      0.78      0.68        27\n",
      "        real       0.74      0.55      0.63        31\n",
      "\n",
      "    accuracy                           0.66        58\n",
      "   macro avg       0.67      0.66      0.65        58\n",
      "weighted avg       0.67      0.66      0.65        58\n",
      "\n"
     ]
    }
   ],
   "source": [
    "# body and title dataset PREPROCESSED\n",
    "ppxg=pp_xgb()\n",
    "ppxg.fit(Xbt_train,ybt_train)\n",
    "\n",
    "predictionsxg=ppxg.predict(Xbt_test)\n",
    "\n",
    "print(\"body and title  dataset PREPROCESSD \")\n",
    "print(classification_report(ybt_test, predictionsxg))\n",
    "#plot_confusion_matrix(ppxg, Xbt_test, ybt_test)  \n",
    "#plt.show()"
   ]
  },
  {
   "cell_type": "code",
   "execution_count": 199,
   "metadata": {},
   "outputs": [
    {
     "name": "stdout",
     "output_type": "stream",
     "text": [
      "body and title  dataset non PREPROCESSD \n",
      "              precision    recall  f1-score   support\n",
      "\n",
      "        fake       0.69      0.74      0.71        27\n",
      "        real       0.76      0.71      0.73        31\n",
      "\n",
      "    accuracy                           0.72        58\n",
      "   macro avg       0.72      0.73      0.72        58\n",
      "weighted avg       0.73      0.72      0.72        58\n",
      "\n"
     ]
    }
   ],
   "source": [
    "# body and title dataset NON PREPROCESSD\n",
    "ppxg=pp_xgb()\n",
    "ppxg.fit(Xbt1_train,ybt1_train)\n",
    "\n",
    "predictionsxg=ppxg.predict(Xbt1_test)\n",
    "\n",
    "print(\"body and title  dataset non PREPROCESSD \")\n",
    "print(classification_report(ybt1_test, predictionsxg))\n",
    "#plot_confusion_matrix(ppxg, Xbt1_test, ybt1_test)  \n",
    "#plt.show()"
   ]
  },
  {
   "cell_type": "code",
   "execution_count": 201,
   "metadata": {},
   "outputs": [
    {
     "name": "stdout",
     "output_type": "stream",
     "text": [
      "body and title dataset modified preprocessed\n",
      "              precision    recall  f1-score   support\n",
      "\n",
      "        fake       0.58      0.70      0.63        27\n",
      "        real       0.68      0.55      0.61        31\n",
      "\n",
      "    accuracy                           0.62        58\n",
      "   macro avg       0.63      0.63      0.62        58\n",
      "weighted avg       0.63      0.62      0.62        58\n",
      "\n"
     ]
    }
   ],
   "source": [
    "# body and title dataset modified preprocessed\n",
    "ppxg=pp_xgb()\n",
    "ppxg.fit(Xbt2_train,ybt2_train)\n",
    "\n",
    "predictionsxg=ppxg.predict(Xbt2_test)\n",
    "\n",
    "print(\"body and title dataset modified preprocessed\")\n",
    "print(classification_report(ybt2_test, predictionsxg))\n",
    "#plot_confusion_matrix(ppxg, Xbt2_test, ybt2_test)  \n",
    "#plt.show()"
   ]
  },
  {
   "cell_type": "code",
   "execution_count": 203,
   "metadata": {},
   "outputs": [
    {
     "name": "stdout",
     "output_type": "stream",
     "text": [
      "body and title dataset modified non preprocessed\n",
      "              precision    recall  f1-score   support\n",
      "\n",
      "        fake       0.64      0.78      0.70        27\n",
      "        real       0.76      0.61      0.68        31\n",
      "\n",
      "    accuracy                           0.69        58\n",
      "   macro avg       0.70      0.70      0.69        58\n",
      "weighted avg       0.70      0.69      0.69        58\n",
      "\n"
     ]
    }
   ],
   "source": [
    "# body and title dataset modified NON preprocessed\n",
    "ppxg=pp_xgb()\n",
    "ppxg.fit(Xbt21_train,ybt21_train)\n",
    "\n",
    "predictionsxg=ppxg.predict(Xbt21_test)\n",
    "print('body and title dataset modified non preprocessed')\n",
    "print(classification_report(ybt21_test, predictionsxg))\n",
    "#plot_confusion_matrix(ppxg, Xbt21_test, ybt21_test)  \n",
    "#plt.show()"
   ]
  },
  {
   "cell_type": "code",
   "execution_count": null,
   "metadata": {},
   "outputs": [],
   "source": []
  },
  {
   "cell_type": "code",
   "execution_count": null,
   "metadata": {},
   "outputs": [],
   "source": []
  },
  {
   "cell_type": "code",
   "execution_count": 204,
   "metadata": {},
   "outputs": [
    {
     "data": {
      "text/plain": [
       "{'base_score': 0.5,\n",
       " 'booster': 'gbtree',\n",
       " 'colsample_bylevel': 1,\n",
       " 'colsample_bytree': 0.6,\n",
       " 'gamma': 0,\n",
       " 'learning_rate': 0.1,\n",
       " 'max_delta_step': 0,\n",
       " 'max_depth': 3,\n",
       " 'min_child_weight': 1,\n",
       " 'missing': None,\n",
       " 'n_estimators': 100,\n",
       " 'n_jobs': 1,\n",
       " 'nthread': None,\n",
       " 'objective': 'binary:logistic',\n",
       " 'random_state': 0,\n",
       " 'reg_alpha': 0,\n",
       " 'reg_lambda': 1,\n",
       " 'scale_pos_weight': 1,\n",
       " 'seed': 2,\n",
       " 'silent': True,\n",
       " 'subsample': 0.7}"
      ]
     },
     "execution_count": 204,
     "metadata": {},
     "output_type": "execute_result"
    }
   ],
   "source": [
    "# tuning parameter:\n",
    "\n",
    "ppxg.named_steps['classifier'].get_params()\n"
   ]
  },
  {
   "cell_type": "code",
   "execution_count": 276,
   "metadata": {},
   "outputs": [],
   "source": [
    "# those are the base parameters in the xgboost classifier, let's. tune them\n",
    "# changing the number of estimators\n",
    "# definition of parameter grid to scan through\n",
    "param_grid = {\n",
    "     'classifier__n_estimators': [100,200,300,500],\n",
    "     'classifier__random_state':[0,42],\n",
    "     'classifier__colsample_bytree': [0.6],\n",
    "     'classifier__subsample': [0.5, 0.6, 0.7],\n",
    "    'classifier__learning_rate':[0.05, 0.01]\n",
    "}\n"
   ]
  },
  {
   "cell_type": "code",
   "execution_count": 277,
   "metadata": {},
   "outputs": [
    {
     "data": {
      "text/plain": [
       "GridSearchCV(cv=5,\n",
       "             estimator=Pipeline(steps=[('bow', CountVectorizer()),\n",
       "                                       ('tfidf', TfidfTransformer()),\n",
       "                                       ('classifier',\n",
       "                                        XGBClassifier(colsample_bytree=0.6,\n",
       "                                                      seed=2,\n",
       "                                                      subsample=0.7))]),\n",
       "             n_jobs=1,\n",
       "             param_grid={'classifier__colsample_bytree': [0.6],\n",
       "                         'classifier__learning_rate': [0.05, 0.01],\n",
       "                         'classifier__n_estimators': [100, 200, 300, 500],\n",
       "                         'classifier__random_state': [0, 42],\n",
       "                         'classifier__subsample': [0.5, 0.6, 0.7]},\n",
       "             return_train_score=True)"
      ]
     },
     "execution_count": 277,
     "metadata": {},
     "output_type": "execute_result"
    }
   ],
   "source": [
    "#\n",
    "# grid search cross validation instantiation\n",
    "ppxg=pp_xgb()\n",
    "grid_search = GridSearchCV(estimator = ppxg, param_grid = param_grid, \n",
    "                          cv = 5, n_jobs = 1, verbose = 0, return_train_score=True)\n",
    "#hyperparameter fitting\n",
    "grid_search.fit(Xt_train, yt_train)"
   ]
  },
  {
   "cell_type": "code",
   "execution_count": null,
   "metadata": {},
   "outputs": [],
   "source": []
  },
  {
   "cell_type": "code",
   "execution_count": 278,
   "metadata": {},
   "outputs": [
    {
     "name": "stdout",
     "output_type": "stream",
     "text": [
      "train scores\n",
      "[0.56296296 0.58148148 0.58703704 0.56296296 0.58148148 0.58703704\n",
      " 0.58148148 0.5962963  0.5962963  0.58148148 0.5962963  0.5962963\n",
      " 0.58333333 0.58888889 0.59444444 0.58333333 0.58888889 0.59444444\n",
      " 0.57777778 0.60185185 0.61481481 0.57777778 0.60185185 0.61481481\n",
      " 0.5462963  0.56851852 0.57777778 0.5462963  0.56851852 0.57777778\n",
      " 0.54814815 0.56851852 0.58333333 0.54814815 0.56851852 0.58333333\n",
      " 0.56111111 0.57777778 0.58148148 0.56111111 0.57777778 0.58148148\n",
      " 0.56666667 0.57962963 0.58703704 0.56666667 0.57962963 0.58703704]\n",
      "validation scores\n",
      "[0.51851852 0.54814815 0.52592593 0.51851852 0.54814815 0.52592593\n",
      " 0.54814815 0.51111111 0.4962963  0.54814815 0.51111111 0.4962963\n",
      " 0.54814815 0.54814815 0.54074074 0.54814815 0.54814815 0.54074074\n",
      " 0.54814815 0.48888889 0.48888889 0.54814815 0.48888889 0.48888889\n",
      " 0.51851852 0.53333333 0.54814815 0.51851852 0.53333333 0.54814815\n",
      " 0.51851852 0.54074074 0.56296296 0.51851852 0.54074074 0.56296296\n",
      " 0.53333333 0.54814815 0.56296296 0.53333333 0.54814815 0.56296296\n",
      " 0.54074074 0.54814815 0.56296296 0.54074074 0.54814815 0.56296296]\n"
     ]
    }
   ],
   "source": [
    "print('train scores') \n",
    "print(grid_search.cv_results_['mean_train_score'])\n",
    "print('validation scores') \n",
    "# validation scores\n",
    "print(grid_search.cv_results_['mean_test_score'])"
   ]
  },
  {
   "cell_type": "code",
   "execution_count": 279,
   "metadata": {},
   "outputs": [
    {
     "data": {
      "text/plain": [
       "{'classifier__colsample_bytree': 0.6,\n",
       " 'classifier__learning_rate': 0.01,\n",
       " 'classifier__n_estimators': 200,\n",
       " 'classifier__random_state': 0,\n",
       " 'classifier__subsample': 0.7}"
      ]
     },
     "execution_count": 279,
     "metadata": {},
     "output_type": "execute_result"
    }
   ],
   "source": [
    "\n",
    "grid_search.best_params_"
   ]
  },
  {
   "cell_type": "code",
   "execution_count": null,
   "metadata": {},
   "outputs": [],
   "source": []
  },
  {
   "cell_type": "code",
   "execution_count": 280,
   "metadata": {},
   "outputs": [
    {
     "name": "stdout",
     "output_type": "stream",
     "text": [
      "title data preprocessed\n",
      "              precision    recall  f1-score   support\n",
      "\n",
      "        fake       0.83      0.19      0.30        27\n",
      "        real       0.58      0.97      0.72        31\n",
      "\n",
      "    accuracy                           0.60        58\n",
      "   macro avg       0.71      0.58      0.51        58\n",
      "weighted avg       0.70      0.60      0.53        58\n",
      "\n",
      "title data non preprocessed\n",
      "              precision    recall  f1-score   support\n",
      "\n",
      "        fake       0.53      0.67      0.59        27\n",
      "        real       0.62      0.48      0.55        31\n",
      "\n",
      "    accuracy                           0.57        58\n",
      "   macro avg       0.58      0.58      0.57        58\n",
      "weighted avg       0.58      0.57      0.57        58\n",
      "\n"
     ]
    }
   ],
   "source": [
    "# creating a classifier with the best param to predict the test set and see if we are not overfiiting\n",
    "ppxg_test = grid_search.best_estimator_\n",
    "predictionsxg=ppxg_test.predict(Xt_test)\n",
    "\n",
    "print(\"title data preprocessed\")\n",
    "print(classification_report(yt_test, predictionsxg))\n",
    "#plot_confusion_matrix(ppxg_test, Xt_test, yt_test)  \n",
    "#plt.show()\n",
    "#hyperparameter fitting\n",
    "\n",
    "\n",
    "grid_search.fit(Xt1_train, yt1_train)\n",
    "ppxg_test = grid_search.best_estimator_\n",
    "predictionsxg1=ppxg_test.predict(Xt1_test)\n",
    "\n",
    "print(\"title data non preprocessed\")\n",
    "print(classification_report(yt1_test, predictionsxg1))\n"
   ]
  },
  {
   "cell_type": "code",
   "execution_count": null,
   "metadata": {},
   "outputs": [],
   "source": []
  },
  {
   "cell_type": "code",
   "execution_count": null,
   "metadata": {},
   "outputs": [],
   "source": []
  },
  {
   "cell_type": "code",
   "execution_count": null,
   "metadata": {},
   "outputs": [],
   "source": []
  },
  {
   "cell_type": "code",
   "execution_count": 281,
   "metadata": {},
   "outputs": [
    {
     "name": "stdout",
     "output_type": "stream",
     "text": [
      "train scores\n",
      "[0.9962963  0.99814815 0.9962963  0.9962963  0.99814815 0.9962963\n",
      " 1.         1.         1.         1.         1.         1.\n",
      " 0.99814815 1.         1.         0.99814815 1.         1.\n",
      " 1.         1.         1.         1.         1.         1.\n",
      " 0.96111111 0.96666667 0.97777778 0.96111111 0.96666667 0.97777778\n",
      " 0.98333333 0.97962963 0.98703704 0.98333333 0.97962963 0.98703704\n",
      " 0.98703704 0.98888889 0.99444444 0.98703704 0.98888889 0.99444444\n",
      " 0.99814815 0.99814815 0.99814815 0.99814815 0.99814815 0.99814815]\n",
      "validation scores\n",
      "[0.62222222 0.62222222 0.61481481 0.62222222 0.62222222 0.61481481\n",
      " 0.62222222 0.61481481 0.60740741 0.62222222 0.61481481 0.60740741\n",
      " 0.62222222 0.61481481 0.60740741 0.62222222 0.61481481 0.60740741\n",
      " 0.61481481 0.60740741 0.61481481 0.61481481 0.60740741 0.61481481\n",
      " 0.62962963 0.63703704 0.62222222 0.62962963 0.63703704 0.62222222\n",
      " 0.64444444 0.64444444 0.62222222 0.64444444 0.64444444 0.62222222\n",
      " 0.65185185 0.64444444 0.62222222 0.65185185 0.64444444 0.62222222\n",
      " 0.64444444 0.62962963 0.62962963 0.64444444 0.62962963 0.62962963]\n",
      "{'classifier__colsample_bytree': 0.6, 'classifier__learning_rate': 0.01, 'classifier__n_estimators': 300, 'classifier__random_state': 0, 'classifier__subsample': 0.5}\n",
      "              precision    recall  f1-score   support\n",
      "\n",
      "        fake       0.58      0.67      0.62        27\n",
      "        real       0.67      0.58      0.62        31\n",
      "\n",
      "    accuracy                           0.62        58\n",
      "   macro avg       0.62      0.62      0.62        58\n",
      "weighted avg       0.63      0.62      0.62        58\n",
      "\n",
      "title data non preprocessed\n",
      "              precision    recall  f1-score   support\n",
      "\n",
      "        fake       0.62      0.67      0.64        27\n",
      "        real       0.69      0.65      0.67        31\n",
      "\n",
      "    accuracy                           0.66        58\n",
      "   macro avg       0.66      0.66      0.65        58\n",
      "weighted avg       0.66      0.66      0.66        58\n",
      "\n"
     ]
    }
   ],
   "source": [
    "# body data PREPROCEDSSDE\n",
    "\n",
    "grid_search.fit(Xb_train, yb_train)\n",
    "print('train scores') \n",
    "print(grid_search.cv_results_['mean_train_score'])\n",
    "print('validation scores') \n",
    "# validation scores\n",
    "print(grid_search.cv_results_['mean_test_score'])\n",
    "\n",
    "print(grid_search.best_params_)\n",
    "\n",
    "# creating a classifier with the best param to predict the test set and see if we are not overfiiting\n",
    "\n",
    "ppxg_test = grid_search.best_estimator_\n",
    "predictionsxg=ppxg_test.predict(Xb_test)\n",
    "\n",
    "print(classification_report(yb_test, predictionsxg))\n",
    "#plot_confusion_matrix(ppxg_test, Xb_test, yb_test)  \n",
    "#plt.show()\n",
    "\n",
    "\n",
    "grid_search.fit(Xb1_train, yb1_train)\n",
    "ppxg_test1 = grid_search.best_estimator_\n",
    "\n",
    "predictionsxg1=ppxg_test1.predict(Xb1_test)\n",
    "\n",
    "print(\"title data non preprocessed\")\n",
    "print(classification_report(yb1_test, predictionsxg1))"
   ]
  },
  {
   "cell_type": "code",
   "execution_count": null,
   "metadata": {},
   "outputs": [],
   "source": []
  },
  {
   "cell_type": "code",
   "execution_count": null,
   "metadata": {},
   "outputs": [],
   "source": []
  },
  {
   "cell_type": "code",
   "execution_count": 215,
   "metadata": {},
   "outputs": [
    {
     "name": "stdout",
     "output_type": "stream",
     "text": [
      "train scores\n",
      "[0.99814815 1.         1.         0.99814815 1.         1.\n",
      " 1.         1.         1.         1.         1.         1.\n",
      " 1.         1.         1.         1.         1.         1.\n",
      " 1.         1.         1.         1.         1.         1.        ]\n",
      "validation scores\n",
      "[0.6        0.62962963 0.61481481 0.6        0.62962963 0.61481481\n",
      " 0.59259259 0.65925926 0.62962963 0.59259259 0.65925926 0.62962963\n",
      " 0.6        0.63703704 0.62222222 0.6        0.63703704 0.62222222\n",
      " 0.60740741 0.63703704 0.63703704 0.60740741 0.63703704 0.63703704]\n",
      "{'classifier__colsample_bytree': 0.6, 'classifier__n_estimators': 200, 'classifier__random_state': 0, 'classifier__subsample': 0.6}\n",
      "title and text data  preprocessed\n",
      "              precision    recall  f1-score   support\n",
      "\n",
      "        fake       0.57      0.74      0.65        27\n",
      "        real       0.70      0.52      0.59        31\n",
      "\n",
      "    accuracy                           0.62        58\n",
      "   macro avg       0.63      0.63      0.62        58\n",
      "weighted avg       0.64      0.62      0.62        58\n",
      "\n",
      "title and text data non preprocessed\n",
      "              precision    recall  f1-score   support\n",
      "\n",
      "        fake       0.68      0.70      0.69        27\n",
      "        real       0.73      0.71      0.72        31\n",
      "\n",
      "    accuracy                           0.71        58\n",
      "   macro avg       0.71      0.71      0.71        58\n",
      "weighted avg       0.71      0.71      0.71        58\n",
      "\n"
     ]
    }
   ],
   "source": [
    "# text and title together PREPROCCESDDES\n",
    "\n",
    "grid_search.fit(Xbt_train, ybt_train)\n",
    "print('train scores') \n",
    "print(grid_search.cv_results_['mean_train_score'])\n",
    "print('validation scores') \n",
    "# validation scores\n",
    "print(grid_search.cv_results_['mean_test_score'])\n",
    "\n",
    "print(grid_search.best_params_)\n",
    "\n",
    "# creating a classifier with the best param to predict the test set and see if we are not overfiiting\n",
    "ppxg_test = grid_search.best_estimator_\n",
    "predictionsxg=ppxg_test.predict(Xbt_test)\n",
    "print(\"title and text data  preprocessed\")\n",
    "\n",
    "print(classification_report(ybt_test, predictionsxg))\n",
    "#plot_confusion_matrix(ppxg_test, Xbt_test, ybt_test)  \n",
    "#plt.show()\n",
    "\n",
    "\n",
    "grid_search.fit(Xbt1_train, ybt1_train)\n",
    "ppxg_test1 = grid_search.best_estimator_\n",
    "\n",
    "predictionsxg1=ppxg_test1.predict(Xbt1_test)\n",
    "\n",
    "print(\"title and text data non preprocessed\")\n",
    "print(classification_report(ybt1_test, predictionsxg1))\n",
    "\n",
    "\n"
   ]
  },
  {
   "cell_type": "code",
   "execution_count": 282,
   "metadata": {},
   "outputs": [
    {
     "name": "stdout",
     "output_type": "stream",
     "text": [
      "train scores\n",
      "[0.98888889 0.99814815 1.         0.98888889 0.99814815 1.\n",
      " 1.         1.         1.         1.         1.         1.\n",
      " 1.         1.         1.         1.         1.         1.\n",
      " 1.         1.         1.         1.         1.         1.\n",
      " 0.95555556 0.96481481 0.97592593 0.95555556 0.96481481 0.97592593\n",
      " 0.97962963 0.98703704 0.98888889 0.97962963 0.98703704 0.98888889\n",
      " 0.98888889 0.99259259 0.99814815 0.98888889 0.99259259 0.99814815\n",
      " 0.99259259 1.         1.         0.99259259 1.         1.        ]\n",
      "validation scores\n",
      "[0.65185185 0.61481481 0.62222222 0.65185185 0.61481481 0.62222222\n",
      " 0.65185185 0.62962963 0.63703704 0.65185185 0.62962963 0.63703704\n",
      " 0.65925926 0.65185185 0.63703704 0.65925926 0.65185185 0.63703704\n",
      " 0.66666667 0.62222222 0.66666667 0.66666667 0.62222222 0.66666667\n",
      " 0.6        0.60740741 0.60740741 0.6        0.60740741 0.60740741\n",
      " 0.64444444 0.60740741 0.61481481 0.64444444 0.60740741 0.61481481\n",
      " 0.64444444 0.63703704 0.62222222 0.64444444 0.63703704 0.62222222\n",
      " 0.62962963 0.63703704 0.63703704 0.62962963 0.63703704 0.63703704]\n",
      "{'classifier__colsample_bytree': 0.6, 'classifier__learning_rate': 0.05, 'classifier__n_estimators': 500, 'classifier__random_state': 0, 'classifier__subsample': 0.5}\n",
      "              precision    recall  f1-score   support\n",
      "\n",
      "        fake       0.58      0.70      0.63        27\n",
      "        real       0.68      0.55      0.61        31\n",
      "\n",
      "    accuracy                           0.62        58\n",
      "   macro avg       0.63      0.63      0.62        58\n",
      "weighted avg       0.63      0.62      0.62        58\n",
      "\n",
      "title and text data non preprocessed\n",
      "              precision    recall  f1-score   support\n",
      "\n",
      "        fake       0.58      0.70      0.63        27\n",
      "        real       0.68      0.55      0.61        31\n",
      "\n",
      "    accuracy                           0.62        58\n",
      "   macro avg       0.63      0.63      0.62        58\n",
      "weighted avg       0.63      0.62      0.62        58\n",
      "\n"
     ]
    }
   ],
   "source": [
    "# text and title modified \n",
    "\n",
    "grid_search.fit(Xbt2_train, ybt2_train)\n",
    "print('train scores') \n",
    "print(grid_search.cv_results_['mean_train_score'])\n",
    "print('validation scores') \n",
    "# validation scores\n",
    "print(grid_search.cv_results_['mean_test_score'])\n",
    "\n",
    "print(grid_search.best_params_)\n",
    "\n",
    "# creating a classifier with the best param to predict the test set and see if we are not overfiiting\n",
    "ppxg_test = grid_search.best_estimator_\n",
    "predictionsxg=ppxg_test.predict(Xbt2_test)\n",
    "\n",
    "print(classification_report(ybt2_test, predictionsxg))\n",
    "#plot_confusion_matrix(ppxg_test, Xbt2_test, ybt2_test)  \n",
    "#plt.show()\n",
    "\n",
    "\n",
    "grid_search.fit(Xbt2_train, ybt2_train)\n",
    "ppxg_test1 = grid_search.best_estimator_\n",
    "\n",
    "predictionsxg1=ppxg_test1.predict(Xbt2_test)\n",
    "\n",
    "print(\"title and text data non preprocessed\")\n",
    "print(classification_report(ybt2_test, predictionsxg1))\n",
    "\n"
   ]
  },
  {
   "cell_type": "code",
   "execution_count": null,
   "metadata": {},
   "outputs": [],
   "source": []
  },
  {
   "cell_type": "markdown",
   "metadata": {},
   "source": [
    "### PASSIVE Agressive Classifier\n",
    "LET4s try the classification with the passive aggressive classifier"
   ]
  },
  {
   "cell_type": "code",
   "execution_count": 219,
   "metadata": {},
   "outputs": [],
   "source": [
    "def pp_pass():\n",
    "    pp_pa=Pipeline([\n",
    "        ('bow',CountVectorizer()),\n",
    "        ('tfidf',TfidfTransformer()),\n",
    "        ('classifier',PassiveAggressiveClassifier())\n",
    "        ])\n",
    "    return pp_pa"
   ]
  },
  {
   "cell_type": "code",
   "execution_count": 222,
   "metadata": {},
   "outputs": [
    {
     "name": "stdout",
     "output_type": "stream",
     "text": [
      "title data preprocessed\n",
      "              precision    recall  f1-score   support\n",
      "\n",
      "        fake       0.68      0.63      0.65        27\n",
      "        real       0.70      0.74      0.72        31\n",
      "\n",
      "    accuracy                           0.69        58\n",
      "   macro avg       0.69      0.69      0.69        58\n",
      "weighted avg       0.69      0.69      0.69        58\n",
      "\n",
      "title data non preprocessed\n",
      "              precision    recall  f1-score   support\n",
      "\n",
      "        fake       0.61      0.52      0.56        27\n",
      "        real       0.63      0.71      0.67        31\n",
      "\n",
      "    accuracy                           0.62        58\n",
      "   macro avg       0.62      0.61      0.61        58\n",
      "weighted avg       0.62      0.62      0.62        58\n",
      "\n"
     ]
    }
   ],
   "source": [
    "# on the title data preprocssd\n",
    "pp_pa=pp_pass()\n",
    "pp_pa.fit(Xt_train,yt_train)\n",
    "predictionstt=pp_pa.predict(Xt_test)\n",
    "\n",
    "print(\"title data preprocessed\")\n",
    "print(classification_report(yt_test, predictionstt))\n",
    "#plot_confusion_matrix(pp_pa, Xt_test, yt_test)  \n",
    "#plt.show()\n",
    "\n",
    "# on the title data\n",
    "pp_pa = pp_pass()\n",
    "pp_pa.fit(Xt1_train,yt1_train)\n",
    "predictionstt1=pp_pa.predict(Xt1_test)\n",
    "\n",
    "print(\"title data non preprocessed\")\n",
    "print(classification_report(yt1_test, predictionstt1))\n",
    "#plot_confusion_matrix(pp_pa, Xt1_test, yt1_test)  \n",
    "#plt.show()\n"
   ]
  },
  {
   "cell_type": "code",
   "execution_count": 225,
   "metadata": {},
   "outputs": [
    {
     "name": "stdout",
     "output_type": "stream",
     "text": [
      "body data  preprocessed\n",
      "              precision    recall  f1-score   support\n",
      "\n",
      "        fake       0.61      0.74      0.67        27\n",
      "        real       0.72      0.58      0.64        31\n",
      "\n",
      "    accuracy                           0.66        58\n",
      "   macro avg       0.66      0.66      0.65        58\n",
      "weighted avg       0.67      0.66      0.65        58\n",
      "\n",
      "body data non preprocessed\n",
      "              precision    recall  f1-score   support\n",
      "\n",
      "        fake       0.74      0.63      0.68        27\n",
      "        real       0.71      0.81      0.76        31\n",
      "\n",
      "    accuracy                           0.72        58\n",
      "   macro avg       0.73      0.72      0.72        58\n",
      "weighted avg       0.73      0.72      0.72        58\n",
      "\n"
     ]
    }
   ],
   "source": [
    "# on the body data\n",
    "pp_pa=pp_pass()\n",
    "pp_pa.fit(Xb_train,yb_train)\n",
    "predictionsbb=pp_pa.predict(Xb_test)\n",
    "\n",
    "print(\"body data  preprocessed\")\n",
    "print(classification_report(yb_test, predictionsbb))\n",
    "#plot_confusion_matrix(pp_pa, Xb_test, yb_test)  \n",
    "#plt.show()\n",
    "\n",
    "# on the BODY data\n",
    "pp_pa = pp_pass()\n",
    "pp_pa.fit(Xb1_train,yb1_train)\n",
    "predictionstt1=pp_pa.predict(Xb1_test)\n",
    "\n",
    "print(\"body data non preprocessed\")\n",
    "print(classification_report(yb1_test, predictionstt1))\n",
    "#plot_confusion_matrix(pp_pa, Xb1_test, yb1_test)  \n",
    "#plt.show()"
   ]
  },
  {
   "cell_type": "code",
   "execution_count": 228,
   "metadata": {},
   "outputs": [
    {
     "name": "stdout",
     "output_type": "stream",
     "text": [
      "body and title data  preprocessed\n",
      "              precision    recall  f1-score   support\n",
      "\n",
      "        fake       0.58      0.78      0.67        27\n",
      "        real       0.73      0.52      0.60        31\n",
      "\n",
      "    accuracy                           0.64        58\n",
      "   macro avg       0.66      0.65      0.64        58\n",
      "weighted avg       0.66      0.64      0.63        58\n",
      "\n",
      "body and title data non preprocessed\n",
      "              precision    recall  f1-score   support\n",
      "\n",
      "        fake       0.65      0.63      0.64        27\n",
      "        real       0.69      0.71      0.70        31\n",
      "\n",
      "    accuracy                           0.67        58\n",
      "   macro avg       0.67      0.67      0.67        58\n",
      "weighted avg       0.67      0.67      0.67        58\n",
      "\n"
     ]
    }
   ],
   "source": [
    "# on the body and title mixed data\n",
    "pp_pa=pp_pass()\n",
    "pp_pa.fit(Xbt_train,ybt_train)\n",
    "predictionsbt=pp_pa.predict(Xbt_test)\n",
    "\n",
    "print(\"body and title data  preprocessed\")\n",
    "print(classification_report(ybt_test, predictionsbt))\n",
    "#plot_confusion_matrix(pp_pa, Xbt_test, ybt_test)  \n",
    "#plt.show()\n",
    "\n",
    "# on the BODY @ title data\n",
    "pp_pa = pp_pass()\n",
    "pp_pa.fit(Xbt1_train,ybt1_train)\n",
    "predictionstt1=pp_pa.predict(Xbt1_test)\n",
    "\n",
    "print(\"body and title data non preprocessed\")\n",
    "print(classification_report(ybt1_test, predictionstt1))\n",
    "#plot_confusion_matrix(pp_pa, Xbt1_test, ybt1_test)  \n",
    "#plt.show()"
   ]
  },
  {
   "cell_type": "code",
   "execution_count": 236,
   "metadata": {},
   "outputs": [
    {
     "name": "stdout",
     "output_type": "stream",
     "text": [
      "body and title data modified  preprocessed\n",
      "              precision    recall  f1-score   support\n",
      "\n",
      "        fake       0.57      0.74      0.65        27\n",
      "        real       0.70      0.52      0.59        31\n",
      "\n",
      "    accuracy                           0.62        58\n",
      "   macro avg       0.63      0.63      0.62        58\n",
      "weighted avg       0.64      0.62      0.62        58\n",
      "\n",
      "body and title data modified non preprocessed\n",
      "              precision    recall  f1-score   support\n",
      "\n",
      "        fake       0.74      0.63      0.68        27\n",
      "        real       0.71      0.81      0.76        31\n",
      "\n",
      "    accuracy                           0.72        58\n",
      "   macro avg       0.73      0.72      0.72        58\n",
      "weighted avg       0.73      0.72      0.72        58\n",
      "\n"
     ]
    }
   ],
   "source": [
    "# text and title modified\n",
    "pp_pa=pp_pass()\n",
    "pp_pa.fit(Xbt2_train,ybt2_train)\n",
    "predictionsbt=pp_pa.predict(Xbt2_test)\n",
    "\n",
    "print(\"body and title data modified  preprocessed\")\n",
    "print(classification_report(ybt2_test, predictionsbt))\n",
    "#plot_confusion_matrix(pp_pa, Xbt2_test, ybt2_test)  \n",
    "#plt.show()\n",
    "\n",
    "# on the BODY @ title data MODIFIED\n",
    "pp_pa = pp_pass()\n",
    "pp_pa.fit(Xbt21_train,ybt21_train)\n",
    "predictionstt1=pp_pa.predict(Xbt21_test)\n",
    "\n",
    "print(\"body and title data modified non preprocessed\")\n",
    "print(classification_report(ybt21_test, predictionstt1))\n",
    "#plot_confusion_matrix(pp_pa, Xbt21_test, ybt21_test)  \n",
    "#plt.show()"
   ]
  },
  {
   "cell_type": "code",
   "execution_count": 253,
   "metadata": {},
   "outputs": [
    {
     "data": {
      "text/plain": [
       "{'memory': None,\n",
       " 'steps': [('bow', CountVectorizer()),\n",
       "  ('tfidf', TfidfTransformer()),\n",
       "  ('classifier', PassiveAggressiveClassifier())],\n",
       " 'verbose': False,\n",
       " 'bow': CountVectorizer(),\n",
       " 'tfidf': TfidfTransformer(),\n",
       " 'classifier': PassiveAggressiveClassifier(),\n",
       " 'bow__analyzer': 'word',\n",
       " 'bow__binary': False,\n",
       " 'bow__decode_error': 'strict',\n",
       " 'bow__dtype': numpy.int64,\n",
       " 'bow__encoding': 'utf-8',\n",
       " 'bow__input': 'content',\n",
       " 'bow__lowercase': True,\n",
       " 'bow__max_df': 1.0,\n",
       " 'bow__max_features': None,\n",
       " 'bow__min_df': 1,\n",
       " 'bow__ngram_range': (1, 1),\n",
       " 'bow__preprocessor': None,\n",
       " 'bow__stop_words': None,\n",
       " 'bow__strip_accents': None,\n",
       " 'bow__token_pattern': '(?u)\\\\b\\\\w\\\\w+\\\\b',\n",
       " 'bow__tokenizer': None,\n",
       " 'bow__vocabulary': None,\n",
       " 'tfidf__norm': 'l2',\n",
       " 'tfidf__smooth_idf': True,\n",
       " 'tfidf__sublinear_tf': False,\n",
       " 'tfidf__use_idf': True,\n",
       " 'classifier__C': 1.0,\n",
       " 'classifier__average': False,\n",
       " 'classifier__class_weight': None,\n",
       " 'classifier__early_stopping': False,\n",
       " 'classifier__fit_intercept': True,\n",
       " 'classifier__loss': 'hinge',\n",
       " 'classifier__max_iter': 1000,\n",
       " 'classifier__n_iter_no_change': 5,\n",
       " 'classifier__n_jobs': None,\n",
       " 'classifier__random_state': None,\n",
       " 'classifier__shuffle': True,\n",
       " 'classifier__tol': 0.001,\n",
       " 'classifier__validation_fraction': 0.1,\n",
       " 'classifier__verbose': 0,\n",
       " 'classifier__warm_start': False}"
      ]
     },
     "execution_count": 253,
     "metadata": {},
     "output_type": "execute_result"
    }
   ],
   "source": [
    "pp_pa.get_params()"
   ]
  },
  {
   "cell_type": "code",
   "execution_count": null,
   "metadata": {},
   "outputs": [],
   "source": [
    "# PASSIVE AGRESSIVE C TUNING\n",
    "\n",
    "# parameters tuning of the passive agressive classifier ( c, reg param, max iter and tolerance )\n",
    "\n"
   ]
  },
  {
   "cell_type": "code",
   "execution_count": 254,
   "metadata": {},
   "outputs": [],
   "source": [
    "param_grid2 = {\n",
    "     'classifier__C': [0.5,0.8],\n",
    "     'classifier__random_state':[0],\n",
    "     'classifier__tol': [0.001,0.0001],\n",
    "     'classifier__max_iter':[1500]\n",
    "     #'classifier__colsample_bytree': [0.6],\n",
    "     #'classifier__subsample': [0.5, 0.6, 0.7]\n",
    "}"
   ]
  },
  {
   "cell_type": "code",
   "execution_count": 256,
   "metadata": {},
   "outputs": [],
   "source": [
    "# grid search cross validation instantiation\n",
    "pp_pa=pp_pass()\n",
    "grid_search = GridSearchCV(estimator = pp_pa, param_grid = param_grid2, \n",
    "                          cv = 10, n_jobs = 1, verbose = 0, return_train_score=True)"
   ]
  },
  {
   "cell_type": "code",
   "execution_count": 257,
   "metadata": {},
   "outputs": [
    {
     "name": "stdout",
     "output_type": "stream",
     "text": [
      " \n",
      "title data\n",
      "train scores\n",
      "[1. 1. 1. 1.]\n",
      "validation scores\n",
      "[0.60714286 0.60714286 0.60714286 0.60714286]\n",
      "{'classifier__C': 0.5, 'classifier__max_iter': 1500, 'classifier__random_state': 0, 'classifier__tol': 0.001}\n",
      "              precision    recall  f1-score   support\n",
      "\n",
      "        fake       0.68      0.63      0.65        27\n",
      "        real       0.70      0.74      0.72        31\n",
      "\n",
      "    accuracy                           0.69        58\n",
      "   macro avg       0.69      0.69      0.69        58\n",
      "weighted avg       0.69      0.69      0.69        58\n",
      "\n",
      " \n",
      "body data\n",
      "train scores\n",
      "[1.         1.         0.99917355 1.        ]\n",
      "validation scores\n",
      "[0.64340659 0.65879121 0.65164835 0.65879121]\n",
      "{'classifier__C': 0.5, 'classifier__max_iter': 1500, 'classifier__random_state': 0, 'classifier__tol': 0.0001}\n",
      "              precision    recall  f1-score   support\n",
      "\n",
      "        fake       0.55      0.63      0.59        27\n",
      "        real       0.63      0.55      0.59        31\n",
      "\n",
      "    accuracy                           0.59        58\n",
      "   macro avg       0.59      0.59      0.59        58\n",
      "weighted avg       0.59      0.59      0.59        58\n",
      "\n",
      " \n",
      "body and title data\n",
      "train scores\n",
      "[1. 1. 1. 1.]\n",
      "validation scores\n",
      "[0.65769231 0.66538462 0.66593407 0.66593407]\n",
      "{'classifier__C': 0.8, 'classifier__max_iter': 1500, 'classifier__random_state': 0, 'classifier__tol': 0.001}\n",
      "              precision    recall  f1-score   support\n",
      "\n",
      "        fake       0.60      0.67      0.63        27\n",
      "        real       0.68      0.61      0.64        31\n",
      "\n",
      "    accuracy                           0.64        58\n",
      "   macro avg       0.64      0.64      0.64        58\n",
      "weighted avg       0.64      0.64      0.64        58\n",
      "\n",
      " \n",
      "body + body and title data\n",
      "train scores\n",
      "[1. 1. 1. 1.]\n",
      "validation scores\n",
      "[0.65714286 0.66483516 0.65879121 0.67307692]\n",
      "{'classifier__C': 0.8, 'classifier__max_iter': 1500, 'classifier__random_state': 0, 'classifier__tol': 0.0001}\n",
      "              precision    recall  f1-score   support\n",
      "\n",
      "        fake       0.57      0.63      0.60        27\n",
      "        real       0.64      0.58      0.61        31\n",
      "\n",
      "    accuracy                           0.60        58\n",
      "   macro avg       0.60      0.61      0.60        58\n",
      "weighted avg       0.61      0.60      0.60        58\n",
      "\n"
     ]
    }
   ],
   "source": [
    "# test on title processed\n",
    "print(\" \")\n",
    "print(\"title data\")\n",
    "grid_search.fit(Xt_train, yt_train)\n",
    "print('train scores') \n",
    "print(grid_search.cv_results_['mean_train_score'])\n",
    "print('validation scores') \n",
    "# validation scores\n",
    "print(grid_search.cv_results_['mean_test_score'])\n",
    "print(grid_search.best_params_)\n",
    "# creating a classifier with the best param to predict the test set and see if we are not overfiiting\n",
    "pppa_test = grid_search.best_estimator_\n",
    "predictionsrf=pppa_test.predict(Xt_test)\n",
    "print(classification_report(yt_test, predictionsrf))\n",
    "#plot_confusion_matrix(pp200, Xt_test, yt_test)  \n",
    "#plt.show()\n",
    "\n",
    "print(\" \")\n",
    "print(\"body data\")\n",
    "# body preprocesszd\n",
    "grid_search.fit(Xb_train, yb_train)\n",
    "print('train scores') \n",
    "print(grid_search.cv_results_['mean_train_score'])\n",
    "print('validation scores') \n",
    "# validation scores\n",
    "print(grid_search.cv_results_['mean_test_score'])\n",
    "print(grid_search.best_params_)\n",
    "# creating a classifier with the best param to predict the test set and see if we are not overfiiting\n",
    "pppa_test = grid_search.best_estimator_\n",
    "predictionsrf=pppa_test.predict(Xb_test)\n",
    "print(classification_report(yb_test, predictionsrf))\n",
    "\n",
    "print(\" \")\n",
    "print(\"body and title data\")\n",
    "# # text and title processed\n",
    "grid_search.fit(Xbt_train, ybt_train)\n",
    "print('train scores') \n",
    "print(grid_search.cv_results_['mean_train_score'])\n",
    "print('validation scores') \n",
    "# validation scores\n",
    "print(grid_search.cv_results_['mean_test_score'])\n",
    "print(grid_search.best_params_)\n",
    "# creating a classifier with the best param to predict the test set and see if we are not overfiiting\n",
    "pppa_test = grid_search.best_estimator_\n",
    "predictionsrf=pppa_test.predict(Xbt_test)\n",
    "print(classification_report(ybt_test, predictionsrf))\n",
    "#plot_confusion_matrix(pp200, Xbt_test, ybt_test)  \n",
    "#plt.show()\n",
    "\n",
    "print(\" \")\n",
    "print(\"body + body and title data\")\n",
    " # text and title processed modified\n",
    "grid_search.fit(Xbt2_train, ybt2_train)\n",
    "print('train scores') \n",
    "print(grid_search.cv_results_['mean_train_score'])\n",
    "print('validation scores') \n",
    "# validation scores\n",
    "print(grid_search.cv_results_['mean_test_score'])\n",
    "print(grid_search.best_params_)\n",
    "# creating a classifier with the best param to predict the test set and see if we are not overfiiting\n",
    "pppa_test = grid_search.best_estimator_\n",
    "predictionsrf=pppa_test.predict(Xbt2_test)\n",
    "print(classification_report(ybt2_test, predictionsrf))\n",
    "#plot_confusion_matrix(pp200, Xbt2_test, ybt2_test)  \n",
    "#plt.show()\n"
   ]
  },
  {
   "cell_type": "code",
   "execution_count": null,
   "metadata": {},
   "outputs": [],
   "source": []
  },
  {
   "cell_type": "code",
   "execution_count": 260,
   "metadata": {},
   "outputs": [],
   "source": [
    "# trying passive without CV\n",
    "# grid search cross validation instantiation\n",
    "pp_pa=pp_pass()\n",
    "grid_search = GridSearchCV(estimator = pp_pa, param_grid = param_grid2, \n",
    "                           n_jobs = 1, verbose = 0, return_train_score=True)"
   ]
  },
  {
   "cell_type": "code",
   "execution_count": 261,
   "metadata": {},
   "outputs": [
    {
     "name": "stdout",
     "output_type": "stream",
     "text": [
      " \n",
      "title data\n",
      "train scores\n",
      "[1. 1. 1. 1.]\n",
      "validation scores\n",
      "[0.6 0.6 0.6 0.6]\n",
      "{'classifier__C': 0.5, 'classifier__max_iter': 1500, 'classifier__random_state': 0, 'classifier__tol': 0.001}\n",
      "              precision    recall  f1-score   support\n",
      "\n",
      "        fake       0.68      0.63      0.65        27\n",
      "        real       0.70      0.74      0.72        31\n",
      "\n",
      "    accuracy                           0.69        58\n",
      "   macro avg       0.69      0.69      0.69        58\n",
      "weighted avg       0.69      0.69      0.69        58\n",
      "\n",
      " \n",
      "body data\n",
      "train scores\n",
      "[1. 1. 1. 1.]\n",
      "validation scores\n",
      "[0.65925926 0.65925926 0.66666667 0.66666667]\n",
      "{'classifier__C': 0.8, 'classifier__max_iter': 1500, 'classifier__random_state': 0, 'classifier__tol': 0.001}\n",
      "              precision    recall  f1-score   support\n",
      "\n",
      "        fake       0.57      0.63      0.60        27\n",
      "        real       0.64      0.58      0.61        31\n",
      "\n",
      "    accuracy                           0.60        58\n",
      "   macro avg       0.60      0.61      0.60        58\n",
      "weighted avg       0.61      0.60      0.60        58\n",
      "\n",
      " \n",
      "body and title data\n",
      "train scores\n",
      "[1. 1. 1. 1.]\n",
      "validation scores\n",
      "[0.66666667 0.68148148 0.67407407 0.67407407]\n",
      "{'classifier__C': 0.5, 'classifier__max_iter': 1500, 'classifier__random_state': 0, 'classifier__tol': 0.0001}\n",
      "              precision    recall  f1-score   support\n",
      "\n",
      "        fake       0.60      0.67      0.63        27\n",
      "        real       0.68      0.61      0.64        31\n",
      "\n",
      "    accuracy                           0.64        58\n",
      "   macro avg       0.64      0.64      0.64        58\n",
      "weighted avg       0.64      0.64      0.64        58\n",
      "\n",
      " \n",
      "body + body and title data\n",
      "train scores\n",
      "[1. 1. 1. 1.]\n",
      "validation scores\n",
      "[0.66666667 0.67407407 0.68148148 0.68148148]\n",
      "{'classifier__C': 0.8, 'classifier__max_iter': 1500, 'classifier__random_state': 0, 'classifier__tol': 0.001}\n",
      "              precision    recall  f1-score   support\n",
      "\n",
      "        fake       0.57      0.63      0.60        27\n",
      "        real       0.64      0.58      0.61        31\n",
      "\n",
      "    accuracy                           0.60        58\n",
      "   macro avg       0.60      0.61      0.60        58\n",
      "weighted avg       0.61      0.60      0.60        58\n",
      "\n"
     ]
    }
   ],
   "source": [
    "# test on title processed\n",
    "print(\" \")\n",
    "print(\"title data\")\n",
    "grid_search.fit(Xt_train, yt_train)\n",
    "print('train scores') \n",
    "print(grid_search.cv_results_['mean_train_score'])\n",
    "print('validation scores') \n",
    "# validation scores\n",
    "print(grid_search.cv_results_['mean_test_score'])\n",
    "print(grid_search.best_params_)\n",
    "# creating a classifier with the best param to predict the test set and see if we are not overfiiting\n",
    "pppa_test = grid_search.best_estimator_\n",
    "predictionsrf=pppa_test.predict(Xt_test)\n",
    "print(classification_report(yt_test, predictionsrf))\n",
    "#plot_confusion_matrix(pp200, Xt_test, yt_test)  \n",
    "#plt.show()\n",
    "\n",
    "print(\" \")\n",
    "print(\"body data\")\n",
    "# body preprocesszd\n",
    "grid_search.fit(Xb_train, yb_train)\n",
    "print('train scores') \n",
    "print(grid_search.cv_results_['mean_train_score'])\n",
    "print('validation scores') \n",
    "# validation scores\n",
    "print(grid_search.cv_results_['mean_test_score'])\n",
    "print(grid_search.best_params_)\n",
    "# creating a classifier with the best param to predict the test set and see if we are not overfiiting\n",
    "pppa_test = grid_search.best_estimator_\n",
    "predictionsrf=pppa_test.predict(Xb_test)\n",
    "print(classification_report(yb_test, predictionsrf))\n",
    "\n",
    "print(\" \")\n",
    "print(\"body and title data\")\n",
    "# # text and title processed\n",
    "grid_search.fit(Xbt_train, ybt_train)\n",
    "print('train scores') \n",
    "print(grid_search.cv_results_['mean_train_score'])\n",
    "print('validation scores') \n",
    "# validation scores\n",
    "print(grid_search.cv_results_['mean_test_score'])\n",
    "print(grid_search.best_params_)\n",
    "# creating a classifier with the best param to predict the test set and see if we are not overfiiting\n",
    "pppa_test = grid_search.best_estimator_\n",
    "predictionsrf=pppa_test.predict(Xbt_test)\n",
    "print(classification_report(ybt_test, predictionsrf))\n",
    "#plot_confusion_matrix(pp200, Xbt_test, ybt_test)  \n",
    "#plt.show()\n",
    "\n",
    "print(\" \")\n",
    "print(\"body + body and title data\")\n",
    " # text and title processed modified\n",
    "grid_search.fit(Xbt2_train, ybt2_train)\n",
    "print('train scores') \n",
    "print(grid_search.cv_results_['mean_train_score'])\n",
    "print('validation scores') \n",
    "# validation scores\n",
    "print(grid_search.cv_results_['mean_test_score'])\n",
    "print(grid_search.best_params_)\n",
    "# creating a classifier with the best param to predict the test set and see if we are not overfiiting\n",
    "pppa_test = grid_search.best_estimator_\n",
    "predictionsrf=pppa_test.predict(Xbt2_test)\n",
    "print(classification_report(ybt2_test, predictionsrf))\n",
    "#plot_confusion_matrix(pp200, Xbt2_test, ybt2_test)  \n",
    "#plt.show()\n"
   ]
  },
  {
   "cell_type": "code",
   "execution_count": null,
   "metadata": {},
   "outputs": [],
   "source": []
  },
  {
   "cell_type": "code",
   "execution_count": null,
   "metadata": {},
   "outputs": [],
   "source": []
  },
  {
   "cell_type": "markdown",
   "metadata": {},
   "source": [
    "#### Random Forest recall improvement\n",
    "we noticed that, for the classification based on title, almost all classifiers have a poor recall score on real and precision on fake data and vice versa. RF also has poor scores for classification based on body for eg as well.\n",
    "we will try to increase the recall on real news "
   ]
  },
  {
   "cell_type": "code",
   "execution_count": 237,
   "metadata": {},
   "outputs": [],
   "source": [
    "# RF parameter tuning\n",
    "# let's change n_estimators to 200 and random state to 0\n",
    "def pipeL_rf_200():\n",
    "    pp=Pipeline([\n",
    "        ('bow',CountVectorizer()),\n",
    "        ('tfidf',TfidfTransformer()),\n",
    "        ('classifier',RandomForestClassifier(n_estimators=200, random_state=0 ))\n",
    "        ])\n",
    "    return pp"
   ]
  },
  {
   "cell_type": "code",
   "execution_count": 238,
   "metadata": {},
   "outputs": [
    {
     "name": "stdout",
     "output_type": "stream",
     "text": [
      "title\n",
      "              precision    recall  f1-score   support\n",
      "\n",
      "        fake       0.86      0.22      0.35        27\n",
      "        real       0.59      0.97      0.73        31\n",
      "\n",
      "    accuracy                           0.62        58\n",
      "   macro avg       0.72      0.59      0.54        58\n",
      "weighted avg       0.71      0.62      0.56        58\n",
      "\n",
      "body\n",
      "              precision    recall  f1-score   support\n",
      "\n",
      "        fake       0.61      0.81      0.70        27\n",
      "        real       0.77      0.55      0.64        31\n",
      "\n",
      "    accuracy                           0.67        58\n",
      "   macro avg       0.69      0.68      0.67        58\n",
      "weighted avg       0.70      0.67      0.67        58\n",
      "\n",
      "body and title\n",
      "              precision    recall  f1-score   support\n",
      "\n",
      "        fake       0.65      0.81      0.72        27\n",
      "        real       0.79      0.61      0.69        31\n",
      "\n",
      "    accuracy                           0.71        58\n",
      "   macro avg       0.72      0.71      0.71        58\n",
      "weighted avg       0.72      0.71      0.71        58\n",
      "\n",
      "body + body and title\n",
      "              precision    recall  f1-score   support\n",
      "\n",
      "        fake       0.68      0.78      0.72        27\n",
      "        real       0.78      0.68      0.72        31\n",
      "\n",
      "    accuracy                           0.72        58\n",
      "   macro avg       0.73      0.73      0.72        58\n",
      "weighted avg       0.73      0.72      0.72        58\n",
      "\n"
     ]
    }
   ],
   "source": [
    "# test on title processed\n",
    "print(\"title\")\n",
    "pp200=pipeL_rf_200()\n",
    "pp200.fit(Xt_train,yt_train)\n",
    "# predicting the articles in the test set\n",
    "predictions2=pp200.predict(Xt_test)\n",
    "print(classification_report(yt_test, predictions2))\n",
    "#plot_confusion_matrix(pp200, Xt_test, yt_test)  \n",
    "#plt.show()\n",
    "\n",
    "print(\"body\")\n",
    "# body preprocesszd\n",
    "pp200=pipeL_rf_200()\n",
    "pp200.fit(Xb_train,yb_train)\n",
    "# predicting the articles in the test set\n",
    "predictions2=pp200.predict(Xb_test)\n",
    "print(classification_report(yb_test, predictions2))\n",
    "#plot_confusion_matrix(pp200, Xb_test, yb_test)  \n",
    "#plt.show()\n",
    "\n",
    "print(\"body and title\")\n",
    "# # text and title processed\n",
    "pp200=pipeL_rf_200()\n",
    "pp200.fit(Xbt_train,ybt_train)\n",
    "# predicting the articles in the test set\n",
    "predictions2=pp200.predict(Xbt_test)\n",
    "print(classification_report(ybt_test, predictions2))\n",
    "#plot_confusion_matrix(pp200, Xbt_test, ybt_test)  \n",
    "#plt.show()\n",
    "\n",
    "\n",
    "print(\"body + body and title\")\n",
    " # text and title processed modified\n",
    "pp200=pipeL_rf_200()\n",
    "pp200.fit(Xbt2_train,ybt2_train)\n",
    "# predicting the articles in the test set\n",
    "predictions2=pp200.predict(Xbt2_test)\n",
    "print(classification_report(ybt2_test, predictions2))\n",
    "#plot_confusion_matrix(pp200, Xbt2_test, ybt2_test)  \n",
    "#plt.show()\n",
    "\n"
   ]
  },
  {
   "cell_type": "code",
   "execution_count": 239,
   "metadata": {},
   "outputs": [],
   "source": [
    "# we still feel like the precision and recall of the REAL VALues is still relatively low, ans precision of real low for the title\n"
   ]
  },
  {
   "cell_type": "code",
   "execution_count": 240,
   "metadata": {},
   "outputs": [],
   "source": [
    "# RF parameter tuning\n",
    "# let's change n_estimators to 200 and random state to 0\n",
    "def pipeL_rf_300():\n",
    "    pp=Pipeline([\n",
    "        ('bow',CountVectorizer()),\n",
    "        ('tfidf',TfidfTransformer()),\n",
    "        ('classifier',RandomForestClassifier(n_estimators=300, random_state=0, class_weight='balanced_subsample' ))\n",
    "        ])\n",
    "    return pp\n"
   ]
  },
  {
   "cell_type": "code",
   "execution_count": 241,
   "metadata": {},
   "outputs": [
    {
     "name": "stdout",
     "output_type": "stream",
     "text": [
      "title data\n",
      "              precision    recall  f1-score   support\n",
      "\n",
      "        fake       0.86      0.22      0.35        27\n",
      "        real       0.59      0.97      0.73        31\n",
      "\n",
      "    accuracy                           0.62        58\n",
      "   macro avg       0.72      0.59      0.54        58\n",
      "weighted avg       0.71      0.62      0.56        58\n",
      "\n",
      "body data\n",
      "              precision    recall  f1-score   support\n",
      "\n",
      "        fake       0.58      0.70      0.63        27\n",
      "        real       0.68      0.55      0.61        31\n",
      "\n",
      "    accuracy                           0.62        58\n",
      "   macro avg       0.63      0.63      0.62        58\n",
      "weighted avg       0.63      0.62      0.62        58\n",
      "\n",
      "body and title data\n",
      "              precision    recall  f1-score   support\n",
      "\n",
      "        fake       0.59      0.74      0.66        27\n",
      "        real       0.71      0.55      0.62        31\n",
      "\n",
      "    accuracy                           0.64        58\n",
      "   macro avg       0.65      0.64      0.64        58\n",
      "weighted avg       0.65      0.64      0.64        58\n",
      "\n",
      "body + body and title data\n",
      "              precision    recall  f1-score   support\n",
      "\n",
      "        fake       0.61      0.74      0.67        27\n",
      "        real       0.72      0.58      0.64        31\n",
      "\n",
      "    accuracy                           0.66        58\n",
      "   macro avg       0.66      0.66      0.65        58\n",
      "weighted avg       0.67      0.66      0.65        58\n",
      "\n"
     ]
    }
   ],
   "source": [
    "# test on title processed\n",
    "pp200=pipeL_rf_300()\n",
    "pp200.fit(Xt_train,yt_train)\n",
    "# predicting the articles in the test set\n",
    "predictions2=pp200.predict(Xt_test)\n",
    "print(\"title data\")\n",
    "print(classification_report(yt_test, predictions2))\n",
    "#plot_confusion_matrix(pp200, Xt_test, yt_test)  \n",
    "#plt.show()\n",
    "\n",
    "print(\"body data\")\n",
    "# body preprocesszd\n",
    "pp200=pipeL_rf_300()\n",
    "pp200.fit(Xb_train,yb_train)\n",
    "# predicting the articles in the test set\n",
    "predictions2=pp200.predict(Xb_test)\n",
    "print(classification_report(yb_test, predictions2))\n",
    "#plot_confusion_matrix(pp200, Xb_test, yb_test)  \n",
    "#plt.show()\n",
    "\n",
    "print(\"body and title data\")\n",
    "# # text and title processed\n",
    "pp200=pipeL_rf_300()\n",
    "pp200.fit(Xbt_train,ybt_train)\n",
    "# predicting the articles in the test set\n",
    "predictions2=pp200.predict(Xbt_test)\n",
    "print(classification_report(ybt_test, predictions2))\n",
    "#plot_confusion_matrix(pp200, Xbt_test, ybt_test)  \n",
    "#plt.show()\n",
    "\n",
    "print(\"body + body and title data\")\n",
    " # text and title processed modified\n",
    "pp200=pipeL_rf_300()\n",
    "pp200.fit(Xbt2_train,ybt2_train)\n",
    "# predicting the articles in the test set\n",
    "predictions2=pp200.predict(Xbt2_test)\n",
    "print(classification_report(ybt2_test, predictions2))\n",
    "#plot_confusion_matrix(pp200, Xbt2_test, ybt2_test)  \n",
    "#plt.show()\n"
   ]
  },
  {
   "cell_type": "code",
   "execution_count": null,
   "metadata": {},
   "outputs": [],
   "source": [
    "# random forest with CV\n",
    "# Use the random grid to search for best hyperparameters\n"
   ]
  },
  {
   "cell_type": "code",
   "execution_count": null,
   "metadata": {},
   "outputs": [],
   "source": []
  },
  {
   "cell_type": "code",
   "execution_count": 242,
   "metadata": {},
   "outputs": [
    {
     "data": {
      "text/plain": [
       "{'bootstrap': True,\n",
       " 'ccp_alpha': 0.0,\n",
       " 'class_weight': 'balanced_subsample',\n",
       " 'criterion': 'gini',\n",
       " 'max_depth': None,\n",
       " 'max_features': 'auto',\n",
       " 'max_leaf_nodes': None,\n",
       " 'max_samples': None,\n",
       " 'min_impurity_decrease': 0.0,\n",
       " 'min_samples_leaf': 1,\n",
       " 'min_samples_split': 2,\n",
       " 'min_weight_fraction_leaf': 0.0,\n",
       " 'n_estimators': 300,\n",
       " 'n_jobs': None,\n",
       " 'oob_score': False,\n",
       " 'random_state': 0,\n",
       " 'verbose': 0,\n",
       " 'warm_start': False}"
      ]
     },
     "execution_count": 242,
     "metadata": {},
     "output_type": "execute_result"
    }
   ],
   "source": [
    "pp200.named_steps['classifier'].get_params()"
   ]
  },
  {
   "cell_type": "code",
   "execution_count": 244,
   "metadata": {},
   "outputs": [],
   "source": [
    "a = None \n",
    "a"
   ]
  },
  {
   "cell_type": "code",
   "execution_count": 245,
   "metadata": {},
   "outputs": [],
   "source": [
    "param_grid = {\n",
    "     'classifier__n_estimators': [100,200,300,400],\n",
    "     'classifier__random_state':[0],\n",
    "     'classifier__class_weight': [a,'balanced_subsample']\n",
    "     #'classifier__colsample_bytree': [0.6],\n",
    "     #'classifier__subsample': [0.5, 0.6, 0.7]\n",
    "}"
   ]
  },
  {
   "cell_type": "code",
   "execution_count": 246,
   "metadata": {},
   "outputs": [],
   "source": [
    "# grid search cross validation instantiation\n",
    "pprf=pipeL_rf()\n",
    "grid_search = GridSearchCV(estimator = pprf, param_grid = param_grid, \n",
    "                          cv = 10, n_jobs = 1, verbose = 0, return_train_score=True)"
   ]
  },
  {
   "cell_type": "code",
   "execution_count": 247,
   "metadata": {},
   "outputs": [
    {
     "name": "stdout",
     "output_type": "stream",
     "text": [
      " \n",
      "title data\n",
      "train scores\n",
      "[1. 1. 1. 1. 1. 1. 1. 1.]\n",
      "validation scores\n",
      "[0.55494505 0.53296703 0.53296703 0.5478022  0.5478022  0.56263736\n",
      " 0.52582418 0.53351648]\n",
      "{'classifier__class_weight': 'balanced_subsample', 'classifier__n_estimators': 200, 'classifier__random_state': 0}\n",
      "              precision    recall  f1-score   support\n",
      "\n",
      "        fake       0.86      0.22      0.35        27\n",
      "        real       0.59      0.97      0.73        31\n",
      "\n",
      "    accuracy                           0.62        58\n",
      "   macro avg       0.72      0.59      0.54        58\n",
      "weighted avg       0.71      0.62      0.56        58\n",
      "\n",
      " \n",
      "body data\n",
      "train scores\n",
      "[1. 1. 1. 1. 1. 1. 1. 1.]\n",
      "validation scores\n",
      "[0.62142857 0.67527473 0.63626374 0.6510989  0.63626374 0.63626374\n",
      " 0.6510989  0.64450549]\n",
      "{'classifier__class_weight': None, 'classifier__n_estimators': 200, 'classifier__random_state': 0}\n",
      "              precision    recall  f1-score   support\n",
      "\n",
      "        fake       0.61      0.81      0.70        27\n",
      "        real       0.77      0.55      0.64        31\n",
      "\n",
      "    accuracy                           0.67        58\n",
      "   macro avg       0.69      0.68      0.67        58\n",
      "weighted avg       0.70      0.67      0.67        58\n",
      "\n",
      " \n",
      "body and title data\n",
      "train scores\n",
      "[1. 1. 1. 1. 1. 1. 1. 1.]\n",
      "validation scores\n",
      "[0.65934066 0.68131868 0.71153846 0.66648352 0.65824176 0.65934066\n",
      " 0.67472527 0.69615385]\n",
      "{'classifier__class_weight': None, 'classifier__n_estimators': 300, 'classifier__random_state': 0}\n",
      "              precision    recall  f1-score   support\n",
      "\n",
      "        fake       0.64      0.78      0.70        27\n",
      "        real       0.76      0.61      0.68        31\n",
      "\n",
      "    accuracy                           0.69        58\n",
      "   macro avg       0.70      0.70      0.69        58\n",
      "weighted avg       0.70      0.69      0.69        58\n",
      "\n",
      " \n",
      "body + body and title data\n",
      "train scores\n",
      "[1. 1. 1. 1. 1. 1. 1. 1.]\n",
      "validation scores\n",
      "[0.63571429 0.6521978  0.65274725 0.63791209 0.60769231 0.62857143\n",
      " 0.66538462 0.65054945]\n",
      "{'classifier__class_weight': 'balanced_subsample', 'classifier__n_estimators': 300, 'classifier__random_state': 0}\n",
      "              precision    recall  f1-score   support\n",
      "\n",
      "        fake       0.61      0.74      0.67        27\n",
      "        real       0.72      0.58      0.64        31\n",
      "\n",
      "    accuracy                           0.66        58\n",
      "   macro avg       0.66      0.66      0.65        58\n",
      "weighted avg       0.67      0.66      0.65        58\n",
      "\n"
     ]
    }
   ],
   "source": [
    "# test on title processed\n",
    "print(\" \")\n",
    "print(\"title data\")\n",
    "grid_search.fit(Xt_train, yt_train)\n",
    "print('train scores') \n",
    "print(grid_search.cv_results_['mean_train_score'])\n",
    "print('validation scores') \n",
    "# validation scores\n",
    "print(grid_search.cv_results_['mean_test_score'])\n",
    "print(grid_search.best_params_)\n",
    "# creating a classifier with the best param to predict the test set and see if we are not overfiiting\n",
    "pprf_test = grid_search.best_estimator_\n",
    "predictionsrf=pprf_test.predict(Xt_test)\n",
    "print(classification_report(yt_test, predictionsrf))\n",
    "#plot_confusion_matrix(pp200, Xt_test, yt_test)  \n",
    "#plt.show()\n",
    "\n",
    "print(\" \")\n",
    "print(\"body data\")\n",
    "# body preprocesszd\n",
    "grid_search.fit(Xb_train, yb_train)\n",
    "print('train scores') \n",
    "print(grid_search.cv_results_['mean_train_score'])\n",
    "print('validation scores') \n",
    "# validation scores\n",
    "print(grid_search.cv_results_['mean_test_score'])\n",
    "print(grid_search.best_params_)\n",
    "# creating a classifier with the best param to predict the test set and see if we are not overfiiting\n",
    "pprf_test = grid_search.best_estimator_\n",
    "predictionsrf=pprf_test.predict(Xb_test)\n",
    "print(classification_report(yb_test, predictionsrf))\n",
    "\n",
    "print(\" \")\n",
    "print(\"body and title data\")\n",
    "# # text and title processed\n",
    "grid_search.fit(Xbt_train, ybt_train)\n",
    "print('train scores') \n",
    "print(grid_search.cv_results_['mean_train_score'])\n",
    "print('validation scores') \n",
    "# validation scores\n",
    "print(grid_search.cv_results_['mean_test_score'])\n",
    "print(grid_search.best_params_)\n",
    "# creating a classifier with the best param to predict the test set and see if we are not overfiiting\n",
    "pprf_test = grid_search.best_estimator_\n",
    "predictionsrf=pprf_test.predict(Xbt_test)\n",
    "print(classification_report(ybt_test, predictionsrf))\n",
    "#plot_confusion_matrix(pp200, Xbt_test, ybt_test)  \n",
    "#plt.show()\n",
    "\n",
    "print(\" \")\n",
    "print(\"body + body and title data\")\n",
    " # text and title processed modified\n",
    "grid_search.fit(Xbt2_train, ybt2_train)\n",
    "print('train scores') \n",
    "print(grid_search.cv_results_['mean_train_score'])\n",
    "print('validation scores') \n",
    "# validation scores\n",
    "print(grid_search.cv_results_['mean_test_score'])\n",
    "print(grid_search.best_params_)\n",
    "# creating a classifier with the best param to predict the test set and see if we are not overfiiting\n",
    "pprf_test = grid_search.best_estimator_\n",
    "predictionsrf=pprf_test.predict(Xbt2_test)\n",
    "print(classification_report(ybt2_test, predictionsrf))\n",
    "#plot_confusion_matrix(pp200, Xbt2_test, ybt2_test)  \n",
    "#plt.show()\n"
   ]
  },
  {
   "cell_type": "code",
   "execution_count": null,
   "metadata": {},
   "outputs": [],
   "source": []
  },
  {
   "cell_type": "code",
   "execution_count": null,
   "metadata": {},
   "outputs": [],
   "source": []
  },
  {
   "cell_type": "code",
   "execution_count": null,
   "metadata": {},
   "outputs": [],
   "source": [
    "\n",
    "    \n",
    "        "
   ]
  }
 ],
 "metadata": {
  "kernelspec": {
   "display_name": "Python 3",
   "language": "python",
   "name": "python3"
  },
  "language_info": {
   "codemirror_mode": {
    "name": "ipython",
    "version": 3
   },
   "file_extension": ".py",
   "mimetype": "text/x-python",
   "name": "python",
   "nbconvert_exporter": "python",
   "pygments_lexer": "ipython3",
   "version": "3.7.4"
  }
 },
 "nbformat": 4,
 "nbformat_minor": 2
}
