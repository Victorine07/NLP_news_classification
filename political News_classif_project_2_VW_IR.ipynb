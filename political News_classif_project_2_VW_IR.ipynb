{
 "cells": [
  {
   "cell_type": "markdown",
   "metadata": {},
   "source": [
    "PROJECT 2: Data Mining: fake news detection within online social media\n",
    "\n",
    "\n",
    "### \n",
    "\n",
    "for the slides presentation: https://www.youtube.com/watch?v=cEQXTsZrf8g\n"
   ]
  },
  {
   "cell_type": "code",
   "execution_count": 2,
   "metadata": {},
   "outputs": [
    {
     "name": "stderr",
     "output_type": "stream",
     "text": [
      "/Users/vickyyounang/opt/anaconda3/lib/python3.7/site-packages/statsmodels/tools/_testing.py:19: FutureWarning: pandas.util.testing is deprecated. Use the functions in the public API at pandas.testing instead.\n",
      "  import pandas.util.testing as tm\n"
     ]
    }
   ],
   "source": [
    "import numpy as np\n",
    "import pandas as pd\n",
    "import seaborn as sns\n",
    "import matplotlib.pyplot as plt\n",
    "%matplotlib inline\n",
    "\n",
    "import string\n",
    "import nltk\n",
    "from stop_words import get_stop_words\n",
    "from nltk.corpus import stopwords\n",
    "from nltk.stem.porter import PorterStemmer\n",
    "from nltk import word_tokenize\n",
    "\n",
    "from nltk.tokenize import WhitespaceTokenizer \n",
    "from sklearn.feature_extraction.text import CountVectorizer\n",
    "from sklearn.feature_extraction.text import TfidfTransformer\n",
    "from sklearn.naive_bayes import MultinomialNB\n",
    "from sklearn.pipeline import Pipeline\n",
    "\n",
    "from sklearn.ensemble import RandomForestClassifier\n",
    "from sklearn.linear_model import PassiveAggressiveClassifier\n",
    "from sklearn.metrics import plot_confusion_matrix\n",
    "from sklearn.model_selection import train_test_split,GridSearchCV, cross_val_score, StratifiedKFold\n",
    "from sklearn.metrics import classification_report,confusion_matrix,accuracy_score"
   ]
  },
  {
   "cell_type": "code",
   "execution_count": 3,
   "metadata": {},
   "outputs": [],
   "source": [
    "# dataset \n",
    "# we will be using the  buzz feed news  on twitter as dataset\n",
    "\n",
    "# What we plan on doing is to predict if a news is fake or real based on the words in the title and the text content (body)/ \n",
    "# then, what we want to do is give more weight to the words in the title and redo the process, \n",
    "# using random forest algorithms\n",
    "\n",
    "\n"
   ]
  },
  {
   "cell_type": "code",
   "execution_count": 4,
   "metadata": {},
   "outputs": [
    {
     "name": "stdout",
     "output_type": "stream",
     "text": [
      "(91, 12)\n",
      "(91, 12)\n"
     ]
    }
   ],
   "source": [
    "# loading dataset: we have real and fake one\n",
    "df_real=pd.read_csv('BuzzFeed_real_news_content.csv')\n",
    "print(df_real.shape)\n",
    "df_fake=pd.read_csv('BuzzFeed_fake_news_content.csv')\n",
    "print(df_fake.shape)"
   ]
  },
  {
   "cell_type": "code",
   "execution_count": 5,
   "metadata": {},
   "outputs": [],
   "source": [
    "# let's add the type of news in each dataset\n",
    "df_real[\"type\"]='real'\n",
    "df_fake[\"type\"]='fake'"
   ]
  },
  {
   "cell_type": "code",
   "execution_count": 6,
   "metadata": {},
   "outputs": [
    {
     "name": "stdout",
     "output_type": "stream",
     "text": [
      "(182, 13)\n"
     ]
    },
    {
     "data": {
      "text/html": [
       "<div>\n",
       "<style scoped>\n",
       "    .dataframe tbody tr th:only-of-type {\n",
       "        vertical-align: middle;\n",
       "    }\n",
       "\n",
       "    .dataframe tbody tr th {\n",
       "        vertical-align: top;\n",
       "    }\n",
       "\n",
       "    .dataframe thead th {\n",
       "        text-align: right;\n",
       "    }\n",
       "</style>\n",
       "<table border=\"1\" class=\"dataframe\">\n",
       "  <thead>\n",
       "    <tr style=\"text-align: right;\">\n",
       "      <th></th>\n",
       "      <th>id</th>\n",
       "      <th>title</th>\n",
       "      <th>text</th>\n",
       "      <th>url</th>\n",
       "      <th>top_img</th>\n",
       "      <th>authors</th>\n",
       "      <th>source</th>\n",
       "      <th>publish_date</th>\n",
       "      <th>movies</th>\n",
       "      <th>images</th>\n",
       "      <th>canonical_link</th>\n",
       "      <th>meta_data</th>\n",
       "      <th>type</th>\n",
       "    </tr>\n",
       "  </thead>\n",
       "  <tbody>\n",
       "    <tr>\n",
       "      <th>0</th>\n",
       "      <td>Fake_1-Webpage</td>\n",
       "      <td>Proof The Mainstream Media Is Manipulating The...</td>\n",
       "      <td>I woke up this morning to find a variation of ...</td>\n",
       "      <td>http://www.addictinginfo.org/2016/09/19/proof-...</td>\n",
       "      <td>http://addictinginfo.addictinginfoent.netdna-c...</td>\n",
       "      <td>Wendy Gittleson</td>\n",
       "      <td>http://www.addictinginfo.org</td>\n",
       "      <td>{'$date': 1474243200000}</td>\n",
       "      <td>NaN</td>\n",
       "      <td>http://i.imgur.com/JeqZLhj.png,http://addictin...</td>\n",
       "      <td>http://addictinginfo.com/2016/09/19/proof-the-...</td>\n",
       "      <td>{\"publisher\": \"Addicting Info | The Knowledge ...</td>\n",
       "      <td>fake</td>\n",
       "    </tr>\n",
       "    <tr>\n",
       "      <th>1</th>\n",
       "      <td>Fake_10-Webpage</td>\n",
       "      <td>Charity: Clinton Foundation Distributed “Water...</td>\n",
       "      <td>Former President Bill Clinton and his Clinton ...</td>\n",
       "      <td>http://eaglerising.com/36899/charity-clinton-f...</td>\n",
       "      <td>http://eaglerising.com/wp-content/uploads/2016...</td>\n",
       "      <td>View All Posts</td>\n",
       "      <td>http://eaglerising.com</td>\n",
       "      <td>{'$date': 1474416521000}</td>\n",
       "      <td>NaN</td>\n",
       "      <td>http://constitution.com/wp-content/uploads/201...</td>\n",
       "      <td>http://eaglerising.com/36899/charity-clinton-f...</td>\n",
       "      <td>{\"description\": \"The possibility that CHAI dis...</td>\n",
       "      <td>fake</td>\n",
       "    </tr>\n",
       "    <tr>\n",
       "      <th>2</th>\n",
       "      <td>Fake_11-Webpage</td>\n",
       "      <td>A Hillary Clinton Administration May be Entire...</td>\n",
       "      <td>After collapsing just before trying to step in...</td>\n",
       "      <td>http://eaglerising.com/36880/a-hillary-clinton...</td>\n",
       "      <td>http://eaglerising.com/wp-content/uploads/2016...</td>\n",
       "      <td>View All Posts,Tony Elliott</td>\n",
       "      <td>http://eaglerising.com</td>\n",
       "      <td>{'$date': 1474416638000}</td>\n",
       "      <td>NaN</td>\n",
       "      <td>http://constitution.com/wp-content/uploads/201...</td>\n",
       "      <td>http://eaglerising.com/36880/a-hillary-clinton...</td>\n",
       "      <td>{\"description\": \"Hillary Clinton may be the fi...</td>\n",
       "      <td>fake</td>\n",
       "    </tr>\n",
       "    <tr>\n",
       "      <th>3</th>\n",
       "      <td>Fake_12-Webpage</td>\n",
       "      <td>Trump’s Latest Campaign Promise May Be His Mos...</td>\n",
       "      <td>Donald Trump is, well, deplorable. He’s sugges...</td>\n",
       "      <td>http://www.addictinginfo.org/2016/09/19/trumps...</td>\n",
       "      <td>http://addictinginfo.addictinginfoent.netdna-c...</td>\n",
       "      <td>John Prager</td>\n",
       "      <td>http://www.addictinginfo.org</td>\n",
       "      <td>{'$date': 1474243200000}</td>\n",
       "      <td>NaN</td>\n",
       "      <td>http://i.imgur.com/JeqZLhj.png,http://2.gravat...</td>\n",
       "      <td>http://addictinginfo.com/2016/09/19/trumps-lat...</td>\n",
       "      <td>{\"publisher\": \"Addicting Info | The Knowledge ...</td>\n",
       "      <td>fake</td>\n",
       "    </tr>\n",
       "  </tbody>\n",
       "</table>\n",
       "</div>"
      ],
      "text/plain": [
       "                id                                              title  \\\n",
       "0   Fake_1-Webpage  Proof The Mainstream Media Is Manipulating The...   \n",
       "1  Fake_10-Webpage  Charity: Clinton Foundation Distributed “Water...   \n",
       "2  Fake_11-Webpage  A Hillary Clinton Administration May be Entire...   \n",
       "3  Fake_12-Webpage  Trump’s Latest Campaign Promise May Be His Mos...   \n",
       "\n",
       "                                                text  \\\n",
       "0  I woke up this morning to find a variation of ...   \n",
       "1  Former President Bill Clinton and his Clinton ...   \n",
       "2  After collapsing just before trying to step in...   \n",
       "3  Donald Trump is, well, deplorable. He’s sugges...   \n",
       "\n",
       "                                                 url  \\\n",
       "0  http://www.addictinginfo.org/2016/09/19/proof-...   \n",
       "1  http://eaglerising.com/36899/charity-clinton-f...   \n",
       "2  http://eaglerising.com/36880/a-hillary-clinton...   \n",
       "3  http://www.addictinginfo.org/2016/09/19/trumps...   \n",
       "\n",
       "                                             top_img  \\\n",
       "0  http://addictinginfo.addictinginfoent.netdna-c...   \n",
       "1  http://eaglerising.com/wp-content/uploads/2016...   \n",
       "2  http://eaglerising.com/wp-content/uploads/2016...   \n",
       "3  http://addictinginfo.addictinginfoent.netdna-c...   \n",
       "\n",
       "                       authors                        source  \\\n",
       "0              Wendy Gittleson  http://www.addictinginfo.org   \n",
       "1               View All Posts        http://eaglerising.com   \n",
       "2  View All Posts,Tony Elliott        http://eaglerising.com   \n",
       "3                  John Prager  http://www.addictinginfo.org   \n",
       "\n",
       "               publish_date movies  \\\n",
       "0  {'$date': 1474243200000}    NaN   \n",
       "1  {'$date': 1474416521000}    NaN   \n",
       "2  {'$date': 1474416638000}    NaN   \n",
       "3  {'$date': 1474243200000}    NaN   \n",
       "\n",
       "                                              images  \\\n",
       "0  http://i.imgur.com/JeqZLhj.png,http://addictin...   \n",
       "1  http://constitution.com/wp-content/uploads/201...   \n",
       "2  http://constitution.com/wp-content/uploads/201...   \n",
       "3  http://i.imgur.com/JeqZLhj.png,http://2.gravat...   \n",
       "\n",
       "                                      canonical_link  \\\n",
       "0  http://addictinginfo.com/2016/09/19/proof-the-...   \n",
       "1  http://eaglerising.com/36899/charity-clinton-f...   \n",
       "2  http://eaglerising.com/36880/a-hillary-clinton...   \n",
       "3  http://addictinginfo.com/2016/09/19/trumps-lat...   \n",
       "\n",
       "                                           meta_data  type  \n",
       "0  {\"publisher\": \"Addicting Info | The Knowledge ...  fake  \n",
       "1  {\"description\": \"The possibility that CHAI dis...  fake  \n",
       "2  {\"description\": \"Hillary Clinton may be the fi...  fake  \n",
       "3  {\"publisher\": \"Addicting Info | The Knowledge ...  fake  "
      ]
     },
     "execution_count": 6,
     "metadata": {},
     "output_type": "execute_result"
    }
   ],
   "source": [
    "# concatenating the two dataframes\n",
    "data = pd.concat([df_fake,df_real], axis =0)\n",
    "print(data.shape)\n",
    "data.head(4)"
   ]
  },
  {
   "cell_type": "code",
   "execution_count": 7,
   "metadata": {},
   "outputs": [
    {
     "data": {
      "text/html": [
       "<div>\n",
       "<style scoped>\n",
       "    .dataframe tbody tr th:only-of-type {\n",
       "        vertical-align: middle;\n",
       "    }\n",
       "\n",
       "    .dataframe tbody tr th {\n",
       "        vertical-align: top;\n",
       "    }\n",
       "\n",
       "    .dataframe thead th {\n",
       "        text-align: right;\n",
       "    }\n",
       "</style>\n",
       "<table border=\"1\" class=\"dataframe\">\n",
       "  <thead>\n",
       "    <tr style=\"text-align: right;\">\n",
       "      <th></th>\n",
       "      <th>id</th>\n",
       "      <th>title</th>\n",
       "      <th>text</th>\n",
       "      <th>url</th>\n",
       "      <th>top_img</th>\n",
       "      <th>authors</th>\n",
       "      <th>source</th>\n",
       "      <th>publish_date</th>\n",
       "      <th>movies</th>\n",
       "      <th>images</th>\n",
       "      <th>canonical_link</th>\n",
       "      <th>meta_data</th>\n",
       "      <th>type</th>\n",
       "    </tr>\n",
       "  </thead>\n",
       "  <tbody>\n",
       "    <tr>\n",
       "      <th>count</th>\n",
       "      <td>182</td>\n",
       "      <td>182</td>\n",
       "      <td>182</td>\n",
       "      <td>174</td>\n",
       "      <td>172</td>\n",
       "      <td>141</td>\n",
       "      <td>174</td>\n",
       "      <td>133</td>\n",
       "      <td>25</td>\n",
       "      <td>172</td>\n",
       "      <td>170</td>\n",
       "      <td>182</td>\n",
       "      <td>182</td>\n",
       "    </tr>\n",
       "    <tr>\n",
       "      <th>unique</th>\n",
       "      <td>182</td>\n",
       "      <td>178</td>\n",
       "      <td>178</td>\n",
       "      <td>171</td>\n",
       "      <td>166</td>\n",
       "      <td>90</td>\n",
       "      <td>28</td>\n",
       "      <td>118</td>\n",
       "      <td>25</td>\n",
       "      <td>169</td>\n",
       "      <td>168</td>\n",
       "      <td>171</td>\n",
       "      <td>2</td>\n",
       "    </tr>\n",
       "    <tr>\n",
       "      <th>top</th>\n",
       "      <td>Fake_46-Webpage</td>\n",
       "      <td>Clinton Foundation Spent 5.7% on Charity; Rest...</td>\n",
       "      <td>Back when the news first broke about the pay-t...</td>\n",
       "      <td>http://eaglerising.com/36847/clinton-foundatio...</td>\n",
       "      <td>http://static.politico.com/da/f5/44342c424c68b...</td>\n",
       "      <td>Terresa Monroe-hamilton</td>\n",
       "      <td>http://politi.co</td>\n",
       "      <td>{'$date': 1474588800000}</td>\n",
       "      <td>https://www.youtube.com/embed/D0DMOBBOJ0U</td>\n",
       "      <td>http://constitution.com/wp-content/uploads/201...</td>\n",
       "      <td>http://eaglerising.com/36880/a-hillary-clinton...</td>\n",
       "      <td>{}</td>\n",
       "      <td>real</td>\n",
       "    </tr>\n",
       "    <tr>\n",
       "      <th>freq</th>\n",
       "      <td>1</td>\n",
       "      <td>2</td>\n",
       "      <td>2</td>\n",
       "      <td>2</td>\n",
       "      <td>3</td>\n",
       "      <td>8</td>\n",
       "      <td>32</td>\n",
       "      <td>5</td>\n",
       "      <td>1</td>\n",
       "      <td>2</td>\n",
       "      <td>2</td>\n",
       "      <td>8</td>\n",
       "      <td>91</td>\n",
       "    </tr>\n",
       "  </tbody>\n",
       "</table>\n",
       "</div>"
      ],
      "text/plain": [
       "                     id                                              title  \\\n",
       "count               182                                                182   \n",
       "unique              182                                                178   \n",
       "top     Fake_46-Webpage  Clinton Foundation Spent 5.7% on Charity; Rest...   \n",
       "freq                  1                                                  2   \n",
       "\n",
       "                                                     text  \\\n",
       "count                                                 182   \n",
       "unique                                                178   \n",
       "top     Back when the news first broke about the pay-t...   \n",
       "freq                                                    2   \n",
       "\n",
       "                                                      url  \\\n",
       "count                                                 174   \n",
       "unique                                                171   \n",
       "top     http://eaglerising.com/36847/clinton-foundatio...   \n",
       "freq                                                    2   \n",
       "\n",
       "                                                  top_img  \\\n",
       "count                                                 172   \n",
       "unique                                                166   \n",
       "top     http://static.politico.com/da/f5/44342c424c68b...   \n",
       "freq                                                    3   \n",
       "\n",
       "                        authors            source              publish_date  \\\n",
       "count                       141               174                       133   \n",
       "unique                       90                28                       118   \n",
       "top     Terresa Monroe-hamilton  http://politi.co  {'$date': 1474588800000}   \n",
       "freq                          8                32                         5   \n",
       "\n",
       "                                           movies  \\\n",
       "count                                          25   \n",
       "unique                                         25   \n",
       "top     https://www.youtube.com/embed/D0DMOBBOJ0U   \n",
       "freq                                            1   \n",
       "\n",
       "                                                   images  \\\n",
       "count                                                 172   \n",
       "unique                                                169   \n",
       "top     http://constitution.com/wp-content/uploads/201...   \n",
       "freq                                                    2   \n",
       "\n",
       "                                           canonical_link meta_data  type  \n",
       "count                                                 170       182   182  \n",
       "unique                                                168       171     2  \n",
       "top     http://eaglerising.com/36880/a-hillary-clinton...        {}  real  \n",
       "freq                                                    2         8    91  "
      ]
     },
     "execution_count": 7,
     "metadata": {},
     "output_type": "execute_result"
    }
   ],
   "source": [
    "# data summary \n",
    "data.describe()"
   ]
  },
  {
   "cell_type": "code",
   "execution_count": 8,
   "metadata": {},
   "outputs": [
    {
     "name": "stdout",
     "output_type": "stream",
     "text": [
      "<class 'pandas.core.frame.DataFrame'>\n",
      "Int64Index: 182 entries, 0 to 90\n",
      "Data columns (total 13 columns):\n",
      " #   Column          Non-Null Count  Dtype \n",
      "---  ------          --------------  ----- \n",
      " 0   id              182 non-null    object\n",
      " 1   title           182 non-null    object\n",
      " 2   text            182 non-null    object\n",
      " 3   url             174 non-null    object\n",
      " 4   top_img         172 non-null    object\n",
      " 5   authors         141 non-null    object\n",
      " 6   source          174 non-null    object\n",
      " 7   publish_date    133 non-null    object\n",
      " 8   movies          25 non-null     object\n",
      " 9   images          172 non-null    object\n",
      " 10  canonical_link  170 non-null    object\n",
      " 11  meta_data       182 non-null    object\n",
      " 12  type            182 non-null    object\n",
      "dtypes: object(13)\n",
      "memory usage: 19.9+ KB\n"
     ]
    }
   ],
   "source": [
    "# we can already see that among the titles, there are 5 duplicates\n",
    "data.info()"
   ]
  },
  {
   "cell_type": "code",
   "execution_count": 9,
   "metadata": {},
   "outputs": [
    {
     "name": "stdout",
     "output_type": "stream",
     "text": [
      "title       0\n",
      "text        0\n",
      "source      8\n",
      "movies    157\n",
      "images     10\n",
      "type        0\n",
      "dtype: int64\n",
      "title       0\n",
      "text        0\n",
      "source      8\n",
      "movies    157\n",
      "images     10\n",
      "type        0\n",
      "dtype: int64\n"
     ]
    }
   ],
   "source": [
    "# cleaning the data and extracting features:\n",
    "# stop words, tokenization and stemming\n",
    "# start by removing the columns we are not going to use in our process; we will keep the title, text, the source, image and movie\n",
    "\n",
    "data.drop(['id','url', 'top_img','authors','publish_date','canonical_link','meta_data'],axis=1, inplace=True)\n",
    "\n",
    "# checking missing and null values\n",
    "print(data.isnull().sum())\n",
    "print(data.isna().sum())\n",
    "\n"
   ]
  },
  {
   "cell_type": "code",
   "execution_count": 10,
   "metadata": {},
   "outputs": [
    {
     "data": {
      "text/html": [
       "<div>\n",
       "<style scoped>\n",
       "    .dataframe tbody tr th:only-of-type {\n",
       "        vertical-align: middle;\n",
       "    }\n",
       "\n",
       "    .dataframe tbody tr th {\n",
       "        vertical-align: top;\n",
       "    }\n",
       "\n",
       "    .dataframe thead th {\n",
       "        text-align: right;\n",
       "    }\n",
       "</style>\n",
       "<table border=\"1\" class=\"dataframe\">\n",
       "  <thead>\n",
       "    <tr style=\"text-align: right;\">\n",
       "      <th></th>\n",
       "      <th>title</th>\n",
       "      <th>text</th>\n",
       "      <th>source</th>\n",
       "      <th>movies</th>\n",
       "      <th>images</th>\n",
       "      <th>type</th>\n",
       "    </tr>\n",
       "  </thead>\n",
       "  <tbody>\n",
       "    <tr>\n",
       "      <th>0</th>\n",
       "      <td>Proof The Mainstream Media Is Manipulating The...</td>\n",
       "      <td>I woke up this morning to find a variation of ...</td>\n",
       "      <td>http://www.addictinginfo.org</td>\n",
       "      <td>0</td>\n",
       "      <td>1</td>\n",
       "      <td>fake</td>\n",
       "    </tr>\n",
       "    <tr>\n",
       "      <th>1</th>\n",
       "      <td>Charity: Clinton Foundation Distributed “Water...</td>\n",
       "      <td>Former President Bill Clinton and his Clinton ...</td>\n",
       "      <td>http://eaglerising.com</td>\n",
       "      <td>0</td>\n",
       "      <td>1</td>\n",
       "      <td>fake</td>\n",
       "    </tr>\n",
       "    <tr>\n",
       "      <th>2</th>\n",
       "      <td>A Hillary Clinton Administration May be Entire...</td>\n",
       "      <td>After collapsing just before trying to step in...</td>\n",
       "      <td>http://eaglerising.com</td>\n",
       "      <td>0</td>\n",
       "      <td>1</td>\n",
       "      <td>fake</td>\n",
       "    </tr>\n",
       "    <tr>\n",
       "      <th>3</th>\n",
       "      <td>Trump’s Latest Campaign Promise May Be His Mos...</td>\n",
       "      <td>Donald Trump is, well, deplorable. He’s sugges...</td>\n",
       "      <td>http://www.addictinginfo.org</td>\n",
       "      <td>0</td>\n",
       "      <td>1</td>\n",
       "      <td>fake</td>\n",
       "    </tr>\n",
       "    <tr>\n",
       "      <th>4</th>\n",
       "      <td>Website is Down For Maintenance</td>\n",
       "      <td>Website is Down For Maintenance</td>\n",
       "      <td>http://www.proudcons.com</td>\n",
       "      <td>0</td>\n",
       "      <td>0</td>\n",
       "      <td>fake</td>\n",
       "    </tr>\n",
       "  </tbody>\n",
       "</table>\n",
       "</div>"
      ],
      "text/plain": [
       "                                               title  \\\n",
       "0  Proof The Mainstream Media Is Manipulating The...   \n",
       "1  Charity: Clinton Foundation Distributed “Water...   \n",
       "2  A Hillary Clinton Administration May be Entire...   \n",
       "3  Trump’s Latest Campaign Promise May Be His Mos...   \n",
       "4                    Website is Down For Maintenance   \n",
       "\n",
       "                                                text  \\\n",
       "0  I woke up this morning to find a variation of ...   \n",
       "1  Former President Bill Clinton and his Clinton ...   \n",
       "2  After collapsing just before trying to step in...   \n",
       "3  Donald Trump is, well, deplorable. He’s sugges...   \n",
       "4                    Website is Down For Maintenance   \n",
       "\n",
       "                         source  movies  images  type  \n",
       "0  http://www.addictinginfo.org       0       1  fake  \n",
       "1        http://eaglerising.com       0       1  fake  \n",
       "2        http://eaglerising.com       0       1  fake  \n",
       "3  http://www.addictinginfo.org       0       1  fake  \n",
       "4      http://www.proudcons.com       0       0  fake  "
      ]
     },
     "execution_count": 10,
     "metadata": {},
     "output_type": "execute_result"
    }
   ],
   "source": [
    "# so we have 157 NA in movie column and some in source and images; this is coherent with the data.info()\n",
    "# we might just end up, droping this movie column, as it has so many NAN, another alternative is\n",
    "# we will transform the image and movie column into new binary columns depending on if the earticle has contain an image or\n",
    "# and similarly,  if the link to a movie is available or not\n",
    "\n",
    "data['movies']=data['movies'].apply(lambda x: 0 if str(x)=='nan' else 1)\n",
    "data['images']=data['images'].apply(lambda x: 0 if str(x)=='nan' else 1)\n",
    "\n",
    "data.head(5)\n"
   ]
  },
  {
   "cell_type": "code",
   "execution_count": 11,
   "metadata": {},
   "outputs": [
    {
     "data": {
      "image/png": "[encoded data removed]",
      "text/plain": [
       "<Figure size 432x288 with 1 Axes>"
      ]
     },
     "metadata": {
      "needs_background": "light"
     },
     "output_type": "display_data"
    },
    {
     "data": {
      "image/png": "[encoded data removed]",
      "text/plain": [
       "<Figure size 432x288 with 1 Axes>"
      ]
     },
     "metadata": {
      "needs_background": "light"
     },
     "output_type": "display_data"
    }
   ],
   "source": [
    "# now, let\"s look at the source and see the difference between the real and fake sources\n",
    "real_order=data[data['type']=='real']['source'].value_counts().sort_values(ascending=False).index\n",
    "fake_order=data[data['type']=='fake']['source'].value_counts().sort_values(ascending=False).index\n",
    "\n",
    "# subplot for the real sources\n",
    "plt.subplot(1, 2, 1) \n",
    "#plt.figure(figsize=(10,6))\n",
    "sns.countplot(y='source', data=data[data['type']=='real'],order=real_order,palette='rocket')\n",
    "plt.xlabel('Count',fontsize=12)\n",
    "plt.ylabel('Source',fontsize=12)\n",
    "plt.title('Sources of Real News',fontsize=15)\n",
    "plt.show()\n",
    "\n",
    "# subplot for the fake sources\n",
    "plt.subplot(1, 2, 2) \n",
    "#plt.figure(figsize=(10,6))\n",
    "sns.countplot(y='source', data=data[data['type']=='fake'],order=fake_order,palette='rocket')\n",
    "plt.xlabel('Count',fontsize=12)\n",
    "plt.ylabel('Source',fontsize=12)\n",
    "plt.title('Sources of Fake News',fontsize=15)\n",
    "\n",
    "plt.show()\n"
   ]
  },
  {
   "cell_type": "code",
   "execution_count": 12,
   "metadata": {},
   "outputs": [],
   "source": [
    "#data[data['type']=='fake']['source'].unique()"
   ]
  },
  {
   "cell_type": "code",
   "execution_count": 13,
   "metadata": {},
   "outputs": [
    {
     "name": "stdout",
     "output_type": "stream",
     "text": [
      "['http://www.addictinginfo.org', 'http://eaglerising.com', 'http://conservativebyte.com', 'http://winningdemocrats.com', 'http://freedomdaily.com', 'http://occupydemocrats.com', 'http://rightwingnews.com', 'http://addictinginfo.org']\n"
     ]
    }
   ],
   "source": [
    "# let's check the sources that publish both fake and real news\n",
    "both_sources =[]\n",
    "for i in data[data['type']=='fake']['source'].unique():\n",
    "    if i in data[data['type']=='real']['source'].unique():\n",
    "        both_sources.append(i)\n",
    "\n",
    "print(both_sources)"
   ]
  },
  {
   "cell_type": "code",
   "execution_count": 14,
   "metadata": {},
   "outputs": [],
   "source": [
    "# let's plot the common sources with their ratio of real and fake news:\n",
    "data['common']= data['source'].apply(lambda x: x if x in both_sources else 0 )"
   ]
  },
  {
   "cell_type": "code",
   "execution_count": 15,
   "metadata": {},
   "outputs": [
    {
     "data": {
      "image/png": "[encoded data removed]",
      "text/plain": [
       "<Figure size 576x432 with 1 Axes>"
      ]
     },
     "metadata": {
      "needs_background": "light"
     },
     "output_type": "display_data"
    }
   ],
   "source": [
    "plt.figure(figsize=(8,6))\n",
    "sns.countplot(y='common',data=data[data['common']!=0],hue='type',palette='autumn')\n",
    "plt.xlabel('Count',fontsize=12)\n",
    "plt.ylabel('Source',fontsize=12)\n",
    "plt.legend(loc='best', title='News Type',fontsize=10)\n",
    "plt.title('Common Sources of Real and Fake News',fontsize=20)\n",
    "plt.show()"
   ]
  },
  {
   "cell_type": "code",
   "execution_count": 16,
   "metadata": {},
   "outputs": [
    {
     "data": {
      "image/png": "[encoded data removed]",
      "text/plain": [
       "<Figure size 576x432 with 1 Axes>"
      ]
     },
     "metadata": {
      "needs_background": "light"
     },
     "output_type": "display_data"
    }
   ],
   "source": [
    "# let's look at the number of sources including a movie vs not\n",
    "plt.figure(figsize=(8,6))\n",
    "sns.countplot(x='movies', data=data, hue='type', palette='PuBuGn_r')\n",
    "plt.xlabel('Movies Linked to News Type',fontsize=12)\n",
    "plt.ylabel('Count',fontsize=12)\n",
    "plt.legend(loc='best', title='News Type',fontsize=10)\n",
    "plt.title('Number of Different News Type Versus Linked Movies',fontsize=18)\n",
    "plt.show()"
   ]
  },
  {
   "cell_type": "code",
   "execution_count": 211,
   "metadata": {},
   "outputs": [
    {
     "data": {
      "image/png": "[encoded data removed]",
      "text/plain": [
       "<Figure size 576x432 with 1 Axes>"
      ]
     },
     "metadata": {
      "needs_background": "light"
     },
     "output_type": "display_data"
    }
   ],
   "source": [
    "# most news does not have movie clips incorporated, we might end up dropping this column, as it does not provide useful info\n",
    "# let's see for the images\n",
    "plt.figure(figsize=(8,6))\n",
    "sns.countplot(x='images', data=data, hue='type', palette='viridis')\n",
    "plt.xlabel('Movies Linked to News by Type',fontsize=12)\n",
    "plt.ylabel('Count',fontsize=12)\n",
    "plt.legend(loc='best', title='News Type',fontsize=10)\n",
    "plt.title('Number of Different News Type Versus Linked Images',fontsize=18)\n",
    "plt.show()"
   ]
  },
  {
   "cell_type": "code",
   "execution_count": 18,
   "metadata": {},
   "outputs": [],
   "source": [
    "# this shows that all real news contain images as well as some fake ones. this could be some useful info\n"
   ]
  },
  {
   "cell_type": "code",
   "execution_count": 19,
   "metadata": {},
   "outputs": [],
   "source": [
    "# preprocessing of the title and text of news articles....\n",
    "# For this, we are going to :\n",
    " # convert text to lower case\n",
    " # remove numbern punctuation, extra spaces, special characters from the text corpus\n",
    " # removing stop words\n",
    " # stemming words to root\n"
   ]
  },
  {
   "cell_type": "code",
   "execution_count": 20,
   "metadata": {},
   "outputs": [
    {
     "name": "stderr",
     "output_type": "stream",
     "text": [
      "[nltk_data] Downloading package stopwords to\n",
      "[nltk_data]     /Users/vickyyounang/nltk_data...\n",
      "[nltk_data]   Package stopwords is already up-to-date!\n"
     ]
    },
    {
     "data": {
      "text/plain": [
       "True"
      ]
     },
     "execution_count": 20,
     "metadata": {},
     "output_type": "execute_result"
    }
   ],
   "source": [
    "nltk.download('stopwords')"
   ]
  },
  {
   "cell_type": "code",
   "execution_count": 21,
   "metadata": {},
   "outputs": [
    {
     "name": "stderr",
     "output_type": "stream",
     "text": [
      "[nltk_data] Downloading package punkt to\n",
      "[nltk_data]     /Users/vickyyounang/nltk_data...\n",
      "[nltk_data]   Package punkt is already up-to-date!\n"
     ]
    },
    {
     "data": {
      "text/plain": [
       "True"
      ]
     },
     "execution_count": 21,
     "metadata": {},
     "output_type": "execute_result"
    }
   ],
   "source": [
    "nltk.download('punkt')"
   ]
  },
  {
   "cell_type": "code",
   "execution_count": 22,
   "metadata": {},
   "outputs": [
    {
     "name": "stderr",
     "output_type": "stream",
     "text": [
      "[nltk_data] Downloading package stopwords to\n",
      "[nltk_data]     /Users/vickyyounang/nltk_data...\n",
      "[nltk_data]   Package stopwords is already up-to-date!\n"
     ]
    },
    {
     "data": {
      "text/plain": [
       "True"
      ]
     },
     "execution_count": 22,
     "metadata": {},
     "output_type": "execute_result"
    }
   ],
   "source": [
    "nltk.download('stopwords')"
   ]
  },
  {
   "cell_type": "code",
   "execution_count": 23,
   "metadata": {},
   "outputs": [
    {
     "data": {
      "text/plain": [
       "'!\"#$%&\\'()*+,-./:;<=>?@[\\\\]^_`{|}~'"
      ]
     },
     "execution_count": 23,
     "metadata": {},
     "output_type": "execute_result"
    }
   ],
   "source": [
    "import string\n",
    "string.punctuation"
   ]
  },
  {
   "cell_type": "code",
   "execution_count": 24,
   "metadata": {},
   "outputs": [],
   "source": [
    "# preprocessing function:\n",
    "\n",
    "ps = PorterStemmer()\n",
    "wt = WhitespaceTokenizer()\n",
    "\n",
    "def preprocess_text(text):\n",
    "    \n",
    "    #text = ''\n",
    "    #removing the stopwords\n",
    "    \n",
    "    #wordlist = word_tokenize(x)\n",
    "    \n",
    "    wordlist = word_tokenize(text)\n",
    "    #print(wordlist)\n",
    "    \n",
    "    # lower\n",
    "    text = [ word.lower() for word in wordlist]\n",
    "    \n",
    "    stop_words = list(get_stop_words('en'))         #About 900 stopwords\n",
    "    nltk_words = list(stopwords.words('english')) #About 150 stopwords$\n",
    "    stop_words.extend(nltk_words)\n",
    "    filtered_words = [word for word in text if word not in stop_words]\n",
    "    #print(filtered_words)\n",
    "    \n",
    "    \n",
    "    # removing special char \n",
    "    text = [word for word in filtered_words if (word.isalnum()==True) or (word==' ') ] \n",
    "    #print(text)\n",
    "    \n",
    "    #removing special characters and punctuation\n",
    "    #text = text.translate(str.maketrans('', '', string.punctuation))\n",
    "    #text = [word for word in text if word not in string.punctuation]\n",
    "    #text = [word.translate(str.maketrans('', '', string.punctuation)) for word in text]\n",
    "    text = [word for word in text if word not in string.punctuation]\n",
    "    #text2 = [word.translate(str.maketrans('', '', string.punctuation)) for word in text]\n",
    "    #wordlist = word_tokenize(text)\n",
    "    \n",
    "    #REMOVING NUMBERS\n",
    "    text = str(' ').join([i for i in text if not i.isdigit()])\n",
    "    \n",
    "    \n",
    "    \n",
    "    \n",
    "    #for sentence in intext:\n",
    "    #    text = text+' '+sentence\n",
    "    \n",
    "    #print(text)\n",
    "    # stemming the input words:\n",
    "    #psstem = [ps.stem(a) for a in text]\n",
    "    psstem = ps.stem(text)\n",
    "    #text = ' '.join(psstem)\n",
    "     \n",
    "    # removing spaces and getting only words:\n",
    "    text = wt.tokenize(psstem)\n",
    "    #print(text)\n",
    "     \n",
    "    \n",
    "    \n",
    "    \n",
    "    \n",
    "    \n",
    "    #print(text)\n",
    "    # lower case\n",
    "    out = ''\n",
    "    for word in text:\n",
    "        out = out+word.lower()+' '\n",
    "    #text = [ word.lower() for word in text]\n",
    "    #text = text.lower() \n",
    "    \n",
    "    # print (out)\n",
    "    \n",
    "    return out\n",
    "\n"
   ]
  },
  {
   "cell_type": "code",
   "execution_count": 25,
   "metadata": {},
   "outputs": [],
   "source": [
    "test = ['Proof The Mainstream Media Is Manipulating The Election By Taking Bill Clinton Out Of Context']"
   ]
  },
  {
   "cell_type": "code",
   "execution_count": 26,
   "metadata": {},
   "outputs": [],
   "source": [
    "a=[]\n",
    "\n",
    "for line in test:\n",
    "    a.append(preprocess_text(line))\n",
    "\n",
    "#a"
   ]
  },
  {
   "cell_type": "code",
   "execution_count": 27,
   "metadata": {},
   "outputs": [],
   "source": [
    "# getting the count per words given the dataset:\n",
    "def count_words(dataset):\n",
    "    \n",
    "    # preprocessing the dataset\n",
    "    dat_tit =[]\n",
    "    for line in dataset:\n",
    "        dat_tit.append(preprocess_text(line))\n",
    "    \n",
    "    # vectorising the output by wounts\n",
    "    countvect = CountVectorizer( ).fit( dat_tit)\n",
    "    df_title = countvect.transform(dat_tit)\n",
    "    print(pd.DataFrame(df_title.todense()).shape)\n",
    "    \n",
    "    # getting the sum for each word\n",
    "    new1=[]\n",
    "    for x in range(0,pd.DataFrame(df_title.todense()).shape[1]):\n",
    "        new1.append(countvect.get_feature_names()[x])\n",
    "\n",
    "    # tdf matrix\n",
    "    matrix=pd.DataFrame(df_title.todense(),columns=new1)\n",
    "\n",
    "    # sum for representation\n",
    "    sm1=[]\n",
    "    for x in new1:\n",
    "        sm1.append(matrix[x].sum())\n",
    "\n",
    "    trans=matrix.transpose()\n",
    "    trans['sum']=sm1\n",
    "    top=trans.sort_values(by='sum', ascending=False)\n",
    "    \n",
    "    return top\n",
    "    \n",
    "    \n",
    "    \n",
    "    "
   ]
  },
  {
   "cell_type": "code",
   "execution_count": 28,
   "metadata": {},
   "outputs": [
    {
     "name": "stdout",
     "output_type": "stream",
     "text": [
      "(91,)\n",
      "(91, 464)\n"
     ]
    },
    {
     "name": "stderr",
     "output_type": "stream",
     "text": [
      "/Users/vickyyounang/opt/anaconda3/lib/python3.7/site-packages/sklearn/utils/deprecation.py:87: FutureWarning: Function get_feature_names is deprecated; get_feature_names is deprecated in 1.0 and will be removed in 1.2. Please use get_feature_names_out instead.\n",
      "  warnings.warn(msg, category=FutureWarning)\n"
     ]
    }
   ],
   "source": [
    "# analysze title of fake and real news\n",
    "# here, the goal is to bring out the firsr top 25 topics of the different articles in their titles\n",
    "\n",
    "# fake\n",
    "df_fake=data[data['type']=='fake']\n",
    "\n",
    "print(df_fake['title'].shape)\n",
    "#type(df_fake['title'])\n",
    "\n",
    "top_fake_20=count_words(df_fake['title']).head(20)"
   ]
  },
  {
   "cell_type": "code",
   "execution_count": 29,
   "metadata": {},
   "outputs": [
    {
     "name": "stdout",
     "output_type": "stream",
     "text": [
      "(91,)\n",
      "(91, 442)\n"
     ]
    }
   ],
   "source": [
    "# for the real dataqet\n",
    "\n",
    "df_real=data[data['type']=='real']\n",
    "\n",
    "print(df_real['title'].shape)\n",
    "#type(df_fake['title'])\n",
    "\n",
    "top_real_20=count_words(df_real['title']).head(20)"
   ]
  },
  {
   "cell_type": "code",
   "execution_count": 30,
   "metadata": {},
   "outputs": [],
   "source": [
    "# merging the fake and real top 20\n",
    "\n",
    "#let's drop the useless columns, those not the sum\n",
    "top_fake_20.drop(list(range(0,91)),axis=1,inplace=True)\n",
    "top_real_20.drop(list(range(0,91)),axis=1,inplace=True)\n",
    "\n",
    "# adding a category column\n",
    "top_real_20['type']='real'\n",
    "top_fake_20['type']='fake'\n"
   ]
  },
  {
   "cell_type": "code",
   "execution_count": 31,
   "metadata": {},
   "outputs": [],
   "source": [
    "# concat\n",
    "conc1_top_20=pd.concat([top_real_20,top_fake_20])"
   ]
  },
  {
   "cell_type": "code",
   "execution_count": 32,
   "metadata": {},
   "outputs": [
    {
     "data": {
      "image/png": "[encoded data removed]",
      "text/plain": [
       "<Figure size 864x720 with 1 Axes>"
      ]
     },
     "metadata": {
      "needs_background": "light"
     },
     "output_type": "display_data"
    }
   ],
   "source": [
    "# let's plot them\n",
    "plt.figure(figsize=(12,10))\n",
    "sns.barplot(y=conc1_top_20.index,x='sum',data=conc1_top_20,hue='type',palette='rocket')\n",
    "plt.xticks(rotation=90)\n",
    "plt.xlabel('Term Frequency of Words',fontsize=12)\n",
    "plt.ylabel('Top Words in Titles',fontsize=12)\n",
    "plt.legend(title='News Type',fontsize=12)\n",
    "plt.title('Frequency of Words in the Title of News by type',fontsize=20)\n",
    "plt.show()"
   ]
  },
  {
   "cell_type": "code",
   "execution_count": 215,
   "metadata": {},
   "outputs": [
    {
     "name": "stdout",
     "output_type": "stream",
     "text": [
      "real\n",
      "(91,)\n",
      "(91, 7115)\n",
      "fake\n",
      "(91,)\n",
      "(91, 5564)\n"
     ]
    }
   ],
   "source": [
    "# let's do the same process for the body of real and fake top 30\n",
    "\n",
    "# for the real dataqet\n",
    "print(\"real\")\n",
    "print(df_real['text'].shape)\n",
    "#type(df_fake['title'])\n",
    "\n",
    "top_Breal_30=count_words(df_real['text']).head(20)\n",
    "\n",
    "# for the fake dataqet\n",
    "print (\"fake\")\n",
    "print(df_fake['text'].shape)\n",
    "#type(df_fake['title'])\n",
    "\n",
    "top_Bfake_30=count_words(df_fake['text']).head(20)"
   ]
  },
  {
   "cell_type": "code",
   "execution_count": 213,
   "metadata": {},
   "outputs": [],
   "source": [
    "# merging the fake and real top 20\n",
    "\n",
    "#let's drop the useless columns, those not the sum\n",
    "top_Bfake_30.drop(list(range(0,91)),axis=1,inplace=True)\n",
    "top_Breal_30.drop(list(range(0,91)),axis=1,inplace=True)\n",
    "\n",
    "# adding a category column\n",
    "top_Breal_30['type']='real'\n",
    "top_Bfake_30['type']='fake'\n",
    "# concat\n",
    "conc1_top_20_b=pd.concat([top_Breal_30,top_Bfake_30])"
   ]
  },
  {
   "cell_type": "code",
   "execution_count": 214,
   "metadata": {},
   "outputs": [
    {
     "data": {
      "image/png": "[encoded data removed]",
      "text/plain": [
       "<Figure size 864x720 with 1 Axes>"
      ]
     },
     "metadata": {
      "needs_background": "light"
     },
     "output_type": "display_data"
    }
   ],
   "source": [
    "# let's plot them\n",
    "plt.figure(figsize=(12,10))\n",
    "sns.barplot(y=conc1_top_20_b.index,x='sum',data=conc1_top_20_b,hue='type',palette='rocket')\n",
    "plt.xticks(rotation=90)\n",
    "plt.xlabel('Term Frequency of Words',fontsize=12)\n",
    "plt.ylabel('Top Words in Body',fontsize=12)\n",
    "plt.legend(title='News Type',fontsize=12)\n",
    "plt.title('Frequency of Words in the Body of News by type',fontsize=20)\n",
    "plt.show()"
   ]
  },
  {
   "cell_type": "code",
   "execution_count": 37,
   "metadata": {},
   "outputs": [],
   "source": [
    "# let's analyse the length of the title and body text\n",
    "data['title_length']=data['title'].apply(lambda x: len(x))\n",
    "data['body_length']=data['text'].apply(lambda x: len(x))"
   ]
  },
  {
   "cell_type": "code",
   "execution_count": 38,
   "metadata": {},
   "outputs": [
    {
     "data": {
      "image/png": "[encoded data removed]",
      "text/plain": [
       "<Figure size 720x432 with 1 Axes>"
      ]
     },
     "metadata": {
      "needs_background": "light"
     },
     "output_type": "display_data"
    }
   ],
   "source": [
    "# plotting title length\n",
    "plt.figure(figsize=(10,6))\n",
    "sns.kdeplot(data[data['type']=='real']['title_length'])\n",
    "sns.kdeplot(data[data['type']=='fake']['title_length'])\n",
    "plt.xlabel('Title Length',fontsize=12)\n",
    "plt.ylabel('Density',fontsize=12)\n",
    "plt.legend(title='News Type',fontsize=10,labels=['Real','Fake'])\n",
    "plt.title('Distribuiton of Title Length for Real and Fake News',fontsize=15)\n",
    "plt.show()"
   ]
  },
  {
   "cell_type": "code",
   "execution_count": 39,
   "metadata": {},
   "outputs": [
    {
     "data": {
      "image/png": "[encoded data removed]",
      "text/plain": [
       "<Figure size 720x432 with 1 Axes>"
      ]
     },
     "metadata": {
      "needs_background": "light"
     },
     "output_type": "display_data"
    }
   ],
   "source": [
    "# plotting title length\n",
    "plt.figure(figsize=(10,6))\n",
    "sns.kdeplot(data[data['type']=='real']['body_length'])\n",
    "sns.kdeplot(data[data['type']=='fake']['body_length'])\n",
    "plt.xlabel('Body Length',fontsize=12)\n",
    "plt.ylabel('Density',fontsize=12)\n",
    "plt.legend(title='News Type',fontsize=10,labels=['Real','Fake'])\n",
    "plt.title('Distribuiton of Body Length for Real and Fake News',fontsize=15)\n",
    "plt.show()"
   ]
  },
  {
   "cell_type": "markdown",
   "metadata": {},
   "source": [
    "### Classification\n",
    "#### Random Forest with the tdf of the body only"
   ]
  },
  {
   "cell_type": "code",
   "execution_count": 40,
   "metadata": {},
   "outputs": [],
   "source": [
    "yb= data['type']"
   ]
  },
  {
   "cell_type": "code",
   "execution_count": 41,
   "metadata": {},
   "outputs": [],
   "source": [
    "Xb= [preprocess_text(line)for line in data['text']]\n"
   ]
  },
  {
   "cell_type": "code",
   "execution_count": 42,
   "metadata": {},
   "outputs": [],
   "source": [
    "Xb_train, Xb_test, yb_train, yb_test = train_test_split(Xb, yb, test_size=0.3, random_state=0)"
   ]
  },
  {
   "cell_type": "code",
   "execution_count": 209,
   "metadata": {},
   "outputs": [
    {
     "name": "stdout",
     "output_type": "stream",
     "text": [
      "127 127 55 55\n"
     ]
    }
   ],
   "source": [
    "print(len(Xb_train),len(yb_train), len(Xb_test), len(yb_test) )"
   ]
  },
  {
   "cell_type": "code",
   "execution_count": 43,
   "metadata": {},
   "outputs": [],
   "source": [
    "def pipeL_rf():\n",
    "    pp=Pipeline([\n",
    "        ('bow',CountVectorizer()),\n",
    "        ('tfidf',TfidfTransformer()),\n",
    "        ('classifier',RandomForestClassifier())\n",
    "        ])\n",
    "    return pp\n"
   ]
  },
  {
   "cell_type": "code",
   "execution_count": 50,
   "metadata": {},
   "outputs": [
    {
     "data": {
      "text/plain": [
       "Pipeline(steps=[('bow', CountVectorizer()), ('tfidf', TfidfTransformer()),\n",
       "                ('classifier', RandomForestClassifier())])"
      ]
     },
     "execution_count": 50,
     "metadata": {},
     "output_type": "execute_result"
    }
   ],
   "source": [
    "pp=pipeL_rf()\n",
    "pp.fit(Xb_train,yb_train)"
   ]
  },
  {
   "cell_type": "code",
   "execution_count": 51,
   "metadata": {},
   "outputs": [],
   "source": [
    "# predicting the articles in the test set\n",
    "predictions1=pp.predict(Xb_test)"
   ]
  },
  {
   "cell_type": "code",
   "execution_count": 52,
   "metadata": {},
   "outputs": [
    {
     "name": "stdout",
     "output_type": "stream",
     "text": [
      "[[22  6]\n",
      " [ 5 22]]\n",
      "\n",
      "\n",
      "              precision    recall  f1-score   support\n",
      "\n",
      "        fake       0.81      0.79      0.80        28\n",
      "        real       0.79      0.81      0.80        27\n",
      "\n",
      "    accuracy                           0.80        55\n",
      "   macro avg       0.80      0.80      0.80        55\n",
      "weighted avg       0.80      0.80      0.80        55\n",
      "\n"
     ]
    }
   ],
   "source": [
    "print(confusion_matrix(yb_test, predictions1))\n",
    "print('\\n')\n",
    "print(classification_report(yb_test, predictions1))"
   ]
  },
  {
   "cell_type": "code",
   "execution_count": 518,
   "metadata": {},
   "outputs": [
    {
     "name": "stderr",
     "output_type": "stream",
     "text": [
      "/Users/vickyyounang/opt/anaconda3/lib/python3.7/site-packages/sklearn/utils/deprecation.py:87: FutureWarning: Function plot_confusion_matrix is deprecated; Function `plot_confusion_matrix` is deprecated in 1.0 and will be removed in 1.2. Use one of the class methods: ConfusionMatrixDisplay.from_predictions or ConfusionMatrixDisplay.from_estimator.\n",
      "  warnings.warn(msg, category=FutureWarning)\n"
     ]
    },
    {
     "data": {
      "image/png": "[encoded data removed]",
      "text/plain": [
       "<Figure size 432x288 with 2 Axes>"
      ]
     },
     "metadata": {
      "needs_background": "light"
     },
     "output_type": "display_data"
    }
   ],
   "source": [
    "plot_confusion_matrix(pp, Xb_test, yb_test)  \n",
    "plt.show()"
   ]
  },
  {
   "cell_type": "code",
   "execution_count": 57,
   "metadata": {},
   "outputs": [
    {
     "name": "stdout",
     "output_type": "stream",
     "text": [
      "              precision    recall  f1-score   support\n",
      "\n",
      "        fake       0.75      0.86      0.80        28\n",
      "        real       0.83      0.70      0.76        27\n",
      "\n",
      "    accuracy                           0.78        55\n",
      "   macro avg       0.79      0.78      0.78        55\n",
      "weighted avg       0.79      0.78      0.78        55\n",
      "\n"
     ]
    },
    {
     "name": "stderr",
     "output_type": "stream",
     "text": [
      "/Users/vickyyounang/opt/anaconda3/lib/python3.7/site-packages/sklearn/utils/deprecation.py:87: FutureWarning: Function plot_confusion_matrix is deprecated; Function `plot_confusion_matrix` is deprecated in 1.0 and will be removed in 1.2. Use one of the class methods: ConfusionMatrixDisplay.from_predictions or ConfusionMatrixDisplay.from_estimator.\n",
      "  warnings.warn(msg, category=FutureWarning)\n"
     ]
    },
    {
     "data": {
      "image/png": "[encoded data removed]",
      "text/plain": [
       "<Figure size 432x288 with 2 Axes>"
      ]
     },
     "metadata": {
      "needs_background": "light"
     },
     "output_type": "display_data"
    }
   ],
   "source": [
    "# let's see without text preprocessing\n",
    "Xb1= data['text']\n",
    "Xb1_train, Xb1_test, yb1_train, yb1_test = train_test_split(Xb1, yb, test_size=0.3, random_state=0)\n",
    "# new pipeline instance\n",
    "pp=pipeL_rf()\n",
    "pp.fit(Xb1_train,yb1_train)\n",
    "# predicting the articles in the test set\n",
    "predictions2=pp.predict(Xb1_test)\n",
    "print(classification_report(yb1_test, predictions2))\n",
    "plot_confusion_matrix(pp, Xb1_test, yb1_test)  \n",
    "plt.show()"
   ]
  },
  {
   "cell_type": "code",
   "execution_count": null,
   "metadata": {},
   "outputs": [],
   "source": [
    "# training the model without preprocessing is giving less accuracy than with pre processing, so we will keep the pre precess\n",
    "# let's try the prediction based on title only\n",
    "\n"
   ]
  },
  {
   "cell_type": "code",
   "execution_count": 58,
   "metadata": {},
   "outputs": [],
   "source": [
    "\n",
    "yt=data['type']\n",
    "Xt= [preprocess_text(line)for line in data['title']]\n",
    "Xt_train, Xt_test, yt_train, yt_test = train_test_split(Xt, yt, test_size=0.3, random_state=0)\n",
    "\n"
   ]
  },
  {
   "cell_type": "code",
   "execution_count": 59,
   "metadata": {},
   "outputs": [],
   "source": [
    "pp=pipeL_rf()\n",
    "pp.fit(Xt_train,yt_train)\n",
    "predictionstt=pp.predict(Xt_test)"
   ]
  },
  {
   "cell_type": "code",
   "execution_count": 60,
   "metadata": {
    "scrolled": true
   },
   "outputs": [
    {
     "name": "stdout",
     "output_type": "stream",
     "text": [
      "              precision    recall  f1-score   support\n",
      "\n",
      "        fake       0.83      0.36      0.50        28\n",
      "        real       0.58      0.93      0.71        27\n",
      "\n",
      "    accuracy                           0.64        55\n",
      "   macro avg       0.71      0.64      0.61        55\n",
      "weighted avg       0.71      0.64      0.61        55\n",
      "\n"
     ]
    },
    {
     "name": "stderr",
     "output_type": "stream",
     "text": [
      "/Users/vickyyounang/opt/anaconda3/lib/python3.7/site-packages/sklearn/utils/deprecation.py:87: FutureWarning: Function plot_confusion_matrix is deprecated; Function `plot_confusion_matrix` is deprecated in 1.0 and will be removed in 1.2. Use one of the class methods: ConfusionMatrixDisplay.from_predictions or ConfusionMatrixDisplay.from_estimator.\n",
      "  warnings.warn(msg, category=FutureWarning)\n"
     ]
    },
    {
     "data": {
      "image/png": "[encoded data removed]",
      "text/plain": [
       "<Figure size 432x288 with 2 Axes>"
      ]
     },
     "metadata": {
      "needs_background": "light"
     },
     "output_type": "display_data"
    }
   ],
   "source": [
    "\n",
    "print(classification_report(yt_test, predictionstt))\n",
    "plot_confusion_matrix(pp, Xt_test, yt_test)  \n",
    "plt.show()"
   ]
  },
  {
   "cell_type": "code",
   "execution_count": 61,
   "metadata": {},
   "outputs": [
    {
     "name": "stdout",
     "output_type": "stream",
     "text": [
      "              precision    recall  f1-score   support\n",
      "\n",
      "        fake       0.88      0.50      0.64        28\n",
      "        real       0.64      0.93      0.76        27\n",
      "\n",
      "    accuracy                           0.71        55\n",
      "   macro avg       0.76      0.71      0.70        55\n",
      "weighted avg       0.76      0.71      0.70        55\n",
      "\n"
     ]
    },
    {
     "name": "stderr",
     "output_type": "stream",
     "text": [
      "/Users/vickyyounang/opt/anaconda3/lib/python3.7/site-packages/sklearn/utils/deprecation.py:87: FutureWarning: Function plot_confusion_matrix is deprecated; Function `plot_confusion_matrix` is deprecated in 1.0 and will be removed in 1.2. Use one of the class methods: ConfusionMatrixDisplay.from_predictions or ConfusionMatrixDisplay.from_estimator.\n",
      "  warnings.warn(msg, category=FutureWarning)\n"
     ]
    },
    {
     "data": {
      "image/png": "[encoded data removed]",
      "text/plain": [
       "<Figure size 432x288 with 2 Axes>"
      ]
     },
     "metadata": {
      "needs_background": "light"
     },
     "output_type": "display_data"
    }
   ],
   "source": [
    "# let's see without text preprocessing\n",
    "Xt1= data['title']\n",
    "yt1= data['type']\n",
    "Xt1_train, Xt1_test, yt1_train, yt1_test = train_test_split(Xt1, yt1, test_size=0.3, random_state=0)\n",
    "pp=pipeL_rf()\n",
    "pp.fit(Xt1_train,yt1_train)\n",
    "# predicting the articles in the test set\n",
    "predictions2=pp.predict(Xt1_test)\n",
    "print(classification_report(yt1_test, predictions2))\n",
    "plot_confusion_matrix(pp, Xt1_test, yt1_test)  \n",
    "plt.show()"
   ]
  },
  {
   "cell_type": "code",
   "execution_count": 147,
   "metadata": {},
   "outputs": [],
   "source": [
    "# this is not too good, especially for the fake news that are more classified as real. this can be seen in the recall of fake as well\n",
    "\n",
    "# ppbt=Pipeline([\n",
    "#    ('bow',CountVectorizer()),\n",
    "#    ('tfidf',TfidfTransformer()),\n",
    "#    ('classifier',RandomForestClassifier())\n",
    "#    ])"
   ]
  },
  {
   "cell_type": "code",
   "execution_count": 62,
   "metadata": {},
   "outputs": [],
   "source": [
    "# prediction using both title and body\n",
    "\n",
    "data['title_text']=data['title']+': ' +data['text']\n"
   ]
  },
  {
   "cell_type": "code",
   "execution_count": 63,
   "metadata": {},
   "outputs": [],
   "source": [
    "\n",
    "ybt=data['type']\n",
    "Xbt= [preprocess_text(line)for line in data['title_text']]\n",
    "Xbt_train, Xbt_test, ybt_train, ybt_test = train_test_split(Xbt, ybt, test_size=0.3, random_state=0)"
   ]
  },
  {
   "cell_type": "code",
   "execution_count": 66,
   "metadata": {},
   "outputs": [
    {
     "name": "stdout",
     "output_type": "stream",
     "text": [
      "              precision    recall  f1-score   support\n",
      "\n",
      "        fake       0.76      0.93      0.84        28\n",
      "        real       0.90      0.70      0.79        27\n",
      "\n",
      "    accuracy                           0.82        55\n",
      "   macro avg       0.83      0.82      0.82        55\n",
      "weighted avg       0.83      0.82      0.82        55\n",
      "\n"
     ]
    },
    {
     "name": "stderr",
     "output_type": "stream",
     "text": [
      "/Users/vickyyounang/opt/anaconda3/lib/python3.7/site-packages/sklearn/utils/deprecation.py:87: FutureWarning: Function plot_confusion_matrix is deprecated; Function `plot_confusion_matrix` is deprecated in 1.0 and will be removed in 1.2. Use one of the class methods: ConfusionMatrixDisplay.from_predictions or ConfusionMatrixDisplay.from_estimator.\n",
      "  warnings.warn(msg, category=FutureWarning)\n"
     ]
    },
    {
     "data": {
      "image/png": "[encoded data removed]",
      "text/plain": [
       "<Figure size 432x288 with 2 Axes>"
      ]
     },
     "metadata": {
      "needs_background": "light"
     },
     "output_type": "display_data"
    }
   ],
   "source": [
    "\n",
    "ppbt=pipeL_rf()\n",
    "ppbt.fit(Xbt_train,ybt_train)\n",
    "predictionstt=ppbt.predict(Xbt_test)\n",
    "\n",
    "print(classification_report(ybt_test, predictionstt))\n",
    "plot_confusion_matrix(ppbt, Xbt_test, ybt_test)  \n",
    "plt.show()"
   ]
  },
  {
   "cell_type": "code",
   "execution_count": 108,
   "metadata": {},
   "outputs": [
    {
     "name": "stdout",
     "output_type": "stream",
     "text": [
      "              precision    recall  f1-score   support\n",
      "\n",
      "        fake       0.77      0.71      0.74        28\n",
      "        real       0.72      0.78      0.75        27\n",
      "\n",
      "    accuracy                           0.75        55\n",
      "   macro avg       0.75      0.75      0.75        55\n",
      "weighted avg       0.75      0.75      0.75        55\n",
      "\n"
     ]
    },
    {
     "name": "stderr",
     "output_type": "stream",
     "text": [
      "/Users/vickyyounang/opt/anaconda3/lib/python3.7/site-packages/sklearn/utils/deprecation.py:87: FutureWarning: Function plot_confusion_matrix is deprecated; Function `plot_confusion_matrix` is deprecated in 1.0 and will be removed in 1.2. Use one of the class methods: ConfusionMatrixDisplay.from_predictions or ConfusionMatrixDisplay.from_estimator.\n",
      "  warnings.warn(msg, category=FutureWarning)\n"
     ]
    },
    {
     "data": {
      "image/png": "[encoded data removed]",
      "text/plain": [
       "<Figure size 432x288 with 2 Axes>"
      ]
     },
     "metadata": {
      "needs_background": "light"
     },
     "output_type": "display_data"
    }
   ],
   "source": [
    "# let's see without text preprocessing\n",
    "Xbt1= data['title_text']\n",
    "ybt1= data['type']\n",
    "Xbt1_train, Xbt1_test, ybt1_train, ybt1_test = train_test_split(Xbt1, ybt1, test_size=0.3, random_state=0)\n",
    "ppbt=pipeL_rf()\n",
    "ppbt.fit(Xbt1_train,ybt1_train)\n",
    "# predicting the articles in the test set\n",
    "predictions2=ppbt.predict(Xbt1_test)\n",
    "print(classification_report(ybt1_test, predictions2))\n",
    "plot_confusion_matrix(ppbt, Xbt1_test, ybt1_test)  \n",
    "plt.show()"
   ]
  },
  {
   "cell_type": "code",
   "execution_count": null,
   "metadata": {},
   "outputs": [],
   "source": []
  },
  {
   "cell_type": "code",
   "execution_count": null,
   "metadata": {},
   "outputs": [],
   "source": []
  },
  {
   "cell_type": "code",
   "execution_count": 77,
   "metadata": {},
   "outputs": [],
   "source": [
    "# let's try to predict with a weight of 2 more on the body words\n",
    "\n",
    "data['title_text2']=': ' +data['title']+data['text']+': ' +data['text']"
   ]
  },
  {
   "cell_type": "code",
   "execution_count": 78,
   "metadata": {},
   "outputs": [
    {
     "name": "stdout",
     "output_type": "stream",
     "text": [
      "              precision    recall  f1-score   support\n",
      "\n",
      "        fake       0.79      0.96      0.87        28\n",
      "        real       0.95      0.74      0.83        27\n",
      "\n",
      "    accuracy                           0.85        55\n",
      "   macro avg       0.87      0.85      0.85        55\n",
      "weighted avg       0.87      0.85      0.85        55\n",
      "\n"
     ]
    },
    {
     "name": "stderr",
     "output_type": "stream",
     "text": [
      "/Users/vickyyounang/opt/anaconda3/lib/python3.7/site-packages/sklearn/utils/deprecation.py:87: FutureWarning: Function plot_confusion_matrix is deprecated; Function `plot_confusion_matrix` is deprecated in 1.0 and will be removed in 1.2. Use one of the class methods: ConfusionMatrixDisplay.from_predictions or ConfusionMatrixDisplay.from_estimator.\n",
      "  warnings.warn(msg, category=FutureWarning)\n"
     ]
    },
    {
     "data": {
      "image/png": "[encoded data removed]",
      "text/plain": [
       "<Figure size 432x288 with 2 Axes>"
      ]
     },
     "metadata": {
      "needs_background": "light"
     },
     "output_type": "display_data"
    }
   ],
   "source": [
    "ybt2= data['type']\n",
    "Xbt2= [preprocess_text(line)for line in data['title_text2']]\n",
    "Xbt2_train, Xbt2_test, ybt2_train, ybt2_test = train_test_split(Xbt2, ybt2, test_size=0.3, random_state=0)\n",
    "ppbt=pipeL_rf()\n",
    "ppbt.fit(Xbt2_train,ybt2_train)\n",
    "predictionstt=ppbt.predict(Xbt2_test)\n",
    "\n",
    "print(classification_report(ybt2_test, predictionstt))\n",
    "plot_confusion_matrix(ppbt, Xbt2_test, ybt2_test)  \n",
    "plt.show()"
   ]
  },
  {
   "cell_type": "code",
   "execution_count": 107,
   "metadata": {},
   "outputs": [
    {
     "name": "stdout",
     "output_type": "stream",
     "text": [
      "              precision    recall  f1-score   support\n",
      "\n",
      "        fake       0.81      0.89      0.85        28\n",
      "        real       0.88      0.78      0.82        27\n",
      "\n",
      "    accuracy                           0.84        55\n",
      "   macro avg       0.84      0.84      0.84        55\n",
      "weighted avg       0.84      0.84      0.84        55\n",
      "\n"
     ]
    },
    {
     "name": "stderr",
     "output_type": "stream",
     "text": [
      "/Users/vickyyounang/opt/anaconda3/lib/python3.7/site-packages/sklearn/utils/deprecation.py:87: FutureWarning: Function plot_confusion_matrix is deprecated; Function `plot_confusion_matrix` is deprecated in 1.0 and will be removed in 1.2. Use one of the class methods: ConfusionMatrixDisplay.from_predictions or ConfusionMatrixDisplay.from_estimator.\n",
      "  warnings.warn(msg, category=FutureWarning)\n"
     ]
    },
    {
     "data": {
      "image/png": "[encoded data removed]",
      "text/plain": [
       "<Figure size 432x288 with 2 Axes>"
      ]
     },
     "metadata": {
      "needs_background": "light"
     },
     "output_type": "display_data"
    }
   ],
   "source": [
    "# let's see without text preprocessing\n",
    "Xbt21= data['title_text2']\n",
    "ybt21= data['type']\n",
    "Xbt21_train, Xbt21_test, ybt21_train, ybt21_test = train_test_split(Xbt21, ybt21, test_size=0.3, random_state=0)\n",
    "ppbt=pipeL_rf()\n",
    "ppbt.fit(Xbt21_train,ybt21_train)\n",
    "# predicting the articles in the test set\n",
    "predictions2=ppbt.predict(Xbt21_test)\n",
    "print(classification_report(ybt21_test, predictions2))\n",
    "plot_confusion_matrix(ppbt, Xbt21_test, ybt21_test)  \n",
    "plt.show()\n"
   ]
  },
  {
   "cell_type": "code",
   "execution_count": null,
   "metadata": {},
   "outputs": [],
   "source": []
  },
  {
   "cell_type": "code",
   "execution_count": null,
   "metadata": {},
   "outputs": [],
   "source": []
  },
  {
   "cell_type": "markdown",
   "metadata": {},
   "source": [
    "#### XG boosting classifier\n"
   ]
  },
  {
   "cell_type": "code",
   "execution_count": 82,
   "metadata": {},
   "outputs": [],
   "source": [
    "import os\n",
    "os.environ['KMP_DUPLICATE_LIB_OK']='True'\n",
    "from xgboost import XGBClassifier\n",
    "import xgboost\n"
   ]
  },
  {
   "cell_type": "code",
   "execution_count": 83,
   "metadata": {},
   "outputs": [
    {
     "name": "stdout",
     "output_type": "stream",
     "text": [
      "0.80\n"
     ]
    }
   ],
   "source": [
    "print(xgboost.__version__)"
   ]
  },
  {
   "cell_type": "code",
   "execution_count": 84,
   "metadata": {},
   "outputs": [],
   "source": [
    "# couldn't run the version 1.5; kernel would continuously crash"
   ]
  },
  {
   "cell_type": "code",
   "execution_count": 85,
   "metadata": {},
   "outputs": [],
   "source": [
    "def pp_xgb(rs=0,ss=0.7):\n",
    "    xgb = XGBClassifier(random_state=rs, seed=2, colsample_bytree=0.6, subsample=ss)\n",
    "    ppxg=Pipeline([\n",
    "        ('bow',CountVectorizer()),\n",
    "        ('tfidf',TfidfTransformer()),\n",
    "        ('classifier', xgb )\n",
    "        ])\n",
    "    return ppxg"
   ]
  },
  {
   "cell_type": "code",
   "execution_count": 86,
   "metadata": {},
   "outputs": [],
   "source": [
    "#pipeline = Pipeline([\n",
    "#  (\"vectorizer\", TfidfVectorizer()),\n",
    "#  (\"classifier\", XGBClassifier())\n",
    "#])\n",
    "\n",
    "ppxg=pp_xgb()"
   ]
  },
  {
   "cell_type": "code",
   "execution_count": 87,
   "metadata": {},
   "outputs": [
    {
     "data": {
      "text/plain": [
       "Pipeline(steps=[('bow', CountVectorizer()), ('tfidf', TfidfTransformer()),\n",
       "                ('classifier',\n",
       "                 XGBClassifier(colsample_bytree=0.6, seed=2, subsample=0.7))])"
      ]
     },
     "execution_count": 87,
     "metadata": {},
     "output_type": "execute_result"
    }
   ],
   "source": [
    "ppxg.fit(Xt_train,yt_train)"
   ]
  },
  {
   "cell_type": "code",
   "execution_count": 88,
   "metadata": {},
   "outputs": [],
   "source": [
    "\n",
    "predictionsxg=ppxg.predict(Xt_test)"
   ]
  },
  {
   "cell_type": "code",
   "execution_count": 89,
   "metadata": {
    "scrolled": true
   },
   "outputs": [
    {
     "name": "stdout",
     "output_type": "stream",
     "text": [
      "              precision    recall  f1-score   support\n",
      "\n",
      "        fake       0.87      0.46      0.60        28\n",
      "        real       0.62      0.93      0.75        27\n",
      "\n",
      "    accuracy                           0.69        55\n",
      "   macro avg       0.75      0.70      0.68        55\n",
      "weighted avg       0.75      0.69      0.67        55\n",
      "\n"
     ]
    },
    {
     "name": "stderr",
     "output_type": "stream",
     "text": [
      "/Users/vickyyounang/opt/anaconda3/lib/python3.7/site-packages/sklearn/utils/deprecation.py:87: FutureWarning: Function plot_confusion_matrix is deprecated; Function `plot_confusion_matrix` is deprecated in 1.0 and will be removed in 1.2. Use one of the class methods: ConfusionMatrixDisplay.from_predictions or ConfusionMatrixDisplay.from_estimator.\n",
      "  warnings.warn(msg, category=FutureWarning)\n"
     ]
    },
    {
     "data": {
      "image/png": "[encoded data removed]",
      "text/plain": [
       "<Figure size 432x288 with 2 Axes>"
      ]
     },
     "metadata": {
      "needs_background": "light"
     },
     "output_type": "display_data"
    }
   ],
   "source": [
    "print(classification_report(yt_test, predictionsxg))\n",
    "plot_confusion_matrix(ppxg, Xt_test, yt_test)  \n",
    "plt.show()"
   ]
  },
  {
   "cell_type": "code",
   "execution_count": 109,
   "metadata": {},
   "outputs": [
    {
     "name": "stdout",
     "output_type": "stream",
     "text": [
      "              precision    recall  f1-score   support\n",
      "\n",
      "        fake       0.94      0.54      0.68        28\n",
      "        real       0.67      0.96      0.79        27\n",
      "\n",
      "    accuracy                           0.75        55\n",
      "   macro avg       0.80      0.75      0.73        55\n",
      "weighted avg       0.80      0.75      0.73        55\n",
      "\n"
     ]
    },
    {
     "name": "stderr",
     "output_type": "stream",
     "text": [
      "/Users/vickyyounang/opt/anaconda3/lib/python3.7/site-packages/sklearn/utils/deprecation.py:87: FutureWarning: Function plot_confusion_matrix is deprecated; Function `plot_confusion_matrix` is deprecated in 1.0 and will be removed in 1.2. Use one of the class methods: ConfusionMatrixDisplay.from_predictions or ConfusionMatrixDisplay.from_estimator.\n",
      "  warnings.warn(msg, category=FutureWarning)\n"
     ]
    },
    {
     "data": {
      "image/png": "[encoded data removed]",
      "text/plain": [
       "<Figure size 432x288 with 2 Axes>"
      ]
     },
     "metadata": {
      "needs_background": "light"
     },
     "output_type": "display_data"
    }
   ],
   "source": [
    "# title without preprocessing\n",
    "ppxg=pp_xgb()\n",
    "ppxg.fit(Xt1_train,yt1_train)\n",
    "\n",
    "predictionsxg=ppxg.predict(Xt1_test)\n",
    "\n",
    "print(classification_report(yt1_test, predictionsxg))\n",
    "plot_confusion_matrix(ppxg, Xt1_test, yt1_test)  \n",
    "plt.show()\n"
   ]
  },
  {
   "cell_type": "code",
   "execution_count": 90,
   "metadata": {},
   "outputs": [
    {
     "name": "stdout",
     "output_type": "stream",
     "text": [
      "              precision    recall  f1-score   support\n",
      "\n",
      "        fake       0.71      0.79      0.75        28\n",
      "        real       0.75      0.67      0.71        27\n",
      "\n",
      "    accuracy                           0.73        55\n",
      "   macro avg       0.73      0.73      0.73        55\n",
      "weighted avg       0.73      0.73      0.73        55\n",
      "\n"
     ]
    },
    {
     "name": "stderr",
     "output_type": "stream",
     "text": [
      "/Users/vickyyounang/opt/anaconda3/lib/python3.7/site-packages/sklearn/utils/deprecation.py:87: FutureWarning: Function plot_confusion_matrix is deprecated; Function `plot_confusion_matrix` is deprecated in 1.0 and will be removed in 1.2. Use one of the class methods: ConfusionMatrixDisplay.from_predictions or ConfusionMatrixDisplay.from_estimator.\n",
      "  warnings.warn(msg, category=FutureWarning)\n"
     ]
    },
    {
     "data": {
      "image/png": "[encoded data removed]",
      "text/plain": [
       "<Figure size 432x288 with 2 Axes>"
      ]
     },
     "metadata": {
      "needs_background": "light"
     },
     "output_type": "display_data"
    }
   ],
   "source": [
    "# body dataset PREPROCESSD \n",
    "ppxg=pp_xgb()\n",
    "ppxg.fit(Xb_train,yb_train)\n",
    "\n",
    "predictionsxg=ppxg.predict(Xb_test)\n",
    "\n",
    "print(classification_report(yb_test, predictionsxg))\n",
    "plot_confusion_matrix(ppxg, Xb_test, yb_test)  \n",
    "plt.show()"
   ]
  },
  {
   "cell_type": "code",
   "execution_count": 110,
   "metadata": {},
   "outputs": [
    {
     "name": "stdout",
     "output_type": "stream",
     "text": [
      "              precision    recall  f1-score   support\n",
      "\n",
      "        fake       0.71      0.71      0.71        28\n",
      "        real       0.70      0.70      0.70        27\n",
      "\n",
      "    accuracy                           0.71        55\n",
      "   macro avg       0.71      0.71      0.71        55\n",
      "weighted avg       0.71      0.71      0.71        55\n",
      "\n"
     ]
    },
    {
     "name": "stderr",
     "output_type": "stream",
     "text": [
      "/Users/vickyyounang/opt/anaconda3/lib/python3.7/site-packages/sklearn/utils/deprecation.py:87: FutureWarning: Function plot_confusion_matrix is deprecated; Function `plot_confusion_matrix` is deprecated in 1.0 and will be removed in 1.2. Use one of the class methods: ConfusionMatrixDisplay.from_predictions or ConfusionMatrixDisplay.from_estimator.\n",
      "  warnings.warn(msg, category=FutureWarning)\n"
     ]
    },
    {
     "data": {
      "image/png": "[encoded data removed]",
      "text/plain": [
       "<Figure size 432x288 with 2 Axes>"
      ]
     },
     "metadata": {
      "needs_background": "light"
     },
     "output_type": "display_data"
    }
   ],
   "source": [
    "# body dataset Non preprocessed\n",
    "ppxg=pp_xgb()\n",
    "ppxg.fit(Xb1_train,yb1_train)\n",
    "\n",
    "predictionsxg=ppxg.predict(Xb1_test)\n",
    "\n",
    "print(classification_report(yb1_test, predictionsxg))\n",
    "plot_confusion_matrix(ppxg, Xb1_test, yb1_test)  \n",
    "plt.show()"
   ]
  },
  {
   "cell_type": "code",
   "execution_count": null,
   "metadata": {},
   "outputs": [],
   "source": []
  },
  {
   "cell_type": "code",
   "execution_count": 91,
   "metadata": {},
   "outputs": [
    {
     "name": "stdout",
     "output_type": "stream",
     "text": [
      "              precision    recall  f1-score   support\n",
      "\n",
      "        fake       0.73      0.79      0.76        28\n",
      "        real       0.76      0.70      0.73        27\n",
      "\n",
      "    accuracy                           0.75        55\n",
      "   macro avg       0.75      0.74      0.74        55\n",
      "weighted avg       0.75      0.75      0.74        55\n",
      "\n"
     ]
    },
    {
     "name": "stderr",
     "output_type": "stream",
     "text": [
      "/Users/vickyyounang/opt/anaconda3/lib/python3.7/site-packages/sklearn/utils/deprecation.py:87: FutureWarning: Function plot_confusion_matrix is deprecated; Function `plot_confusion_matrix` is deprecated in 1.0 and will be removed in 1.2. Use one of the class methods: ConfusionMatrixDisplay.from_predictions or ConfusionMatrixDisplay.from_estimator.\n",
      "  warnings.warn(msg, category=FutureWarning)\n"
     ]
    },
    {
     "data": {
      "image/png": "[encoded data removed]",
      "text/plain": [
       "<Figure size 432x288 with 2 Axes>"
      ]
     },
     "metadata": {
      "needs_background": "light"
     },
     "output_type": "display_data"
    }
   ],
   "source": [
    "# body and title dataset PREPROCESSED\n",
    "ppxg=pp_xgb()\n",
    "ppxg.fit(Xbt_train,ybt_train)\n",
    "\n",
    "predictionsxg=ppxg.predict(Xbt_test)\n",
    "\n",
    "print(classification_report(ybt_test, predictionsxg))\n",
    "plot_confusion_matrix(ppxg, Xbt_test, ybt_test)  \n",
    "plt.show()"
   ]
  },
  {
   "cell_type": "code",
   "execution_count": 111,
   "metadata": {},
   "outputs": [
    {
     "name": "stdout",
     "output_type": "stream",
     "text": [
      "              precision    recall  f1-score   support\n",
      "\n",
      "        fake       0.71      0.71      0.71        28\n",
      "        real       0.70      0.70      0.70        27\n",
      "\n",
      "    accuracy                           0.71        55\n",
      "   macro avg       0.71      0.71      0.71        55\n",
      "weighted avg       0.71      0.71      0.71        55\n",
      "\n"
     ]
    },
    {
     "name": "stderr",
     "output_type": "stream",
     "text": [
      "/Users/vickyyounang/opt/anaconda3/lib/python3.7/site-packages/sklearn/utils/deprecation.py:87: FutureWarning: Function plot_confusion_matrix is deprecated; Function `plot_confusion_matrix` is deprecated in 1.0 and will be removed in 1.2. Use one of the class methods: ConfusionMatrixDisplay.from_predictions or ConfusionMatrixDisplay.from_estimator.\n",
      "  warnings.warn(msg, category=FutureWarning)\n"
     ]
    },
    {
     "data": {
      "image/png": "[encoded data removed]",
      "text/plain": [
       "<Figure size 432x288 with 2 Axes>"
      ]
     },
     "metadata": {
      "needs_background": "light"
     },
     "output_type": "display_data"
    }
   ],
   "source": [
    "# body and title dataset NON PREPROCESSD\n",
    "ppxg=pp_xgb()\n",
    "ppxg.fit(Xbt1_train,ybt1_train)\n",
    "\n",
    "predictionsxg=ppxg.predict(Xbt1_test)\n",
    "\n",
    "print(classification_report(ybt1_test, predictionsxg))\n",
    "plot_confusion_matrix(ppxg, Xbt1_test, ybt1_test)  \n",
    "plt.show()"
   ]
  },
  {
   "cell_type": "code",
   "execution_count": 112,
   "metadata": {},
   "outputs": [
    {
     "name": "stdout",
     "output_type": "stream",
     "text": [
      "              precision    recall  f1-score   support\n",
      "\n",
      "        fake       0.77      0.86      0.81        28\n",
      "        real       0.83      0.74      0.78        27\n",
      "\n",
      "    accuracy                           0.80        55\n",
      "   macro avg       0.80      0.80      0.80        55\n",
      "weighted avg       0.80      0.80      0.80        55\n",
      "\n"
     ]
    },
    {
     "name": "stderr",
     "output_type": "stream",
     "text": [
      "/Users/vickyyounang/opt/anaconda3/lib/python3.7/site-packages/sklearn/utils/deprecation.py:87: FutureWarning: Function plot_confusion_matrix is deprecated; Function `plot_confusion_matrix` is deprecated in 1.0 and will be removed in 1.2. Use one of the class methods: ConfusionMatrixDisplay.from_predictions or ConfusionMatrixDisplay.from_estimator.\n",
      "  warnings.warn(msg, category=FutureWarning)\n"
     ]
    },
    {
     "data": {
      "image/png": "[encoded data removed]",
      "text/plain": [
       "<Figure size 432x288 with 2 Axes>"
      ]
     },
     "metadata": {
      "needs_background": "light"
     },
     "output_type": "display_data"
    }
   ],
   "source": [
    "# body and title dataset modified preprocessed\n",
    "ppxg=pp_xgb()\n",
    "ppxg.fit(Xbt2_train,ybt2_train)\n",
    "\n",
    "predictionsxg=ppxg.predict(Xbt2_test)\n",
    "\n",
    "print(classification_report(ybt2_test, predictionsxg))\n",
    "plot_confusion_matrix(ppxg, Xbt2_test, ybt2_test)  \n",
    "plt.show()"
   ]
  },
  {
   "cell_type": "code",
   "execution_count": 113,
   "metadata": {},
   "outputs": [
    {
     "name": "stdout",
     "output_type": "stream",
     "text": [
      "              precision    recall  f1-score   support\n",
      "\n",
      "        fake       0.72      0.75      0.74        28\n",
      "        real       0.73      0.70      0.72        27\n",
      "\n",
      "    accuracy                           0.73        55\n",
      "   macro avg       0.73      0.73      0.73        55\n",
      "weighted avg       0.73      0.73      0.73        55\n",
      "\n"
     ]
    },
    {
     "name": "stderr",
     "output_type": "stream",
     "text": [
      "/Users/vickyyounang/opt/anaconda3/lib/python3.7/site-packages/sklearn/utils/deprecation.py:87: FutureWarning: Function plot_confusion_matrix is deprecated; Function `plot_confusion_matrix` is deprecated in 1.0 and will be removed in 1.2. Use one of the class methods: ConfusionMatrixDisplay.from_predictions or ConfusionMatrixDisplay.from_estimator.\n",
      "  warnings.warn(msg, category=FutureWarning)\n"
     ]
    },
    {
     "data": {
      "image/png": "[encoded data removed]",
      "text/plain": [
       "<Figure size 432x288 with 2 Axes>"
      ]
     },
     "metadata": {
      "needs_background": "light"
     },
     "output_type": "display_data"
    }
   ],
   "source": [
    "# body and title dataset modified NON preprocessed\n",
    "ppxg=pp_xgb()\n",
    "ppxg.fit(Xbt21_train,ybt21_train)\n",
    "\n",
    "predictionsxg=ppxg.predict(Xbt21_test)\n",
    "\n",
    "print(classification_report(ybt21_test, predictionsxg))\n",
    "plot_confusion_matrix(ppxg, Xbt21_test, ybt21_test)  \n",
    "plt.show()"
   ]
  },
  {
   "cell_type": "code",
   "execution_count": null,
   "metadata": {},
   "outputs": [],
   "source": []
  },
  {
   "cell_type": "code",
   "execution_count": null,
   "metadata": {},
   "outputs": [],
   "source": []
  },
  {
   "cell_type": "code",
   "execution_count": 114,
   "metadata": {},
   "outputs": [
    {
     "data": {
      "text/plain": [
       "{'base_score': 0.5,\n",
       " 'booster': 'gbtree',\n",
       " 'colsample_bylevel': 1,\n",
       " 'colsample_bytree': 0.6,\n",
       " 'gamma': 0,\n",
       " 'learning_rate': 0.1,\n",
       " 'max_delta_step': 0,\n",
       " 'max_depth': 3,\n",
       " 'min_child_weight': 1,\n",
       " 'missing': None,\n",
       " 'n_estimators': 100,\n",
       " 'n_jobs': 1,\n",
       " 'nthread': None,\n",
       " 'objective': 'binary:logistic',\n",
       " 'random_state': 0,\n",
       " 'reg_alpha': 0,\n",
       " 'reg_lambda': 1,\n",
       " 'scale_pos_weight': 1,\n",
       " 'seed': 2,\n",
       " 'silent': True,\n",
       " 'subsample': 0.7}"
      ]
     },
     "execution_count": 114,
     "metadata": {},
     "output_type": "execute_result"
    }
   ],
   "source": [
    "# tuning parameter:\n",
    "\n",
    "ppxg.named_steps['classifier'].get_params()\n"
   ]
  },
  {
   "cell_type": "code",
   "execution_count": 221,
   "metadata": {},
   "outputs": [],
   "source": [
    "# those are the base parameters in the xgboost classifier, let's. tune them\n",
    "# changing the number of estimators\n",
    "# definition of parameter grid to scan through\n",
    "param_grid = {\n",
    "     'classifier__n_estimators': [100,200,300,500],\n",
    "     'classifier__random_state':[0,42],\n",
    "     'classifier__colsample_bytree': [0.6],\n",
    "     'classifier__subsample': [0.5, 0.6, 0.7],\n",
    "    'classifier__learning_rate':[0.05, 0.01]\n",
    "}\n"
   ]
  },
  {
   "cell_type": "code",
   "execution_count": 222,
   "metadata": {},
   "outputs": [
    {
     "data": {
      "text/plain": [
       "GridSearchCV(cv=5,\n",
       "             estimator=Pipeline(steps=[('bow', CountVectorizer()),\n",
       "                                       ('tfidf', TfidfTransformer()),\n",
       "                                       ('classifier',\n",
       "                                        XGBClassifier(colsample_bytree=0.6,\n",
       "                                                      seed=2,\n",
       "                                                      subsample=0.7))]),\n",
       "             n_jobs=1,\n",
       "             param_grid={'classifier__colsample_bytree': [0.6],\n",
       "                         'classifier__learning_rate': [0.05, 0.01],\n",
       "                         'classifier__n_estimators': [100, 200, 300, 500],\n",
       "                         'classifier__random_state': [0, 42],\n",
       "                         'classifier__subsample': [0.5, 0.6, 0.7]},\n",
       "             return_train_score=True)"
      ]
     },
     "execution_count": 222,
     "metadata": {},
     "output_type": "execute_result"
    }
   ],
   "source": [
    "#\n",
    "# grid search cross validation instantiation\n",
    "ppxg=pp_xgb()\n",
    "grid_search = GridSearchCV(estimator = ppxg, param_grid = param_grid, \n",
    "                          cv = 5, n_jobs = 1, verbose = 0, return_train_score=True)\n",
    "#hyperparameter fitting\n",
    "grid_search.fit(Xt_train, yt_train)"
   ]
  },
  {
   "cell_type": "code",
   "execution_count": null,
   "metadata": {},
   "outputs": [],
   "source": []
  },
  {
   "cell_type": "code",
   "execution_count": 99,
   "metadata": {},
   "outputs": [
    {
     "name": "stdout",
     "output_type": "stream",
     "text": [
      "train scores\n",
      "[0.72642205 0.73622598 0.75600854 0.72642205 0.73622598 0.75600854\n",
      " 0.75600854 0.77565521 0.7913609  0.75600854 0.77565521 0.7913609\n",
      " 0.76777325 0.79336051 0.80516405 0.76777325 0.79336051 0.80516405\n",
      " 0.79922345 0.83071248 0.84059406 0.79922345 0.83071248 0.84059406]\n",
      "validation scores\n",
      "[0.54369231 0.58369231 0.61476923 0.54369231 0.58369231 0.61476923\n",
      " 0.59076923 0.60676923 0.59876923 0.59076923 0.60676923 0.59876923\n",
      " 0.60646154 0.60676923 0.59876923 0.60646154 0.60676923 0.59876923\n",
      " 0.59076923 0.59938462 0.59107692 0.59076923 0.59938462 0.59107692]\n"
     ]
    }
   ],
   "source": [
    "print('train scores') \n",
    "print(grid_search.cv_results_['mean_train_score'])\n",
    "print('validation scores') \n",
    "# validation scores\n",
    "print(grid_search.cv_results_['mean_test_score'])"
   ]
  },
  {
   "cell_type": "code",
   "execution_count": 117,
   "metadata": {},
   "outputs": [
    {
     "data": {
      "text/plain": [
       "{'classifier__colsample_bytree': 0.6,\n",
       " 'classifier__n_estimators': 100,\n",
       " 'classifier__random_state': 0,\n",
       " 'classifier__subsample': 0.7}"
      ]
     },
     "execution_count": 117,
     "metadata": {},
     "output_type": "execute_result"
    }
   ],
   "source": [
    "\n",
    "grid_search.best_params_"
   ]
  },
  {
   "cell_type": "code",
   "execution_count": null,
   "metadata": {},
   "outputs": [],
   "source": []
  },
  {
   "cell_type": "code",
   "execution_count": 118,
   "metadata": {},
   "outputs": [
    {
     "name": "stdout",
     "output_type": "stream",
     "text": [
      "              precision    recall  f1-score   support\n",
      "\n",
      "        fake       0.87      0.46      0.60        28\n",
      "        real       0.62      0.93      0.75        27\n",
      "\n",
      "    accuracy                           0.69        55\n",
      "   macro avg       0.75      0.70      0.68        55\n",
      "weighted avg       0.75      0.69      0.67        55\n",
      "\n"
     ]
    },
    {
     "name": "stderr",
     "output_type": "stream",
     "text": [
      "/Users/vickyyounang/opt/anaconda3/lib/python3.7/site-packages/sklearn/utils/deprecation.py:87: FutureWarning: Function plot_confusion_matrix is deprecated; Function `plot_confusion_matrix` is deprecated in 1.0 and will be removed in 1.2. Use one of the class methods: ConfusionMatrixDisplay.from_predictions or ConfusionMatrixDisplay.from_estimator.\n",
      "  warnings.warn(msg, category=FutureWarning)\n"
     ]
    },
    {
     "data": {
      "image/png": "[encoded data removed]",
      "text/plain": [
       "<Figure size 432x288 with 2 Axes>"
      ]
     },
     "metadata": {
      "needs_background": "light"
     },
     "output_type": "display_data"
    }
   ],
   "source": [
    "# creating a classifier with the best param to predict the test set and see if we are not overfiiting\n",
    "ppxg_test = grid_search.best_estimator_\n",
    "predictionsxg=ppxg_test.predict(Xt_test)\n",
    "\n",
    "print(classification_report(yt_test, predictionsxg))\n",
    "plot_confusion_matrix(ppxg_test, Xt_test, yt_test)  \n",
    "plt.show()"
   ]
  },
  {
   "cell_type": "code",
   "execution_count": null,
   "metadata": {},
   "outputs": [],
   "source": []
  },
  {
   "cell_type": "code",
   "execution_count": null,
   "metadata": {},
   "outputs": [],
   "source": []
  },
  {
   "cell_type": "code",
   "execution_count": null,
   "metadata": {},
   "outputs": [],
   "source": []
  },
  {
   "cell_type": "code",
   "execution_count": 119,
   "metadata": {},
   "outputs": [
    {
     "name": "stdout",
     "output_type": "stream",
     "text": [
      "train scores\n",
      "[0.99803922 0.99803922 1.         0.99803922 0.99803922 1.\n",
      " 1.         1.         1.         1.         1.         1.\n",
      " 0.99803922 1.         1.         0.99803922 1.         1.\n",
      " 1.         1.         1.         1.         1.         1.        ]\n",
      "validation scores\n",
      "[0.72369231 0.70892308 0.72430769 0.72369231 0.70892308 0.72430769\n",
      " 0.73938462 0.67723077 0.732      0.73938462 0.67723077 0.732\n",
      " 0.70738462 0.68523077 0.716      0.70738462 0.68523077 0.716\n",
      " 0.7        0.69292308 0.70830769 0.7        0.69292308 0.70830769]\n",
      "{'classifier__colsample_bytree': 0.6, 'classifier__n_estimators': 200, 'classifier__random_state': 0, 'classifier__subsample': 0.5}\n",
      "              precision    recall  f1-score   support\n",
      "\n",
      "        fake       0.72      0.75      0.74        28\n",
      "        real       0.73      0.70      0.72        27\n",
      "\n",
      "    accuracy                           0.73        55\n",
      "   macro avg       0.73      0.73      0.73        55\n",
      "weighted avg       0.73      0.73      0.73        55\n",
      "\n"
     ]
    },
    {
     "name": "stderr",
     "output_type": "stream",
     "text": [
      "/Users/vickyyounang/opt/anaconda3/lib/python3.7/site-packages/sklearn/utils/deprecation.py:87: FutureWarning: Function plot_confusion_matrix is deprecated; Function `plot_confusion_matrix` is deprecated in 1.0 and will be removed in 1.2. Use one of the class methods: ConfusionMatrixDisplay.from_predictions or ConfusionMatrixDisplay.from_estimator.\n",
      "  warnings.warn(msg, category=FutureWarning)\n"
     ]
    },
    {
     "data": {
      "image/png": "[encoded data removed]",
      "text/plain": [
       "<Figure size 432x288 with 2 Axes>"
      ]
     },
     "metadata": {
      "needs_background": "light"
     },
     "output_type": "display_data"
    }
   ],
   "source": [
    "# body data PREPROCEDSSDE\n",
    "\n",
    "grid_search.fit(Xb_train, yb_train)\n",
    "print('train scores') \n",
    "print(grid_search.cv_results_['mean_train_score'])\n",
    "print('validation scores') \n",
    "# validation scores\n",
    "print(grid_search.cv_results_['mean_test_score'])\n",
    "\n",
    "print(grid_search.best_params_)\n",
    "\n",
    "# creating a classifier with the best param to predict the test set and see if we are not overfiiting\n",
    "\n",
    "ppxg_test = grid_search.best_estimator_\n",
    "predictionsxg=ppxg_test.predict(Xb_test)\n",
    "\n",
    "print(classification_report(yb_test, predictionsxg))\n",
    "plot_confusion_matrix(ppxg_test, Xb_test, yb_test)  \n",
    "plt.show()"
   ]
  },
  {
   "cell_type": "code",
   "execution_count": null,
   "metadata": {},
   "outputs": [],
   "source": []
  },
  {
   "cell_type": "code",
   "execution_count": 121,
   "metadata": {},
   "outputs": [
    {
     "name": "stdout",
     "output_type": "stream",
     "text": [
      "train scores\n",
      "[0.99803922 0.99803922 1.         0.99803922 0.99803922 1.\n",
      " 0.99803922 1.         1.         0.99803922 1.         1.\n",
      " 0.99803922 1.         1.         0.99803922 1.         1.\n",
      " 0.99803922 1.         1.         0.99803922 1.         1.        ]\n",
      "validation scores\n",
      "[0.71630769 0.71661538 0.69261538 0.71630769 0.71661538 0.69261538\n",
      " 0.68492308 0.69292308 0.70092308 0.68492308 0.69292308 0.70092308\n",
      " 0.69323077 0.716      0.71630769 0.69323077 0.716      0.71630769\n",
      " 0.71661538 0.72338462 0.724      0.71661538 0.72338462 0.724     ]\n",
      "{'classifier__colsample_bytree': 0.6, 'classifier__n_estimators': 500, 'classifier__random_state': 0, 'classifier__subsample': 0.7}\n",
      "              precision    recall  f1-score   support\n",
      "\n",
      "        fake       0.67      0.71      0.69        28\n",
      "        real       0.68      0.63      0.65        27\n",
      "\n",
      "    accuracy                           0.67        55\n",
      "   macro avg       0.67      0.67      0.67        55\n",
      "weighted avg       0.67      0.67      0.67        55\n",
      "\n"
     ]
    },
    {
     "name": "stderr",
     "output_type": "stream",
     "text": [
      "/Users/vickyyounang/opt/anaconda3/lib/python3.7/site-packages/sklearn/utils/deprecation.py:87: FutureWarning: Function plot_confusion_matrix is deprecated; Function `plot_confusion_matrix` is deprecated in 1.0 and will be removed in 1.2. Use one of the class methods: ConfusionMatrixDisplay.from_predictions or ConfusionMatrixDisplay.from_estimator.\n",
      "  warnings.warn(msg, category=FutureWarning)\n"
     ]
    },
    {
     "data": {
      "image/png": "[encoded data removed]",
      "text/plain": [
       "<Figure size 432x288 with 2 Axes>"
      ]
     },
     "metadata": {
      "needs_background": "light"
     },
     "output_type": "display_data"
    }
   ],
   "source": [
    "# text and title together PREPROCCESDDES\n",
    "\n",
    "grid_search.fit(Xbt_train, ybt_train)\n",
    "print('train scores') \n",
    "print(grid_search.cv_results_['mean_train_score'])\n",
    "print('validation scores') \n",
    "# validation scores\n",
    "print(grid_search.cv_results_['mean_test_score'])\n",
    "\n",
    "print(grid_search.best_params_)\n",
    "\n",
    "# creating a classifier with the best param to predict the test set and see if we are not overfiiting\n",
    "ppxg_test = grid_search.best_estimator_\n",
    "predictionsxg=ppxg_test.predict(Xbt_test)\n",
    "\n",
    "print(classification_report(ybt_test, predictionsxg))\n",
    "plot_confusion_matrix(ppxg_test, Xbt_test, ybt_test)  \n",
    "plt.show()\n"
   ]
  },
  {
   "cell_type": "code",
   "execution_count": 223,
   "metadata": {},
   "outputs": [
    {
     "name": "stdout",
     "output_type": "stream",
     "text": [
      "train scores\n",
      "[0.99803922 0.99803922 0.99803922 0.99803922 0.99803922 0.99803922\n",
      " 0.99803922 0.99803922 1.         0.99803922 0.99803922 1.\n",
      " 1.         1.         1.         1.         1.         1.\n",
      " 1.         1.         1.         1.         1.         1.\n",
      " 0.95472724 0.95470782 0.95280528 0.95472724 0.95470782 0.95280528\n",
      " 0.98033392 0.99215686 0.98231411 0.98033392 0.99215686 0.98231411\n",
      " 0.99211804 0.99411765 0.99803922 0.99211804 0.99411765 0.99803922\n",
      " 0.99803922 0.99803922 0.99803922 0.99803922 0.99803922 0.99803922]\n",
      "validation scores\n",
      "[0.72430769 0.70061538 0.732      0.72430769 0.70061538 0.732\n",
      " 0.72492308 0.71692308 0.70892308 0.72492308 0.71692308 0.70892308\n",
      " 0.72461538 0.72492308 0.70092308 0.72461538 0.72492308 0.70092308\n",
      " 0.70892308 0.72492308 0.70092308 0.70892308 0.72492308 0.70092308\n",
      " 0.73261538 0.70030769 0.70030769 0.73261538 0.70030769 0.70030769\n",
      " 0.73230769 0.72430769 0.71630769 0.73230769 0.72430769 0.71630769\n",
      " 0.732      0.73969231 0.74       0.732      0.73969231 0.74\n",
      " 0.74       0.74       0.73969231 0.74       0.74       0.73969231]\n",
      "{'classifier__colsample_bytree': 0.6, 'classifier__learning_rate': 0.01, 'classifier__n_estimators': 500, 'classifier__random_state': 0, 'classifier__subsample': 0.6}\n",
      "              precision    recall  f1-score   support\n",
      "\n",
      "        fake       0.76      0.79      0.77        28\n",
      "        real       0.77      0.74      0.75        27\n",
      "\n",
      "    accuracy                           0.76        55\n",
      "   macro avg       0.76      0.76      0.76        55\n",
      "weighted avg       0.76      0.76      0.76        55\n",
      "\n"
     ]
    }
   ],
   "source": [
    "# text and title modified \n",
    "\n",
    "grid_search.fit(Xbt2_train, ybt2_train)\n",
    "print('train scores') \n",
    "print(grid_search.cv_results_['mean_train_score'])\n",
    "print('validation scores') \n",
    "# validation scores\n",
    "print(grid_search.cv_results_['mean_test_score'])\n",
    "\n",
    "print(grid_search.best_params_)\n",
    "\n",
    "# creating a classifier with the best param to predict the test set and see if we are not overfiiting\n",
    "ppxg_test = grid_search.best_estimator_\n",
    "predictionsxg=ppxg_test.predict(Xbt2_test)\n",
    "\n",
    "print(classification_report(ybt2_test, predictionsxg))\n",
    "#plot_confusion_matrix(ppxg_test, Xbt2_test, ybt2_test)  \n",
    "#plt.show()\n"
   ]
  },
  {
   "cell_type": "code",
   "execution_count": null,
   "metadata": {},
   "outputs": [],
   "source": []
  },
  {
   "cell_type": "markdown",
   "metadata": {},
   "source": [
    "### PASSIVE Agressive Classifier\n",
    "LET4s try the classification with the passive aggressive classifier"
   ]
  },
  {
   "cell_type": "code",
   "execution_count": 128,
   "metadata": {},
   "outputs": [],
   "source": [
    "def pp_pass():\n",
    "    pp_pa=Pipeline([\n",
    "        ('bow',CountVectorizer()),\n",
    "        ('tfidf',TfidfTransformer()),\n",
    "        ('classifier',PassiveAggressiveClassifier())\n",
    "        ])\n",
    "    return pp_pa"
   ]
  },
  {
   "cell_type": "code",
   "execution_count": 129,
   "metadata": {},
   "outputs": [
    {
     "name": "stdout",
     "output_type": "stream",
     "text": [
      "              precision    recall  f1-score   support\n",
      "\n",
      "        fake       0.71      0.61      0.65        28\n",
      "        real       0.65      0.74      0.69        27\n",
      "\n",
      "    accuracy                           0.67        55\n",
      "   macro avg       0.68      0.67      0.67        55\n",
      "weighted avg       0.68      0.67      0.67        55\n",
      "\n"
     ]
    },
    {
     "name": "stderr",
     "output_type": "stream",
     "text": [
      "/Users/vickyyounang/opt/anaconda3/lib/python3.7/site-packages/sklearn/utils/deprecation.py:87: FutureWarning: Function plot_confusion_matrix is deprecated; Function `plot_confusion_matrix` is deprecated in 1.0 and will be removed in 1.2. Use one of the class methods: ConfusionMatrixDisplay.from_predictions or ConfusionMatrixDisplay.from_estimator.\n",
      "  warnings.warn(msg, category=FutureWarning)\n"
     ]
    },
    {
     "data": {
      "image/png": "[encoded data removed]",
      "text/plain": [
       "<Figure size 432x288 with 2 Axes>"
      ]
     },
     "metadata": {
      "needs_background": "light"
     },
     "output_type": "display_data"
    }
   ],
   "source": [
    "# on the title data preprocssd\n",
    "pp_pa=pp_pass()\n",
    "pp_pa.fit(Xt_train,yt_train)\n",
    "predictionstt=pp_pa.predict(Xt_test)\n",
    "\n",
    "print(classification_report(yt_test, predictionstt))\n",
    "plot_confusion_matrix(pp_pa, Xt_test, yt_test)  \n",
    "plt.show()\n"
   ]
  },
  {
   "cell_type": "code",
   "execution_count": 130,
   "metadata": {},
   "outputs": [
    {
     "name": "stdout",
     "output_type": "stream",
     "text": [
      "              precision    recall  f1-score   support\n",
      "\n",
      "        fake       0.74      0.71      0.73        28\n",
      "        real       0.71      0.74      0.73        27\n",
      "\n",
      "    accuracy                           0.73        55\n",
      "   macro avg       0.73      0.73      0.73        55\n",
      "weighted avg       0.73      0.73      0.73        55\n",
      "\n"
     ]
    },
    {
     "name": "stderr",
     "output_type": "stream",
     "text": [
      "/Users/vickyyounang/opt/anaconda3/lib/python3.7/site-packages/sklearn/utils/deprecation.py:87: FutureWarning: Function plot_confusion_matrix is deprecated; Function `plot_confusion_matrix` is deprecated in 1.0 and will be removed in 1.2. Use one of the class methods: ConfusionMatrixDisplay.from_predictions or ConfusionMatrixDisplay.from_estimator.\n",
      "  warnings.warn(msg, category=FutureWarning)\n"
     ]
    },
    {
     "data": {
      "image/png": "[encoded data removed]",
      "text/plain": [
       "<Figure size 432x288 with 2 Axes>"
      ]
     },
     "metadata": {
      "needs_background": "light"
     },
     "output_type": "display_data"
    }
   ],
   "source": [
    "# on the body data\n",
    "pp_pa=pp_pass()\n",
    "pp_pa.fit(Xb_train,yb_train)\n",
    "predictionsbb=pp_pa.predict(Xb_test)\n",
    "\n",
    "print(classification_report(yb_test, predictionsbb))\n",
    "plot_confusion_matrix(pp_pa, Xb_test, yb_test)  \n",
    "plt.show()"
   ]
  },
  {
   "cell_type": "code",
   "execution_count": 132,
   "metadata": {},
   "outputs": [
    {
     "name": "stdout",
     "output_type": "stream",
     "text": [
      "              precision    recall  f1-score   support\n",
      "\n",
      "        fake       0.76      0.79      0.77        28\n",
      "        real       0.77      0.74      0.75        27\n",
      "\n",
      "    accuracy                           0.76        55\n",
      "   macro avg       0.76      0.76      0.76        55\n",
      "weighted avg       0.76      0.76      0.76        55\n",
      "\n"
     ]
    },
    {
     "name": "stderr",
     "output_type": "stream",
     "text": [
      "/Users/vickyyounang/opt/anaconda3/lib/python3.7/site-packages/sklearn/utils/deprecation.py:87: FutureWarning: Function plot_confusion_matrix is deprecated; Function `plot_confusion_matrix` is deprecated in 1.0 and will be removed in 1.2. Use one of the class methods: ConfusionMatrixDisplay.from_predictions or ConfusionMatrixDisplay.from_estimator.\n",
      "  warnings.warn(msg, category=FutureWarning)\n"
     ]
    },
    {
     "data": {
      "image/png": "[encoded data removed]",
      "text/plain": [
       "<Figure size 432x288 with 2 Axes>"
      ]
     },
     "metadata": {
      "needs_background": "light"
     },
     "output_type": "display_data"
    }
   ],
   "source": [
    "# on the body and title mixed data\n",
    "pp_pa=pp_pass()\n",
    "pp_pa.fit(Xbt_train,ybt_train)\n",
    "predictionsbt=pp_pa.predict(Xbt_test)\n",
    "\n",
    "print(classification_report(ybt_test, predictionsbt))\n",
    "plot_confusion_matrix(pp_pa, Xbt_test, ybt_test)  \n",
    "plt.show()\n"
   ]
  },
  {
   "cell_type": "code",
   "execution_count": 136,
   "metadata": {},
   "outputs": [
    {
     "name": "stdout",
     "output_type": "stream",
     "text": [
      "              precision    recall  f1-score   support\n",
      "\n",
      "        fake       0.75      0.75      0.75        28\n",
      "        real       0.74      0.74      0.74        27\n",
      "\n",
      "    accuracy                           0.75        55\n",
      "   macro avg       0.75      0.75      0.75        55\n",
      "weighted avg       0.75      0.75      0.75        55\n",
      "\n"
     ]
    },
    {
     "name": "stderr",
     "output_type": "stream",
     "text": [
      "/Users/vickyyounang/opt/anaconda3/lib/python3.7/site-packages/sklearn/utils/deprecation.py:87: FutureWarning: Function plot_confusion_matrix is deprecated; Function `plot_confusion_matrix` is deprecated in 1.0 and will be removed in 1.2. Use one of the class methods: ConfusionMatrixDisplay.from_predictions or ConfusionMatrixDisplay.from_estimator.\n",
      "  warnings.warn(msg, category=FutureWarning)\n"
     ]
    },
    {
     "data": {
      "image/png": "[encoded data removed]",
      "text/plain": [
       "<Figure size 432x288 with 2 Axes>"
      ]
     },
     "metadata": {
      "needs_background": "light"
     },
     "output_type": "display_data"
    }
   ],
   "source": [
    "# text and title modified\n",
    "pp_pa=pp_pass()\n",
    "pp_pa.fit(Xbt2_train,ybt2_train)\n",
    "predictionsbt=pp_pa.predict(Xbt2_test)\n",
    "\n",
    "print(classification_report(ybt2_test, predictionsbt))\n",
    "plot_confusion_matrix(pp_pa, Xbt2_test, ybt2_test)  \n",
    "plt.show()"
   ]
  },
  {
   "cell_type": "markdown",
   "metadata": {},
   "source": [
    "#### Without text preprocessing, let's see how it goes"
   ]
  },
  {
   "cell_type": "code",
   "execution_count": null,
   "metadata": {},
   "outputs": [],
   "source": [
    "# let's see without text preprocessing\n",
    "# on the title data"
   ]
  },
  {
   "cell_type": "code",
   "execution_count": 174,
   "metadata": {},
   "outputs": [
    {
     "name": "stdout",
     "output_type": "stream",
     "text": [
      "              precision    recall  f1-score   support\n",
      "\n",
      "        fake       0.79      0.82      0.81        28\n",
      "        real       0.81      0.78      0.79        27\n",
      "\n",
      "    accuracy                           0.80        55\n",
      "   macro avg       0.80      0.80      0.80        55\n",
      "weighted avg       0.80      0.80      0.80        55\n",
      "\n"
     ]
    },
    {
     "name": "stderr",
     "output_type": "stream",
     "text": [
      "/Users/vickyyounang/opt/anaconda3/lib/python3.7/site-packages/sklearn/utils/deprecation.py:87: FutureWarning: Function plot_confusion_matrix is deprecated; Function `plot_confusion_matrix` is deprecated in 1.0 and will be removed in 1.2. Use one of the class methods: ConfusionMatrixDisplay.from_predictions or ConfusionMatrixDisplay.from_estimator.\n",
      "  warnings.warn(msg, category=FutureWarning)\n"
     ]
    },
    {
     "data": {
      "image/png": "[encoded data removed]",
      "text/plain": [
       "<Figure size 432x288 with 2 Axes>"
      ]
     },
     "metadata": {
      "needs_background": "light"
     },
     "output_type": "display_data"
    }
   ],
   "source": [
    "# on the title data\n",
    "pp_pa = pp_pass()\n",
    "pp_pa.fit(Xt1_train,yt1_train)\n",
    "predictionstt1=pp_pa.predict(Xt1_test)\n",
    "\n",
    "print(classification_report(yt1_test, predictionstt1))\n",
    "plot_confusion_matrix(pp_pa, Xt1_test, yt1_test)  \n",
    "plt.show()"
   ]
  },
  {
   "cell_type": "code",
   "execution_count": null,
   "metadata": {},
   "outputs": [],
   "source": []
  },
  {
   "cell_type": "code",
   "execution_count": 177,
   "metadata": {},
   "outputs": [
    {
     "name": "stdout",
     "output_type": "stream",
     "text": [
      "              precision    recall  f1-score   support\n",
      "\n",
      "        fake       0.79      0.68      0.73        28\n",
      "        real       0.71      0.81      0.76        27\n",
      "\n",
      "    accuracy                           0.75        55\n",
      "   macro avg       0.75      0.75      0.74        55\n",
      "weighted avg       0.75      0.75      0.74        55\n",
      "\n"
     ]
    },
    {
     "name": "stderr",
     "output_type": "stream",
     "text": [
      "/Users/vickyyounang/opt/anaconda3/lib/python3.7/site-packages/sklearn/utils/deprecation.py:87: FutureWarning: Function plot_confusion_matrix is deprecated; Function `plot_confusion_matrix` is deprecated in 1.0 and will be removed in 1.2. Use one of the class methods: ConfusionMatrixDisplay.from_predictions or ConfusionMatrixDisplay.from_estimator.\n",
      "  warnings.warn(msg, category=FutureWarning)\n"
     ]
    },
    {
     "data": {
      "image/png": "[encoded data removed]",
      "text/plain": [
       "<Figure size 432x288 with 2 Axes>"
      ]
     },
     "metadata": {
      "needs_background": "light"
     },
     "output_type": "display_data"
    }
   ],
   "source": [
    "# on the BODY data\n",
    "pp_pa = pp_pass()\n",
    "pp_pa.fit(Xb1_train,yb1_train)\n",
    "predictionstt1=pp_pa.predict(Xb1_test)\n",
    "\n",
    "print(classification_report(yb1_test, predictionstt1))\n",
    "plot_confusion_matrix(pp_pa, Xb1_test, yb1_test)  \n",
    "plt.show()"
   ]
  },
  {
   "cell_type": "code",
   "execution_count": 178,
   "metadata": {},
   "outputs": [
    {
     "name": "stdout",
     "output_type": "stream",
     "text": [
      "              precision    recall  f1-score   support\n",
      "\n",
      "        fake       0.84      0.75      0.79        28\n",
      "        real       0.77      0.85      0.81        27\n",
      "\n",
      "    accuracy                           0.80        55\n",
      "   macro avg       0.80      0.80      0.80        55\n",
      "weighted avg       0.80      0.80      0.80        55\n",
      "\n"
     ]
    },
    {
     "name": "stderr",
     "output_type": "stream",
     "text": [
      "/Users/vickyyounang/opt/anaconda3/lib/python3.7/site-packages/sklearn/utils/deprecation.py:87: FutureWarning: Function plot_confusion_matrix is deprecated; Function `plot_confusion_matrix` is deprecated in 1.0 and will be removed in 1.2. Use one of the class methods: ConfusionMatrixDisplay.from_predictions or ConfusionMatrixDisplay.from_estimator.\n",
      "  warnings.warn(msg, category=FutureWarning)\n"
     ]
    },
    {
     "data": {
      "image/png": "[encoded data removed]",
      "text/plain": [
       "<Figure size 432x288 with 2 Axes>"
      ]
     },
     "metadata": {
      "needs_background": "light"
     },
     "output_type": "display_data"
    }
   ],
   "source": [
    "# on the BODY @ title data\n",
    "pp_pa = pp_pass()\n",
    "pp_pa.fit(Xbt1_train,ybt1_train)\n",
    "predictionstt1=pp_pa.predict(Xbt1_test)\n",
    "\n",
    "print(classification_report(ybt1_test, predictionstt1))\n",
    "plot_confusion_matrix(pp_pa, Xbt1_test, ybt1_test)  \n",
    "plt.show()"
   ]
  },
  {
   "cell_type": "code",
   "execution_count": 220,
   "metadata": {},
   "outputs": [
    {
     "name": "stdout",
     "output_type": "stream",
     "text": [
      "              precision    recall  f1-score   support\n",
      "\n",
      "        fake       0.84      0.75      0.79        28\n",
      "        real       0.77      0.85      0.81        27\n",
      "\n",
      "    accuracy                           0.80        55\n",
      "   macro avg       0.80      0.80      0.80        55\n",
      "weighted avg       0.80      0.80      0.80        55\n",
      "\n"
     ]
    },
    {
     "name": "stderr",
     "output_type": "stream",
     "text": [
      "/Users/vickyyounang/opt/anaconda3/lib/python3.7/site-packages/sklearn/utils/deprecation.py:87: FutureWarning: Function plot_confusion_matrix is deprecated; Function `plot_confusion_matrix` is deprecated in 1.0 and will be removed in 1.2. Use one of the class methods: ConfusionMatrixDisplay.from_predictions or ConfusionMatrixDisplay.from_estimator.\n",
      "  warnings.warn(msg, category=FutureWarning)\n"
     ]
    },
    {
     "data": {
      "image/png": "[encoded data removed]",
      "text/plain": [
       "<Figure size 432x288 with 2 Axes>"
      ]
     },
     "metadata": {
      "needs_background": "light"
     },
     "output_type": "display_data"
    }
   ],
   "source": [
    "# on the BODY @ title data MODIFIED\n",
    "pp_pa = pp_pass()\n",
    "pp_pa.fit(Xbt21_train,ybt21_train)\n",
    "predictionstt1=pp_pa.predict(Xbt21_test)\n",
    "\n",
    "print(classification_report(ybt21_test, predictionstt1))\n",
    "plot_confusion_matrix(pp_pa, Xbt21_test, ybt21_test)  \n",
    "plt.show()"
   ]
  },
  {
   "cell_type": "code",
   "execution_count": 217,
   "metadata": {},
   "outputs": [
    {
     "data": {
      "text/plain": [
       "{'memory': None,\n",
       " 'steps': [('bow', CountVectorizer()),\n",
       "  ('tfidf', TfidfTransformer()),\n",
       "  ('classifier', PassiveAggressiveClassifier())],\n",
       " 'verbose': False,\n",
       " 'bow': CountVectorizer(),\n",
       " 'tfidf': TfidfTransformer(),\n",
       " 'classifier': PassiveAggressiveClassifier(),\n",
       " 'bow__analyzer': 'word',\n",
       " 'bow__binary': False,\n",
       " 'bow__decode_error': 'strict',\n",
       " 'bow__dtype': numpy.int64,\n",
       " 'bow__encoding': 'utf-8',\n",
       " 'bow__input': 'content',\n",
       " 'bow__lowercase': True,\n",
       " 'bow__max_df': 1.0,\n",
       " 'bow__max_features': None,\n",
       " 'bow__min_df': 1,\n",
       " 'bow__ngram_range': (1, 1),\n",
       " 'bow__preprocessor': None,\n",
       " 'bow__stop_words': None,\n",
       " 'bow__strip_accents': None,\n",
       " 'bow__token_pattern': '(?u)\\\\b\\\\w\\\\w+\\\\b',\n",
       " 'bow__tokenizer': None,\n",
       " 'bow__vocabulary': None,\n",
       " 'tfidf__norm': 'l2',\n",
       " 'tfidf__smooth_idf': True,\n",
       " 'tfidf__sublinear_tf': False,\n",
       " 'tfidf__use_idf': True,\n",
       " 'classifier__C': 1.0,\n",
       " 'classifier__average': False,\n",
       " 'classifier__class_weight': None,\n",
       " 'classifier__early_stopping': False,\n",
       " 'classifier__fit_intercept': True,\n",
       " 'classifier__loss': 'hinge',\n",
       " 'classifier__max_iter': 1000,\n",
       " 'classifier__n_iter_no_change': 5,\n",
       " 'classifier__n_jobs': None,\n",
       " 'classifier__random_state': None,\n",
       " 'classifier__shuffle': True,\n",
       " 'classifier__tol': 0.001,\n",
       " 'classifier__validation_fraction': 0.1,\n",
       " 'classifier__verbose': 0,\n",
       " 'classifier__warm_start': False}"
      ]
     },
     "execution_count": 217,
     "metadata": {},
     "output_type": "execute_result"
    }
   ],
   "source": [
    "# params of the passive agressive\n",
    "pp_pa.get_params()"
   ]
  },
  {
   "cell_type": "code",
   "execution_count": null,
   "metadata": {},
   "outputs": [],
   "source": []
  },
  {
   "cell_type": "code",
   "execution_count": null,
   "metadata": {},
   "outputs": [],
   "source": []
  },
  {
   "cell_type": "markdown",
   "metadata": {},
   "source": [
    "#### Random Forest recall improvement\n",
    "we noticed that, for the classification based on title, almost all classifiers have a poor recall score on real and precision on fake data and vice versa. RF also has poor scores for classification based on body for eg as well.\n",
    "we will try to increase the recall on real news "
   ]
  },
  {
   "cell_type": "code",
   "execution_count": 219,
   "metadata": {},
   "outputs": [
    {
     "data": {
      "text/plain": [
       "{'bootstrap': True,\n",
       " 'ccp_alpha': 0.0,\n",
       " 'class_weight': None,\n",
       " 'criterion': 'gini',\n",
       " 'max_depth': None,\n",
       " 'max_features': 'auto',\n",
       " 'max_leaf_nodes': None,\n",
       " 'max_samples': None,\n",
       " 'min_impurity_decrease': 0.0,\n",
       " 'min_samples_leaf': 1,\n",
       " 'min_samples_split': 2,\n",
       " 'min_weight_fraction_leaf': 0.0,\n",
       " 'n_estimators': 100,\n",
       " 'n_jobs': None,\n",
       " 'oob_score': False,\n",
       " 'random_state': None,\n",
       " 'verbose': 0,\n",
       " 'warm_start': False}"
      ]
     },
     "execution_count": 219,
     "metadata": {},
     "output_type": "execute_result"
    }
   ],
   "source": [
    "pprf.named_steps['classifier'].get_params()"
   ]
  },
  {
   "cell_type": "code",
   "execution_count": 172,
   "metadata": {},
   "outputs": [],
   "source": [
    "# RF parameter tuning\n",
    "# let's change n_estimators to 200 and random state to 0\n",
    "def pipeL_rf_200():\n",
    "    pp=Pipeline([\n",
    "        ('bow',CountVectorizer()),\n",
    "        ('tfidf',TfidfTransformer()),\n",
    "        ('classifier',RandomForestClassifier(n_estimators=200, random_state=0 ))\n",
    "        ])\n",
    "    return pp"
   ]
  },
  {
   "cell_type": "code",
   "execution_count": 205,
   "metadata": {},
   "outputs": [
    {
     "name": "stdout",
     "output_type": "stream",
     "text": [
      "title\n",
      "              precision    recall  f1-score   support\n",
      "\n",
      "        fake       0.87      0.46      0.60        28\n",
      "        real       0.62      0.93      0.75        27\n",
      "\n",
      "    accuracy                           0.69        55\n",
      "   macro avg       0.75      0.70      0.68        55\n",
      "weighted avg       0.75      0.69      0.67        55\n",
      "\n",
      "body\n",
      "              precision    recall  f1-score   support\n",
      "\n",
      "        fake       0.77      0.82      0.79        28\n",
      "        real       0.80      0.74      0.77        27\n",
      "\n",
      "    accuracy                           0.78        55\n",
      "   macro avg       0.78      0.78      0.78        55\n",
      "weighted avg       0.78      0.78      0.78        55\n",
      "\n",
      "body and title\n",
      "              precision    recall  f1-score   support\n",
      "\n",
      "        fake       0.80      0.86      0.83        28\n",
      "        real       0.84      0.78      0.81        27\n",
      "\n",
      "    accuracy                           0.82        55\n",
      "   macro avg       0.82      0.82      0.82        55\n",
      "weighted avg       0.82      0.82      0.82        55\n",
      "\n",
      "body + body and title\n",
      "              precision    recall  f1-score   support\n",
      "\n",
      "        fake       0.77      0.82      0.79        28\n",
      "        real       0.80      0.74      0.77        27\n",
      "\n",
      "    accuracy                           0.78        55\n",
      "   macro avg       0.78      0.78      0.78        55\n",
      "weighted avg       0.78      0.78      0.78        55\n",
      "\n"
     ]
    }
   ],
   "source": [
    "# test on title processed\n",
    "print(\"title\")\n",
    "pp200=pipeL_rf_200()\n",
    "pp200.fit(Xt_train,yt_train)\n",
    "# predicting the articles in the test set\n",
    "predictions2=pp200.predict(Xt_test)\n",
    "print(classification_report(yt_test, predictions2))\n",
    "#plot_confusion_matrix(pp200, Xt_test, yt_test)  \n",
    "#plt.show()\n",
    "\n",
    "print(\"body\")\n",
    "# body preprocesszd\n",
    "pp200=pipeL_rf_200()\n",
    "pp200.fit(Xb_train,yb_train)\n",
    "# predicting the articles in the test set\n",
    "predictions2=pp200.predict(Xb_test)\n",
    "print(classification_report(yb_test, predictions2))\n",
    "#plot_confusion_matrix(pp200, Xb_test, yb_test)  \n",
    "#plt.show()\n",
    "\n",
    "print(\"body and title\")\n",
    "# # text and title processed\n",
    "pp200=pipeL_rf_200()\n",
    "pp200.fit(Xbt_train,ybt_train)\n",
    "# predicting the articles in the test set\n",
    "predictions2=pp200.predict(Xbt_test)\n",
    "print(classification_report(ybt_test, predictions2))\n",
    "#plot_confusion_matrix(pp200, Xbt_test, ybt_test)  \n",
    "#plt.show()\n",
    "\n",
    "\n",
    "print(\"body + body and title\")\n",
    " # text and title processed modified\n",
    "pp200=pipeL_rf_200()\n",
    "pp200.fit(Xbt2_train,ybt2_train)\n",
    "# predicting the articles in the test set\n",
    "predictions2=pp200.predict(Xbt2_test)\n",
    "print(classification_report(ybt2_test, predictions2))\n",
    "#plot_confusion_matrix(pp200, Xbt2_test, ybt2_test)  \n",
    "#plt.show()\n",
    "\n"
   ]
  },
  {
   "cell_type": "code",
   "execution_count": null,
   "metadata": {},
   "outputs": [],
   "source": [
    "# we still feel like the precision and recall of the REAL VALues is still relatively low, ans precision of real low for the title\n"
   ]
  },
  {
   "cell_type": "code",
   "execution_count": 187,
   "metadata": {},
   "outputs": [],
   "source": [
    "# RF parameter tuning\n",
    "# let's change n_estimators to 200 and random state to 0\n",
    "def pipeL_rf_300():\n",
    "    pp=Pipeline([\n",
    "        ('bow',CountVectorizer()),\n",
    "        ('tfidf',TfidfTransformer()),\n",
    "        ('classifier',RandomForestClassifier(n_estimators=300, random_state=0, class_weight='balanced_subsample' ))\n",
    "        ])\n",
    "    return pp\n"
   ]
  },
  {
   "cell_type": "code",
   "execution_count": 188,
   "metadata": {},
   "outputs": [
    {
     "name": "stdout",
     "output_type": "stream",
     "text": [
      "title data\n",
      "              precision    recall  f1-score   support\n",
      "\n",
      "        fake       0.83      0.36      0.50        28\n",
      "        real       0.58      0.93      0.71        27\n",
      "\n",
      "    accuracy                           0.64        55\n",
      "   macro avg       0.71      0.64      0.61        55\n",
      "weighted avg       0.71      0.64      0.61        55\n",
      "\n",
      "body data\n",
      "              precision    recall  f1-score   support\n",
      "\n",
      "        fake       0.81      0.93      0.87        28\n",
      "        real       0.91      0.78      0.84        27\n",
      "\n",
      "    accuracy                           0.85        55\n",
      "   macro avg       0.86      0.85      0.85        55\n",
      "weighted avg       0.86      0.85      0.85        55\n",
      "\n",
      "body and title data\n",
      "              precision    recall  f1-score   support\n",
      "\n",
      "        fake       0.80      0.86      0.83        28\n",
      "        real       0.84      0.78      0.81        27\n",
      "\n",
      "    accuracy                           0.82        55\n",
      "   macro avg       0.82      0.82      0.82        55\n",
      "weighted avg       0.82      0.82      0.82        55\n",
      "\n",
      "body + body and title data\n",
      "              precision    recall  f1-score   support\n",
      "\n",
      "        fake       0.81      0.89      0.85        28\n",
      "        real       0.88      0.78      0.82        27\n",
      "\n",
      "    accuracy                           0.84        55\n",
      "   macro avg       0.84      0.84      0.84        55\n",
      "weighted avg       0.84      0.84      0.84        55\n",
      "\n"
     ]
    }
   ],
   "source": [
    "# test on title processed\n",
    "pp200=pipeL_rf_300()\n",
    "pp200.fit(Xt_train,yt_train)\n",
    "# predicting the articles in the test set\n",
    "predictions2=pp200.predict(Xt_test)\n",
    "print(\"title data\")\n",
    "print(classification_report(yt_test, predictions2))\n",
    "#plot_confusion_matrix(pp200, Xt_test, yt_test)  \n",
    "#plt.show()\n",
    "\n",
    "print(\"body data\")\n",
    "# body preprocesszd\n",
    "pp200=pipeL_rf_300()\n",
    "pp200.fit(Xb_train,yb_train)\n",
    "# predicting the articles in the test set\n",
    "predictions2=pp200.predict(Xb_test)\n",
    "print(classification_report(yb_test, predictions2))\n",
    "#plot_confusion_matrix(pp200, Xb_test, yb_test)  \n",
    "#plt.show()\n",
    "\n",
    "print(\"body and title data\")\n",
    "# # text and title processed\n",
    "pp200=pipeL_rf_300()\n",
    "pp200.fit(Xbt_train,ybt_train)\n",
    "# predicting the articles in the test set\n",
    "predictions2=pp200.predict(Xbt_test)\n",
    "print(classification_report(ybt_test, predictions2))\n",
    "#plot_confusion_matrix(pp200, Xbt_test, ybt_test)  \n",
    "#plt.show()\n",
    "\n",
    "print(\"body + body and title data\")\n",
    " # text and title processed modified\n",
    "pp200=pipeL_rf_300()\n",
    "pp200.fit(Xbt2_train,ybt2_train)\n",
    "# predicting the articles in the test set\n",
    "predictions2=pp200.predict(Xbt2_test)\n",
    "print(classification_report(ybt2_test, predictions2))\n",
    "#plot_confusion_matrix(pp200, Xbt2_test, ybt2_test)  \n",
    "#plt.show()\n"
   ]
  },
  {
   "cell_type": "code",
   "execution_count": null,
   "metadata": {},
   "outputs": [],
   "source": [
    "# random forest with CV\n",
    "# Use the random grid to search for best hyperparameters\n"
   ]
  },
  {
   "cell_type": "code",
   "execution_count": null,
   "metadata": {},
   "outputs": [],
   "source": []
  },
  {
   "cell_type": "code",
   "execution_count": 182,
   "metadata": {},
   "outputs": [
    {
     "data": {
      "text/plain": [
       "{'bootstrap': True,\n",
       " 'ccp_alpha': 0.0,\n",
       " 'class_weight': 'balanced_subsample',\n",
       " 'criterion': 'gini',\n",
       " 'max_depth': None,\n",
       " 'max_features': 'auto',\n",
       " 'max_leaf_nodes': None,\n",
       " 'max_samples': None,\n",
       " 'min_impurity_decrease': 0.0,\n",
       " 'min_samples_leaf': 1,\n",
       " 'min_samples_split': 2,\n",
       " 'min_weight_fraction_leaf': 0.0,\n",
       " 'n_estimators': 300,\n",
       " 'n_jobs': None,\n",
       " 'oob_score': False,\n",
       " 'random_state': 0,\n",
       " 'verbose': 0,\n",
       " 'warm_start': False}"
      ]
     },
     "execution_count": 182,
     "metadata": {},
     "output_type": "execute_result"
    }
   ],
   "source": [
    "pp200.named_steps['classifier'].get_params()"
   ]
  },
  {
   "cell_type": "code",
   "execution_count": 202,
   "metadata": {},
   "outputs": [],
   "source": [
    "param_grid = {\n",
    "     'classifier__n_estimators': [100,200,300,400],\n",
    "     'classifier__random_state':[0],\n",
    "     'classifier__class_weight': ['balanced_subsample']\n",
    "     #'classifier__colsample_bytree': [0.6],\n",
    "     #'classifier__subsample': [0.5, 0.6, 0.7]\n",
    "}"
   ]
  },
  {
   "cell_type": "code",
   "execution_count": 203,
   "metadata": {},
   "outputs": [],
   "source": [
    "# grid search cross validation instantiation\n",
    "pprf=pipeL_rf()\n",
    "grid_search = GridSearchCV(estimator = pprf, param_grid = param_grid, \n",
    "                          cv = 10, n_jobs = 1, verbose = 0, return_train_score=True)"
   ]
  },
  {
   "cell_type": "code",
   "execution_count": 204,
   "metadata": {},
   "outputs": [
    {
     "name": "stdout",
     "output_type": "stream",
     "text": [
      " \n",
      "title data\n",
      "train scores\n",
      "[1. 1. 1. 1.]\n",
      "validation scores\n",
      "[0.61474359 0.60641026 0.60641026 0.61410256]\n",
      "{'classifier__class_weight': 'balanced_subsample', 'classifier__n_estimators': 100, 'classifier__random_state': 0}\n",
      "              precision    recall  f1-score   support\n",
      "\n",
      "        fake       0.91      0.36      0.51        28\n",
      "        real       0.59      0.96      0.73        27\n",
      "\n",
      "    accuracy                           0.65        55\n",
      "   macro avg       0.75      0.66      0.62        55\n",
      "weighted avg       0.75      0.65      0.62        55\n",
      "\n",
      " \n",
      "body data\n",
      "train scores\n",
      "[1. 1. 1. 1.]\n",
      "validation scores\n",
      "[0.73269231 0.76410256 0.74807692 0.75576923]\n",
      "{'classifier__class_weight': 'balanced_subsample', 'classifier__n_estimators': 200, 'classifier__random_state': 0}\n",
      "              precision    recall  f1-score   support\n",
      "\n",
      "        fake       0.80      0.86      0.83        28\n",
      "        real       0.84      0.78      0.81        27\n",
      "\n",
      "    accuracy                           0.82        55\n",
      "   macro avg       0.82      0.82      0.82        55\n",
      "weighted avg       0.82      0.82      0.82        55\n",
      "\n",
      " \n",
      "body and title data\n",
      "train scores\n",
      "[1. 1. 1. 1.]\n",
      "validation scores\n",
      "[0.79615385 0.78012821 0.77948718 0.76410256]\n",
      "{'classifier__class_weight': 'balanced_subsample', 'classifier__n_estimators': 100, 'classifier__random_state': 0}\n",
      "              precision    recall  f1-score   support\n",
      "\n",
      "        fake       0.80      0.86      0.83        28\n",
      "        real       0.84      0.78      0.81        27\n",
      "\n",
      "    accuracy                           0.82        55\n",
      "   macro avg       0.82      0.82      0.82        55\n",
      "weighted avg       0.82      0.82      0.82        55\n",
      "\n",
      " \n",
      "body + body and title data\n",
      "train scores\n",
      "[1. 1. 1. 1.]\n",
      "validation scores\n",
      "[0.76346154 0.72371795 0.74679487 0.76346154]\n",
      "{'classifier__class_weight': 'balanced_subsample', 'classifier__n_estimators': 400, 'classifier__random_state': 0}\n",
      "              precision    recall  f1-score   support\n",
      "\n",
      "        fake       0.81      0.89      0.85        28\n",
      "        real       0.88      0.78      0.82        27\n",
      "\n",
      "    accuracy                           0.84        55\n",
      "   macro avg       0.84      0.84      0.84        55\n",
      "weighted avg       0.84      0.84      0.84        55\n",
      "\n"
     ]
    }
   ],
   "source": [
    "# test on title processed\n",
    "print(\" \")\n",
    "print(\"title data\")\n",
    "grid_search.fit(Xt_train, yt_train)\n",
    "print('train scores') \n",
    "print(grid_search.cv_results_['mean_train_score'])\n",
    "print('validation scores') \n",
    "# validation scores\n",
    "print(grid_search.cv_results_['mean_test_score'])\n",
    "print(grid_search.best_params_)\n",
    "# creating a classifier with the best param to predict the test set and see if we are not overfiiting\n",
    "pprf_test = grid_search.best_estimator_\n",
    "predictionsrf=pprf_test.predict(Xt_test)\n",
    "print(classification_report(yt_test, predictionsrf))\n",
    "#plot_confusion_matrix(pp200, Xt_test, yt_test)  \n",
    "#plt.show()\n",
    "\n",
    "print(\" \")\n",
    "print(\"body data\")\n",
    "# body preprocesszd\n",
    "grid_search.fit(Xb_train, yb_train)\n",
    "print('train scores') \n",
    "print(grid_search.cv_results_['mean_train_score'])\n",
    "print('validation scores') \n",
    "# validation scores\n",
    "print(grid_search.cv_results_['mean_test_score'])\n",
    "print(grid_search.best_params_)\n",
    "# creating a classifier with the best param to predict the test set and see if we are not overfiiting\n",
    "pprf_test = grid_search.best_estimator_\n",
    "predictionsrf=pprf_test.predict(Xb_test)\n",
    "print(classification_report(yb_test, predictionsrf))\n",
    "\n",
    "print(\" \")\n",
    "print(\"body and title data\")\n",
    "# # text and title processed\n",
    "grid_search.fit(Xbt_train, ybt_train)\n",
    "print('train scores') \n",
    "print(grid_search.cv_results_['mean_train_score'])\n",
    "print('validation scores') \n",
    "# validation scores\n",
    "print(grid_search.cv_results_['mean_test_score'])\n",
    "print(grid_search.best_params_)\n",
    "# creating a classifier with the best param to predict the test set and see if we are not overfiiting\n",
    "pprf_test = grid_search.best_estimator_\n",
    "predictionsrf=pprf_test.predict(Xbt_test)\n",
    "print(classification_report(ybt_test, predictionsrf))\n",
    "#plot_confusion_matrix(pp200, Xbt_test, ybt_test)  \n",
    "#plt.show()\n",
    "\n",
    "print(\" \")\n",
    "print(\"body + body and title data\")\n",
    " # text and title processed modified\n",
    "grid_search.fit(Xbt2_train, ybt2_train)\n",
    "print('train scores') \n",
    "print(grid_search.cv_results_['mean_train_score'])\n",
    "print('validation scores') \n",
    "# validation scores\n",
    "print(grid_search.cv_results_['mean_test_score'])\n",
    "print(grid_search.best_params_)\n",
    "# creating a classifier with the best param to predict the test set and see if we are not overfiiting\n",
    "pprf_test = grid_search.best_estimator_\n",
    "predictionsrf=pprf_test.predict(Xbt2_test)\n",
    "print(classification_report(ybt2_test, predictionsrf))\n",
    "#plot_confusion_matrix(pp200, Xbt2_test, ybt2_test)  \n",
    "#plt.show()\n"
   ]
  },
  {
   "cell_type": "code",
   "execution_count": null,
   "metadata": {},
   "outputs": [],
   "source": []
  },
  {
   "cell_type": "code",
   "execution_count": null,
   "metadata": {},
   "outputs": [],
   "source": []
  },
  {
   "cell_type": "code",
   "execution_count": null,
   "metadata": {},
   "outputs": [],
   "source": [
    " "
   ]
  }
 ],
 "metadata": {
  "kernelspec": {
   "display_name": "Python 3",
   "language": "python",
   "name": "python3"
  },
  "language_info": {
   "codemirror_mode": {
    "name": "ipython",
    "version": 3
   },
   "file_extension": ".py",
   "mimetype": "text/x-python",
   "name": "python",
   "nbconvert_exporter": "python",
   "pygments_lexer": "ipython3",
   "version": "3.7.4"
  }
 },
 "nbformat": 4,
 "nbformat_minor": 2
}
